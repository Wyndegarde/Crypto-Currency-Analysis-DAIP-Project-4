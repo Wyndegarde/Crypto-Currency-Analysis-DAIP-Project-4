{
  "nbformat": 4,
  "nbformat_minor": 0,
  "metadata": {
    "colab": {
      "name": "Final draft LSTM.ipynb",
      "provenance": [],
      "collapsed_sections": [],
      "mount_file_id": "1Vg09QzUCo7rKiL44eHU95RPw3eab2E21",
      "authorship_tag": "ABX9TyN7mJzqVf3rymAVHfyvzvTU",
      "include_colab_link": true
    },
    "kernelspec": {
      "name": "python3",
      "display_name": "Python 3"
    },
    "accelerator": "GPU"
  },
  "cells": [
    {
      "cell_type": "markdown",
      "metadata": {
        "id": "view-in-github",
        "colab_type": "text"
      },
      "source": [
        "<a href=\"https://colab.research.google.com/github/Wyndegarde/DAIP-Project-4/blob/main/Final_draft_LSTM.ipynb\" target=\"_parent\"><img src=\"https://colab.research.google.com/assets/colab-badge.svg\" alt=\"Open In Colab\"/></a>"
      ]
    },
    {
      "cell_type": "markdown",
      "metadata": {
        "id": "H9lqmoi7OgPp"
      },
      "source": [
        "# Importing packages and dataset\r\n",
        "1. Import all packages used\r\n",
        "2. Read in latest bitcoin prices from Yahoo Finance\r\n",
        "3. Visualise Bitcoin price through time"
      ]
    },
    {
      "cell_type": "code",
      "metadata": {
        "id": "_gKrwzSFwa6v"
      },
      "source": [
        "import math\r\n",
        "import pandas_datareader as web\r\n",
        "import numpy as np\r\n",
        "import pandas as pd\r\n",
        "from sklearn.preprocessing import MinMaxScaler\r\n",
        "from keras.metrics import RootMeanSquaredError\r\n",
        "from keras.models import Sequential\r\n",
        "from keras.layers import Dense, LSTM\r\n",
        "from keras.layers import Dropout\r\n",
        "import matplotlib.pyplot as plt\r\n",
        "import os \r\n",
        "import keras \r\n",
        "plt.style.use('fivethirtyeight')"
      ],
      "execution_count": null,
      "outputs": []
    },
    {
      "cell_type": "code",
      "metadata": {
        "colab": {
          "base_uri": "https://localhost:8080/",
          "height": 450
        },
        "id": "OLZK3jNlwxmb",
        "outputId": "ea91221f-1656-44c4-b0b7-d1c7313c0c51"
      },
      "source": [
        "# Get the stock quote\r\n",
        "df = web.DataReader(\"BTC-USD\",data_source = 'yahoo',start = '2013-04-28', end = '2021-02-24')\r\n",
        "# show the data \r\n",
        "df"
      ],
      "execution_count": null,
      "outputs": [
        {
          "output_type": "execute_result",
          "data": {
            "text/html": [
              "<div>\n",
              "<style scoped>\n",
              "    .dataframe tbody tr th:only-of-type {\n",
              "        vertical-align: middle;\n",
              "    }\n",
              "\n",
              "    .dataframe tbody tr th {\n",
              "        vertical-align: top;\n",
              "    }\n",
              "\n",
              "    .dataframe thead th {\n",
              "        text-align: right;\n",
              "    }\n",
              "</style>\n",
              "<table border=\"1\" class=\"dataframe\">\n",
              "  <thead>\n",
              "    <tr style=\"text-align: right;\">\n",
              "      <th></th>\n",
              "      <th>High</th>\n",
              "      <th>Low</th>\n",
              "      <th>Open</th>\n",
              "      <th>Close</th>\n",
              "      <th>Volume</th>\n",
              "      <th>Adj Close</th>\n",
              "    </tr>\n",
              "    <tr>\n",
              "      <th>Date</th>\n",
              "      <th></th>\n",
              "      <th></th>\n",
              "      <th></th>\n",
              "      <th></th>\n",
              "      <th></th>\n",
              "      <th></th>\n",
              "    </tr>\n",
              "  </thead>\n",
              "  <tbody>\n",
              "    <tr>\n",
              "      <th>2014-09-16</th>\n",
              "      <td>468.174011</td>\n",
              "      <td>452.421997</td>\n",
              "      <td>465.864014</td>\n",
              "      <td>457.334015</td>\n",
              "      <td>2.105680e+07</td>\n",
              "      <td>457.334015</td>\n",
              "    </tr>\n",
              "    <tr>\n",
              "      <th>2014-09-17</th>\n",
              "      <td>456.859985</td>\n",
              "      <td>413.104004</td>\n",
              "      <td>456.859985</td>\n",
              "      <td>424.440002</td>\n",
              "      <td>3.448320e+07</td>\n",
              "      <td>424.440002</td>\n",
              "    </tr>\n",
              "    <tr>\n",
              "      <th>2014-09-18</th>\n",
              "      <td>427.834991</td>\n",
              "      <td>384.532013</td>\n",
              "      <td>424.102997</td>\n",
              "      <td>394.795990</td>\n",
              "      <td>3.791970e+07</td>\n",
              "      <td>394.795990</td>\n",
              "    </tr>\n",
              "    <tr>\n",
              "      <th>2014-09-19</th>\n",
              "      <td>423.295990</td>\n",
              "      <td>389.882996</td>\n",
              "      <td>394.673004</td>\n",
              "      <td>408.903992</td>\n",
              "      <td>3.686360e+07</td>\n",
              "      <td>408.903992</td>\n",
              "    </tr>\n",
              "    <tr>\n",
              "      <th>2014-09-20</th>\n",
              "      <td>412.425995</td>\n",
              "      <td>393.181000</td>\n",
              "      <td>408.084991</td>\n",
              "      <td>398.821014</td>\n",
              "      <td>2.658010e+07</td>\n",
              "      <td>398.821014</td>\n",
              "    </tr>\n",
              "    <tr>\n",
              "      <th>...</th>\n",
              "      <td>...</td>\n",
              "      <td>...</td>\n",
              "      <td>...</td>\n",
              "      <td>...</td>\n",
              "      <td>...</td>\n",
              "      <td>...</td>\n",
              "    </tr>\n",
              "    <tr>\n",
              "      <th>2021-02-21</th>\n",
              "      <td>58330.570312</td>\n",
              "      <td>55672.609375</td>\n",
              "      <td>56068.566406</td>\n",
              "      <td>57539.945312</td>\n",
              "      <td>5.189759e+10</td>\n",
              "      <td>57539.945312</td>\n",
              "    </tr>\n",
              "    <tr>\n",
              "      <th>2021-02-22</th>\n",
              "      <td>57533.390625</td>\n",
              "      <td>48967.566406</td>\n",
              "      <td>57532.738281</td>\n",
              "      <td>54207.320312</td>\n",
              "      <td>9.205242e+10</td>\n",
              "      <td>54207.320312</td>\n",
              "    </tr>\n",
              "    <tr>\n",
              "      <th>2021-02-23</th>\n",
              "      <td>54204.929688</td>\n",
              "      <td>45290.589844</td>\n",
              "      <td>54204.929688</td>\n",
              "      <td>48824.425781</td>\n",
              "      <td>1.061025e+11</td>\n",
              "      <td>48824.425781</td>\n",
              "    </tr>\n",
              "    <tr>\n",
              "      <th>2021-02-24</th>\n",
              "      <td>51290.136719</td>\n",
              "      <td>47213.500000</td>\n",
              "      <td>48835.085938</td>\n",
              "      <td>49705.332031</td>\n",
              "      <td>6.369552e+10</td>\n",
              "      <td>49705.332031</td>\n",
              "    </tr>\n",
              "    <tr>\n",
              "      <th>2021-02-25</th>\n",
              "      <td>51948.968750</td>\n",
              "      <td>47093.851562</td>\n",
              "      <td>49709.082031</td>\n",
              "      <td>47093.851562</td>\n",
              "      <td>5.450657e+10</td>\n",
              "      <td>47093.851562</td>\n",
              "    </tr>\n",
              "  </tbody>\n",
              "</table>\n",
              "<p>2350 rows × 6 columns</p>\n",
              "</div>"
            ],
            "text/plain": [
              "                    High           Low  ...        Volume     Adj Close\n",
              "Date                                    ...                            \n",
              "2014-09-16    468.174011    452.421997  ...  2.105680e+07    457.334015\n",
              "2014-09-17    456.859985    413.104004  ...  3.448320e+07    424.440002\n",
              "2014-09-18    427.834991    384.532013  ...  3.791970e+07    394.795990\n",
              "2014-09-19    423.295990    389.882996  ...  3.686360e+07    408.903992\n",
              "2014-09-20    412.425995    393.181000  ...  2.658010e+07    398.821014\n",
              "...                  ...           ...  ...           ...           ...\n",
              "2021-02-21  58330.570312  55672.609375  ...  5.189759e+10  57539.945312\n",
              "2021-02-22  57533.390625  48967.566406  ...  9.205242e+10  54207.320312\n",
              "2021-02-23  54204.929688  45290.589844  ...  1.061025e+11  48824.425781\n",
              "2021-02-24  51290.136719  47213.500000  ...  6.369552e+10  49705.332031\n",
              "2021-02-25  51948.968750  47093.851562  ...  5.450657e+10  47093.851562\n",
              "\n",
              "[2350 rows x 6 columns]"
            ]
          },
          "metadata": {
            "tags": []
          },
          "execution_count": 2
        }
      ]
    },
    {
      "cell_type": "code",
      "metadata": {
        "colab": {
          "base_uri": "https://localhost:8080/",
          "height": 235
        },
        "id": "TNGcZ2hcgpBK",
        "outputId": "af6d8e9d-f17f-4b41-cb8c-37fcf20a8cb4"
      },
      "source": [
        "df.tail()"
      ],
      "execution_count": null,
      "outputs": [
        {
          "output_type": "execute_result",
          "data": {
            "text/html": [
              "<div>\n",
              "<style scoped>\n",
              "    .dataframe tbody tr th:only-of-type {\n",
              "        vertical-align: middle;\n",
              "    }\n",
              "\n",
              "    .dataframe tbody tr th {\n",
              "        vertical-align: top;\n",
              "    }\n",
              "\n",
              "    .dataframe thead th {\n",
              "        text-align: right;\n",
              "    }\n",
              "</style>\n",
              "<table border=\"1\" class=\"dataframe\">\n",
              "  <thead>\n",
              "    <tr style=\"text-align: right;\">\n",
              "      <th></th>\n",
              "      <th>High</th>\n",
              "      <th>Low</th>\n",
              "      <th>Open</th>\n",
              "      <th>Close</th>\n",
              "      <th>Volume</th>\n",
              "      <th>Adj Close</th>\n",
              "    </tr>\n",
              "    <tr>\n",
              "      <th>Date</th>\n",
              "      <th></th>\n",
              "      <th></th>\n",
              "      <th></th>\n",
              "      <th></th>\n",
              "      <th></th>\n",
              "      <th></th>\n",
              "    </tr>\n",
              "  </thead>\n",
              "  <tbody>\n",
              "    <tr>\n",
              "      <th>2021-02-21</th>\n",
              "      <td>58330.570312</td>\n",
              "      <td>55672.609375</td>\n",
              "      <td>56068.566406</td>\n",
              "      <td>57539.945312</td>\n",
              "      <td>5.189759e+10</td>\n",
              "      <td>57539.945312</td>\n",
              "    </tr>\n",
              "    <tr>\n",
              "      <th>2021-02-22</th>\n",
              "      <td>57533.390625</td>\n",
              "      <td>48967.566406</td>\n",
              "      <td>57532.738281</td>\n",
              "      <td>54207.320312</td>\n",
              "      <td>9.205242e+10</td>\n",
              "      <td>54207.320312</td>\n",
              "    </tr>\n",
              "    <tr>\n",
              "      <th>2021-02-23</th>\n",
              "      <td>54204.929688</td>\n",
              "      <td>45290.589844</td>\n",
              "      <td>54204.929688</td>\n",
              "      <td>48824.425781</td>\n",
              "      <td>1.061025e+11</td>\n",
              "      <td>48824.425781</td>\n",
              "    </tr>\n",
              "    <tr>\n",
              "      <th>2021-02-24</th>\n",
              "      <td>51290.136719</td>\n",
              "      <td>47213.500000</td>\n",
              "      <td>48835.085938</td>\n",
              "      <td>49705.332031</td>\n",
              "      <td>6.369552e+10</td>\n",
              "      <td>49705.332031</td>\n",
              "    </tr>\n",
              "    <tr>\n",
              "      <th>2021-02-25</th>\n",
              "      <td>51948.968750</td>\n",
              "      <td>47093.851562</td>\n",
              "      <td>49709.082031</td>\n",
              "      <td>47093.851562</td>\n",
              "      <td>5.450657e+10</td>\n",
              "      <td>47093.851562</td>\n",
              "    </tr>\n",
              "  </tbody>\n",
              "</table>\n",
              "</div>"
            ],
            "text/plain": [
              "                    High           Low  ...        Volume     Adj Close\n",
              "Date                                    ...                            \n",
              "2021-02-21  58330.570312  55672.609375  ...  5.189759e+10  57539.945312\n",
              "2021-02-22  57533.390625  48967.566406  ...  9.205242e+10  54207.320312\n",
              "2021-02-23  54204.929688  45290.589844  ...  1.061025e+11  48824.425781\n",
              "2021-02-24  51290.136719  47213.500000  ...  6.369552e+10  49705.332031\n",
              "2021-02-25  51948.968750  47093.851562  ...  5.450657e+10  47093.851562\n",
              "\n",
              "[5 rows x 6 columns]"
            ]
          },
          "metadata": {
            "tags": []
          },
          "execution_count": 3
        }
      ]
    },
    {
      "cell_type": "code",
      "metadata": {
        "colab": {
          "base_uri": "https://localhost:8080/"
        },
        "id": "075BgsY1xfGu",
        "outputId": "77965918-caf6-4e9e-dc85-b21efd9de565"
      },
      "source": [
        "# get rows and columns\r\n",
        "df.shape"
      ],
      "execution_count": null,
      "outputs": [
        {
          "output_type": "execute_result",
          "data": {
            "text/plain": [
              "(2350, 6)"
            ]
          },
          "metadata": {
            "tags": []
          },
          "execution_count": 4
        }
      ]
    },
    {
      "cell_type": "code",
      "metadata": {
        "colab": {
          "base_uri": "https://localhost:8080/",
          "height": 535
        },
        "id": "1OBJG80MyuwW",
        "outputId": "12eb45ae-d689-4cdf-baab-548f505cd520"
      },
      "source": [
        "#Visualise the closing price history\r\n",
        "plt.figure(figsize = (16,8))\r\n",
        "plt.title('Close Price History')\r\n",
        "plt.plot(df[\"Close\"])\r\n",
        "plt.xlabel('Date',fontsize = 18)\r\n",
        "plt.ylabel('Close Price USD ($)')"
      ],
      "execution_count": null,
      "outputs": [
        {
          "output_type": "execute_result",
          "data": {
            "text/plain": [
              "Text(0, 0.5, 'Close Price USD ($)')"
            ]
          },
          "metadata": {
            "tags": []
          },
          "execution_count": 5
        },
        {
          "output_type": "display_data",
          "data": {
            "image/png": "[encoded data removed]",
            "text/plain": [
              "<Figure size 1152x576 with 1 Axes>"
            ]
          },
          "metadata": {
            "tags": [],
            "needs_background": "light"
          }
        }
      ]
    },
    {
      "cell_type": "markdown",
      "metadata": {
        "id": "qE4xQUKpE0Y4"
      },
      "source": [
        "# Creating the Training and Test data\r\n",
        "1. split the dataset into training and test set\r\n",
        "2. Split each set into x and y variables. \r\n",
        " - Where each x observation contains the previous 60 days of data.\r\n",
        " - And y is the price of the 61st day\r\n",
        "3. Scale independent variables of both training and test set. "
      ]
    },
    {
      "cell_type": "code",
      "metadata": {
        "colab": {
          "base_uri": "https://localhost:8080/"
        },
        "id": "1OWYl62dyut1",
        "outputId": "3393a19f-daea-467a-ea88-e208afbe9e8d"
      },
      "source": [
        "# Create a new dataframe with only closing price\r\n",
        "data = df.filter(['Close'])\r\n",
        "#Convert dataframe to a numpy array\r\n",
        "dataset = data.values\r\n",
        "# get number of rows to train model on\r\n",
        "training_data_len = math.ceil(len(dataset) * 0.8)\r\n",
        "\r\n",
        "training_data_len "
      ],
      "execution_count": null,
      "outputs": [
        {
          "output_type": "execute_result",
          "data": {
            "text/plain": [
              "1880"
            ]
          },
          "metadata": {
            "tags": []
          },
          "execution_count": 6
        }
      ]
    },
    {
      "cell_type": "code",
      "metadata": {
        "id": "NL14pm81013J"
      },
      "source": [
        "# Create training dataset\r\n",
        "train_data = dataset[0:training_data_len, ]"
      ],
      "execution_count": null,
      "outputs": []
    },
    {
      "cell_type": "code",
      "metadata": {
        "id": "BxHOzCwxuE9q"
      },
      "source": [
        "# Scale the training data\r\n",
        "scaler = MinMaxScaler(feature_range=(0,1))\r\n",
        "train_data = scaler.fit_transform(train_data)"
      ],
      "execution_count": null,
      "outputs": []
    },
    {
      "cell_type": "code",
      "metadata": {
        "colab": {
          "base_uri": "https://localhost:8080/"
        },
        "id": "9K0kQN69uE2l",
        "outputId": "dbacb66b-b684-4120-9750-4e4433da23b0"
      },
      "source": [
        "# Create the x and Y training values\r\n",
        "# X is the previous 60 days of bitcoin price\r\n",
        "# Y is the price of the current day (1 day after the 60 days)\r\n",
        "x_train = []\r\n",
        "y_train = []\r\n",
        "\r\n",
        "for i in range(60, len(train_data)): \r\n",
        "  x_train.append(train_data[i-60:i,0]) #\r\n",
        "  y_train.append(train_data[i,0])\r\n",
        "  if i <= 60:\r\n",
        "    print(x_train)\r\n",
        "    print(y_train)\r\n",
        "    print()"
      ],
      "execution_count": null,
      "outputs": [
        {
          "output_type": "stream",
          "text": [
            "[array([0.01445348, 0.01275083, 0.0112164 , 0.01194666, 0.01142474,\n",
            "       0.01159716, 0.01333837, 0.0126869 , 0.01208486, 0.01171481,\n",
            "       0.01146092, 0.01030462, 0.0102159 , 0.01080997, 0.01063765,\n",
            "       0.01019545, 0.00939004, 0.00780375, 0.00737123, 0.00786654,\n",
            "       0.0081827 , 0.00904986, 0.00967546, 0.00949615, 0.0095343 ,\n",
            "       0.01037543, 0.01098958, 0.0115308 , 0.01121521, 0.01058284,\n",
            "       0.01064506, 0.01104279, 0.01094465, 0.0105978 , 0.01078569,\n",
            "       0.010614  , 0.00933336, 0.00932964, 0.00875643, 0.00914117,\n",
            "       0.0090524 , 0.00929201, 0.00815185, 0.00865466, 0.00829316,\n",
            "       0.00764241, 0.00764981, 0.00773584, 0.00788792, 0.00835346,\n",
            "       0.00886093, 0.00850507, 0.00866414, 0.00958425, 0.0097737 ,\n",
            "       0.00981361, 0.01270533, 0.01255905, 0.01137283, 0.01025037])]\n",
            "[0.010858520753790677]\n",
            "\n"
          ],
          "name": "stdout"
        }
      ]
    },
    {
      "cell_type": "code",
      "metadata": {
        "id": "oXDOtXEyVrEn"
      },
      "source": [
        "# Create the testing dataset.\r\n",
        "# Create a new array containing scaled values from index 1880 to 2350\r\n",
        "test_data = dataset[training_data_len - 60: , :] \r\n",
        "# This here takes all values not in the training set. starts at training length-1 because of the loop before that ends 60 days before the length of training data. "
      ],
      "execution_count": null,
      "outputs": []
    },
    {
      "cell_type": "code",
      "metadata": {
        "id": "G5YDA7bythCA"
      },
      "source": [
        "# Scale the test data\r\n",
        "scaler = MinMaxScaler(feature_range=(0,1))\r\n",
        "test_data = scaler.fit_transform(test_data)"
      ],
      "execution_count": null,
      "outputs": []
    },
    {
      "cell_type": "code",
      "metadata": {
        "id": "u9RenddXuaqI"
      },
      "source": [
        "# Create the data sets x_test and y_test\r\n",
        "x_test =[]\r\n",
        "y_test = dataset[training_data_len:, :] # don't include the loop because these is no need. \r\n",
        "for i in range(60, len(test_data)):\r\n",
        "  x_test.append(test_data[i - 60:i, 0])"
      ],
      "execution_count": null,
      "outputs": []
    },
    {
      "cell_type": "markdown",
      "metadata": {
        "id": "JQbEKxl-FBu9"
      },
      "source": [
        "# Preparing the training and test data for entry into the LSTM model "
      ]
    },
    {
      "cell_type": "markdown",
      "metadata": {
        "id": "lGWEAdcweza4"
      },
      "source": [
        "1. LSTM models require input data in a specific format, so independent variables of both sets are converted to this format."
      ]
    },
    {
      "cell_type": "code",
      "metadata": {
        "id": "l-fscz1-011V"
      },
      "source": [
        "# Convert x_train and y_train to numpy arrays for LSTM model\r\n",
        "x_train, y_train = np.array(x_train), np.array(y_train) "
      ],
      "execution_count": null,
      "outputs": []
    },
    {
      "cell_type": "code",
      "metadata": {
        "id": "p5-awO2PnJCp",
        "colab": {
          "base_uri": "https://localhost:8080/"
        },
        "outputId": "1730d40d-2f70-43e3-b5d3-cca3fc90260f"
      },
      "source": [
        "x_train.shape"
      ],
      "execution_count": null,
      "outputs": [
        {
          "output_type": "execute_result",
          "data": {
            "text/plain": [
              "(1820, 60)"
            ]
          },
          "metadata": {
            "tags": []
          },
          "execution_count": 14
        }
      ]
    },
    {
      "cell_type": "code",
      "metadata": {
        "id": "j7CYWt-h01zB",
        "colab": {
          "base_uri": "https://localhost:8080/"
        },
        "outputId": "0bd90f7e-8467-4fb5-ae01-f3ff3c73aee5"
      },
      "source": [
        "#Reshape the data\r\n",
        "x_train = np.reshape(x_train, (x_train.shape[0],x_train.shape[1],1))\r\n",
        "x_train.shape"
      ],
      "execution_count": null,
      "outputs": [
        {
          "output_type": "execute_result",
          "data": {
            "text/plain": [
              "(1820, 60, 1)"
            ]
          },
          "metadata": {
            "tags": []
          },
          "execution_count": 15
        }
      ]
    },
    {
      "cell_type": "code",
      "metadata": {
        "id": "d0Cff1olVrCo"
      },
      "source": [
        "# Convert the data to a numpy array\r\n",
        "x_test = np.array(x_test)"
      ],
      "execution_count": null,
      "outputs": []
    },
    {
      "cell_type": "code",
      "metadata": {
        "id": "blrCtvBhVq_s"
      },
      "source": [
        "# Reshape the data \r\n",
        "x_test = np.reshape(x_test, (x_test.shape[0],x_test.shape[1],1))"
      ],
      "execution_count": null,
      "outputs": []
    },
    {
      "cell_type": "markdown",
      "metadata": {
        "id": "BSA6uJJoaDWf"
      },
      "source": [
        "# Building the model "
      ]
    },
    {
      "cell_type": "markdown",
      "metadata": {
        "id": "6evBmC5TfGU6"
      },
      "source": [
        "1. Create layers of model\r\n",
        "2. Compile it with optimisation and loss function.\r\n",
        "3. Fit the model\r\n",
        "4. Save model with best results. "
      ]
    },
    {
      "cell_type": "code",
      "metadata": {
        "id": "JJ-FFVK1bDaN"
      },
      "source": [
        "# Build the LSTM model\r\n",
        "model = Sequential()\r\n",
        "model.add(LSTM(50,return_sequences=True,input_shape = (x_train.shape[1],x_train.shape[2])))\r\n",
        "model.add(Dropout(0.2))\r\n",
        "model.add(LSTM(50,return_sequences=False))\r\n",
        "model.add(Dropout(0.2))\r\n",
        "model.add(Dense(25))\r\n",
        "model.add(Dense(1))  "
      ],
      "execution_count": null,
      "outputs": []
    },
    {
      "cell_type": "code",
      "metadata": {
        "id": "OXOHpNwQSiUN"
      },
      "source": [
        "#Compile the model\r\n",
        "model.compile(optimizer='adam',loss = 'mean_squared_error',metrics = [RootMeanSquaredError()])"
      ],
      "execution_count": null,
      "outputs": []
    },
    {
      "cell_type": "code",
      "metadata": {
        "id": "_zxE4LbUaDWg"
      },
      "source": [
        "history = model.fit(x_train, y_train, batch_size = 32, epochs=200)"
      ],
      "execution_count": null,
      "outputs": []
    },
    {
      "cell_type": "code",
      "metadata": {
        "id": "agGm0oRTaDWg"
      },
      "source": [
        "# model.save(\"Lstm_200epoch_32batch.h5\")  - Commenting this out so best model isn't overriden. "
      ],
      "execution_count": null,
      "outputs": []
    },
    {
      "cell_type": "markdown",
      "metadata": {
        "id": "ttyh_xg4fX4r"
      },
      "source": [
        "# Model evaluation and prediction "
      ]
    },
    {
      "cell_type": "markdown",
      "metadata": {
        "id": "A55KpgsrfYR-"
      },
      "source": [
        "1. Load the model with best results\r\n",
        "2. Find RMSE of test (validation) data.\r\n",
        "3. Plot the results of predicting validation data. \r\n",
        "4. Predict and compare Bitcoin Closing value 1 day beyond the dataset."
      ]
    },
    {
      "cell_type": "code",
      "metadata": {
        "id": "nuBa08GbdL2s"
      },
      "source": [
        "model = keras.models.load_model(\"Lstm_200epoch_32batch.h5\")"
      ],
      "execution_count": null,
      "outputs": []
    },
    {
      "cell_type": "code",
      "metadata": {
        "colab": {
          "base_uri": "https://localhost:8080/"
        },
        "id": "6M-XK_2raDWg",
        "outputId": "4771204e-3a30-4044-cafb-8b56ab30ef4b"
      },
      "source": [
        "# Get the models predicted price values\r\n",
        "predictions = model.predict(x_test)\r\n",
        "predictions = scaler.inverse_transform(predictions)\r\n",
        "# Get the root mean squared error (RMSE)\r\n",
        "rmse = np.sqrt(np.mean(predictions - y_test)**2)\r\n",
        "rmse"
      ],
      "execution_count": null,
      "outputs": [
        {
          "output_type": "execute_result",
          "data": {
            "text/plain": [
              "9.75703748337766"
            ]
          },
          "metadata": {
            "tags": []
          },
          "execution_count": 22
        }
      ]
    },
    {
      "cell_type": "code",
      "metadata": {
        "colab": {
          "base_uri": "https://localhost:8080/"
        },
        "id": "eODDwHjeECKS",
        "outputId": "9e82b705-e314-4dda-8290-0c57ca1b9bdb"
      },
      "source": [
        "last_100_days = x_test[370:]\r\n",
        "last_100_ys = y_test[370:]\r\n",
        "recent_predictions = model.predict(last_100_days)\r\n",
        "recent_predictions = scaler.inverse_transform(recent_predictions)\r\n",
        "rmse = np.sqrt(np.mean(recent_predictions - last_100_ys)**2)\r\n",
        "rmse"
      ],
      "execution_count": null,
      "outputs": [
        {
          "output_type": "execute_result",
          "data": {
            "text/plain": [
              "356.598203125"
            ]
          },
          "metadata": {
            "tags": []
          },
          "execution_count": 23
        }
      ]
    },
    {
      "cell_type": "code",
      "metadata": {
        "colab": {
          "base_uri": "https://localhost:8080/",
          "height": 620
        },
        "id": "hkhG_TQRaDWh",
        "outputId": "73fe9e1f-8663-42e3-a338-6bb28eeff2c3"
      },
      "source": [
        "# Plot the data\r\n",
        "train = data[:training_data_len]\r\n",
        "valid = data[training_data_len:]\r\n",
        "valid['Predictions'] = predictions\r\n",
        "# Visualise the model\r\n",
        "plt.figure(figsize = (16,8))\r\n",
        "plt.title('Bitcoin closing price predictions ')\r\n",
        "plt.xlabel('Date', fontsize = 18)\r\n",
        "plt.ylabel('Closing Price USD ($)',fontsize = 18)\r\n",
        "plt.plot(train['Close'])\r\n",
        "plt.plot(valid[['Close','Predictions']])\r\n",
        "plt.legend(['Train','Val','Predictions'],loc = 'lower right')\r\n",
        "plt.show()"
      ],
      "execution_count": null,
      "outputs": [
        {
          "output_type": "stream",
          "text": [
            "/usr/local/lib/python3.7/dist-packages/ipykernel_launcher.py:4: SettingWithCopyWarning: \n",
            "A value is trying to be set on a copy of a slice from a DataFrame.\n",
            "Try using .loc[row_indexer,col_indexer] = value instead\n",
            "\n",
            "See the caveats in the documentation: https://pandas.pydata.org/pandas-docs/stable/user_guide/indexing.html#returning-a-view-versus-a-copy\n",
            "  after removing the cwd from sys.path.\n"
          ],
          "name": "stderr"
        },
        {
          "output_type": "display_data",
          "data": {
            "image/png": "[encoded data removed]",
            "text/plain": [
              "<Figure size 1152x576 with 1 Axes>"
            ]
          },
          "metadata": {
            "tags": [],
            "needs_background": "light"
          }
        }
      ]
    },
    {
      "cell_type": "code",
      "metadata": {
        "colab": {
          "base_uri": "https://localhost:8080/",
          "height": 558
        },
        "id": "yoPVyHugaDWh",
        "outputId": "677b5c81-ad59-4f5f-bab5-108422c2815e"
      },
      "source": [
        "# Plot the data\r\n",
        "# Visualise the model\r\n",
        "plt.figure(figsize = (16,8))\r\n",
        "plt.title('Model')\r\n",
        "plt.xlabel('Date', fontsize = 18)\r\n",
        "plt.ylabel('Closing Price USD ($)',fontsize = 18)\r\n",
        "plt.plot(valid[['Close','Predictions']])\r\n",
        "plt.legend(['Val','Predictions'],loc = 'lower right')\r\n",
        "plt.show()"
      ],
      "execution_count": null,
      "outputs": [
        {
          "output_type": "display_data",
          "data": {
            "image/png": "[encoded data removed]",
            "text/plain": [
              "<Figure size 1152x576 with 1 Axes>"
            ]
          },
          "metadata": {
            "tags": []
          }
        }
      ]
    },
    {
      "cell_type": "code",
      "metadata": {
        "colab": {
          "base_uri": "https://localhost:8080/"
        },
        "id": "J5imbty2aDWh",
        "outputId": "dbbcc6ff-b149-4ca5-c97e-faa843c0bf06"
      },
      "source": [
        "# Get the quote \r\n",
        "btc_quote = web.DataReader('BTC-USD', data_source = 'yahoo', start = '2013-04-28', end ='2021-02-24')\r\n",
        "# Create a new dataframe\r\n",
        "new_df = btc_quote.filter(['Close'])\r\n",
        "# Get the last 60 day closing price values and convert the dataframe to an array\r\n",
        "last_60_days = new_df[-60:].values\r\n",
        "# Scale the data to be values between 0 and 1\r\n",
        "last_60_days_scaled = scaler.transform(last_60_days)\r\n",
        "# Create an empty list \r\n",
        "days_before_26th = [] \r\n",
        "# append the past 60 days\r\n",
        "days_before_26th.append(last_60_days_scaled)\r\n",
        "# Convert the days_before_26th data set to a numpy array\r\n",
        "days_before_26th = np.array(days_before_26th)\r\n",
        "# Reshape the data \r\n",
        "days_before_26th = np.reshape(days_before_26th, (days_before_26th.shape[0],days_before_26th.shape[1],1))\r\n",
        "# Get the predicted Scaled Price \r\n",
        "pred_price = model.predict(days_before_26th)\r\n",
        "# undo the scaling \r\n",
        "pred_price = scaler.inverse_transform(pred_price)\r\n",
        "print(pred_price)"
      ],
      "execution_count": null,
      "outputs": [
        {
          "output_type": "stream",
          "text": [
            "[[46902.18]]\n"
          ],
          "name": "stdout"
        }
      ]
    },
    {
      "cell_type": "code",
      "metadata": {
        "colab": {
          "base_uri": "https://localhost:8080/"
        },
        "id": "iXoZulAaaDWh",
        "outputId": "eabc3c18-24e2-4cf2-a697-f73a379cf909"
      },
      "source": [
        "btc_quote2 = web.DataReader('BTC-USD', data_source = 'yahoo', start = '2021-02-26', end ='2021-03-01')\r\n",
        "print(btc_quote2['Close'])"
      ],
      "execution_count": null,
      "outputs": [
        {
          "output_type": "stream",
          "text": [
            "Date\n",
            "2021-02-26    46339.761719\n",
            "2021-02-27    46188.453125\n",
            "2021-02-28    45137.769531\n",
            "2021-03-01    49631.242188\n",
            "2021-03-02    48378.988281\n",
            "Name: Close, dtype: float64\n"
          ],
          "name": "stdout"
        }
      ]
    },
    {
      "cell_type": "markdown",
      "metadata": {
        "id": "73QI3M5noG9r"
      },
      "source": [
        "# Predicting beyond one day"
      ]
    },
    {
      "cell_type": "markdown",
      "metadata": {
        "id": "h5SgGNDUzJsh"
      },
      "source": [
        "Predicting beyond the 26th requires the previous prediction to be added and treated as a historical value"
      ]
    },
    {
      "cell_type": "code",
      "metadata": {
        "id": "PSMTMtXHk3Ro"
      },
      "source": [
        "new_last_60_days = np.append(last_60_days,pred_price)\r\n",
        "new_last_60 = new_last_60_days[1:]\r\n",
        "new_last_60 = new_last_60.reshape(-1, 1)\r\n",
        "new_last_60_days_scaled = scaler.transform(new_last_60)\r\n",
        "days_before_27th = [] "
      ],
      "execution_count": null,
      "outputs": []
    },
    {
      "cell_type": "code",
      "metadata": {
        "colab": {
          "base_uri": "https://localhost:8080/"
        },
        "id": "pVOQbPmOkND5",
        "outputId": "7d369094-93db-4035-86c4-9d78e424ea18"
      },
      "source": [
        "# append the past 60 days\r\n",
        "days_before_27th.append(new_last_60_days_scaled)\r\n",
        "# Convert the days_before_27th data set to a numpy array\r\n",
        "days_before_27th = np.array(days_before_27th)\r\n",
        "# Reshape the data \r\n",
        "days_before_27th = np.reshape(days_before_27th, (days_before_27th.shape[0],days_before_27th.shape[1],1))\r\n",
        "# Get the predicted Scaled Price \r\n",
        "pred_price = model.predict(days_before_27th)\r\n",
        "# undo the scaling \r\n",
        "pred_price = scaler.inverse_transform(pred_price)\r\n",
        "print(pred_price)"
      ],
      "execution_count": null,
      "outputs": [
        {
          "output_type": "stream",
          "text": [
            "[[46590.766]]\n"
          ],
          "name": "stdout"
        }
      ]
    },
    {
      "cell_type": "markdown",
      "metadata": {
        "id": "7Dru9uoclCdj"
      },
      "source": [
        "Real price: 46188.453125"
      ]
    },
    {
      "cell_type": "code",
      "metadata": {
        "id": "pnvcQPopkBxm"
      },
      "source": [
        "pre_28th = np.append(new_last_60_days,pred_price)\r\n",
        "before_28th = pre_28th[2:]\r\n",
        "before_28th = before_28th.reshape(-1,1)\r\n",
        "before_28th_scaled = scaler.transform(before_28th)\r\n",
        "days_before_28th = []"
      ],
      "execution_count": null,
      "outputs": []
    },
    {
      "cell_type": "code",
      "metadata": {
        "colab": {
          "base_uri": "https://localhost:8080/"
        },
        "id": "0nSvRHGjmD56",
        "outputId": "b24ec3f6-4aa8-42dc-b9bb-5e8683c8f1ef"
      },
      "source": [
        "# append the past 60 days\r\n",
        "days_before_28th.append(before_28th_scaled)\r\n",
        "# Convert the days_before_27th data set to a numpy array\r\n",
        "days_before_28th = np.array(days_before_28th)\r\n",
        "# Reshape the data \r\n",
        "days_before_28th = np.reshape(days_before_28th, (days_before_28th.shape[0],days_before_28th.shape[1],1))\r\n",
        "# Get the predicted Scaled Price \r\n",
        "pred_price = model.predict(days_before_28th)\r\n",
        "# undo the scaling \r\n",
        "pred_price = scaler.inverse_transform(pred_price)\r\n",
        "print(pred_price)"
      ],
      "execution_count": null,
      "outputs": [
        {
          "output_type": "stream",
          "text": [
            "[[46206.88]]\n"
          ],
          "name": "stdout"
        }
      ]
    },
    {
      "cell_type": "markdown",
      "metadata": {
        "id": "KuiZKV6VneWH"
      },
      "source": [
        "real price: 45137.769531"
      ]
    },
    {
      "cell_type": "code",
      "metadata": {
        "colab": {
          "base_uri": "https://localhost:8080/"
        },
        "id": "8l5OlbTnoXMI",
        "outputId": "54684aec-1d6f-44d7-cb4b-9e1cdb47f357"
      },
      "source": [
        "pre_28th"
      ],
      "execution_count": null,
      "outputs": [
        {
          "output_type": "execute_result",
          "data": {
            "text/plain": [
              "array([27084.80859375, 27362.4375    , 28840.953125  , 29001.72070312,\n",
              "       29374.15234375, 32127.26757812, 32782.0234375 , 31971.9140625 ,\n",
              "       33992.4296875 , 36824.36328125, 39371.04296875, 40797.609375  ,\n",
              "       40254.546875  , 38356.44140625, 35566.65625   , 33922.9609375 ,\n",
              "       37316.359375  , 39187.328125  , 36825.3671875 , 36178.140625  ,\n",
              "       35791.27734375, 36630.07421875, 36069.8046875 , 35547.75      ,\n",
              "       30825.69921875, 33005.76171875, 32067.64257812, 32289.37890625,\n",
              "       32366.39257812, 32569.84960938, 30432.546875  , 31649.60546875,\n",
              "       34316.38671875, 34269.5234375 , 33114.359375  , 33537.17578125,\n",
              "       35510.2890625 , 37472.08984375, 36926.06640625, 38144.30859375,\n",
              "       39266.01171875, 38903.44140625, 46196.46484375, 46481.10546875,\n",
              "       44918.18359375, 47909.33203125, 47504.8515625 , 47105.515625  ,\n",
              "       48717.2890625 , 47945.05859375, 49199.87109375, 52149.0078125 ,\n",
              "       51679.796875  , 55888.1328125 , 56099.51953125, 57539.9453125 ,\n",
              "       54207.3203125 , 48824.42578125, 49705.33203125, 47093.8515625 ,\n",
              "       46902.1796875 , 46590.765625  ])"
            ]
          },
          "metadata": {
            "tags": []
          },
          "execution_count": 117
        }
      ]
    },
    {
      "cell_type": "code",
      "metadata": {
        "id": "lG2IAbi5oUIu"
      },
      "source": [
        "pre_1st = np.append(new_last_60_days,pred_price)\r\n",
        "before_1st = pre_1st[3:]\r\n",
        "before_1st = before_1st.reshape(-1,1)\r\n",
        "before_1st_scaled = scaler.transform(before_1st)\r\n",
        "days_before_1st = []"
      ],
      "execution_count": null,
      "outputs": []
    },
    {
      "cell_type": "code",
      "metadata": {
        "colab": {
          "base_uri": "https://localhost:8080/"
        },
        "id": "0vCjm3IBoUIv",
        "outputId": "9eaa2246-83ff-43e9-f83d-d1a33fa1ac3d"
      },
      "source": [
        "# append the past 60 days\r\n",
        "days_before_1st.append(before_1st_scaled)\r\n",
        "# Convert the days_before_27th data set to a numpy array\r\n",
        "days_before_1st = np.array(days_before_1st)\r\n",
        "# Reshape the data \r\n",
        "days_before_1st = np.reshape(days_before_1st, (days_before_1st.shape[0],days_before_1st.shape[1],1))\r\n",
        "# Get the predicted Scaled Price \r\n",
        "pred_price = model.predict(days_before_1st)\r\n",
        "# undo the scaling \r\n",
        "pred_price = scaler.inverse_transform(pred_price)\r\n",
        "print(pred_price)"
      ],
      "execution_count": null,
      "outputs": [
        {
          "output_type": "stream",
          "text": [
            "[[45806.61]]\n"
          ],
          "name": "stdout"
        }
      ]
    },
    {
      "cell_type": "markdown",
      "metadata": {
        "id": "Sisk93Ybo1jn"
      },
      "source": [
        "Real price: 49631.242188"
      ]
    },
    {
      "cell_type": "code",
      "metadata": {
        "id": "q5kfpednoyMO"
      },
      "source": [
        ""
      ],
      "execution_count": null,
      "outputs": []
    }
  ]
}