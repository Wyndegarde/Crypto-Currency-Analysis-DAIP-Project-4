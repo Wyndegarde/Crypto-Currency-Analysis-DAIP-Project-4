{
 "cells": [
  {
   "cell_type": "markdown",
   "metadata": {},
   "source": [
    "# Getting Tweets\n",
    "Script below will download tweets in batches of 3200"
   ]
  },
  {
   "cell_type": "code",
   "execution_count": null,
   "metadata": {},
   "outputs": [],
   "source": [
    "!pip install tweepy"
   ]
  },
  {
   "cell_type": "code",
   "execution_count": null,
   "metadata": {},
   "outputs": [],
   "source": [
    "import tweepy #https://github.com/tweepy/tweepy\n",
    "import csv\n",
    "\n",
    "#Twitter API credentials\n",
    "consumer_key = \"EFoEOrZtNntr18ZYKtLuFuqeU\"\n",
    "consumer_secret = \"1Xc0urIToXsf5MRYcO3P5o13zTAVj56UtctP45qzvrieRLpvTZ\"\n",
    "access_key = \"1364172333741723651-QFPnDAgiQ6UVuxotXpHtIVUqZOTQII\"\n",
    "access_secret = \"5l0aJoJiL2ZLOuuExnAofqYImbWNhLLMgl9DOLOe9IcGj\"\n",
    "\n",
    "\n",
    "def get_all_tweets(screen_name):\n",
    "    #Twitter only allows access to a users most recent 3240 tweets with this method\n",
    "    \n",
    "    #authorize twitter, initialize tweepy\n",
    "    auth = tweepy.OAuthHandler(consumer_key, consumer_secret)\n",
    "    auth.set_access_token(access_key, access_secret)\n",
    "    api = tweepy.API(auth)\n",
    "    \n",
    "    #initialize a list to hold all the tweepy Tweets\n",
    "    alltweets = []  \n",
    "    \n",
    "    #make initial request for most recent tweets (200 is the maximum allowed count)\n",
    "    new_tweets = api.user_timeline(screen_name = screen_name,count=200)\n",
    "    \n",
    "    #save most recent tweets\n",
    "    alltweets.extend(new_tweets)\n",
    "    \n",
    "    #save the id of the oldest tweet less one\n",
    "    oldest = alltweets[-1].id - 1\n",
    "    \n",
    "    #keep grabbing tweets until there are no tweets left to grab\n",
    "    while len(new_tweets) > 0:\n",
    "        print(f\"getting tweets before {oldest}\")\n",
    "        \n",
    "        #all subsiquent requests use the max_id param to prevent duplicates\n",
    "        new_tweets = api.user_timeline(screen_name = screen_name,count=200,max_id=oldest)\n",
    "        \n",
    "        #save most recent tweets\n",
    "        alltweets.extend(new_tweets)\n",
    "        \n",
    "        #update the id of the oldest tweet less one\n",
    "        oldest = alltweets[-1].id - 1\n",
    "        \n",
    "        print(f\"...{len(alltweets)} tweets downloaded so far\")\n",
    "    \n",
    "    #transform the tweepy tweets into a 2D array that will populate the csv \n",
    "    outtweets = [[tweet.id_str, tweet.created_at, tweet.text] for tweet in alltweets]\n",
    "    \n",
    "    #write the csv  \n",
    "    with open(f'new_{screen_name}_tweets.csv', 'w', encoding=\"utf-8\") as f:\n",
    "        writer = csv.writer(f)\n",
    "        writer.writerow([\"id\",\"created_at\",\"text\"])\n",
    "        writer.writerows(outtweets)\n",
    "    \n",
    "    pass\n",
    "\n",
    "\n",
    "if __name__ == '__main__':\n",
    "\t#pass in the username of the account you want to download\n",
    "\tget_all_tweets(\"vitalikbuterin\")"
   ]
  },
  {
   "cell_type": "code",
   "execution_count": null,
   "metadata": {},
   "outputs": [],
   "source": []
  },
  {
   "cell_type": "markdown",
   "metadata": {},
   "source": [
    "# Sentiment analysis"
   ]
  },
  {
   "cell_type": "code",
   "execution_count": 1,
   "metadata": {},
   "outputs": [
    {
     "name": "stdout",
     "output_type": "stream",
     "text": [
      "Requirement already satisfied: twython in c:\\users\\lewis\\anaconda3\\lib\\site-packages (3.8.2)\n",
      "Requirement already satisfied: requests>=2.1.0 in c:\\users\\lewis\\anaconda3\\lib\\site-packages (from twython) (2.24.0)\n",
      "Requirement already satisfied: requests-oauthlib>=0.4.0 in c:\\users\\lewis\\anaconda3\\lib\\site-packages (from twython) (1.3.0)\n",
      "Requirement already satisfied: idna<3,>=2.5 in c:\\users\\lewis\\anaconda3\\lib\\site-packages (from requests>=2.1.0->twython) (2.10)\n",
      "Requirement already satisfied: chardet<4,>=3.0.2 in c:\\users\\lewis\\anaconda3\\lib\\site-packages (from requests>=2.1.0->twython) (3.0.4)\n",
      "Requirement already satisfied: urllib3!=1.25.0,!=1.25.1,<1.26,>=1.21.1 in c:\\users\\lewis\\anaconda3\\lib\\site-packages (from requests>=2.1.0->twython) (1.25.9)\n",
      "Requirement already satisfied: certifi>=2017.4.17 in c:\\users\\lewis\\anaconda3\\lib\\site-packages (from requests>=2.1.0->twython) (2020.6.20)\n",
      "Requirement already satisfied: oauthlib>=3.0.0 in c:\\users\\lewis\\anaconda3\\lib\\site-packages (from requests-oauthlib>=0.4.0->twython) (3.1.0)\n"
     ]
    }
   ],
   "source": [
    "!pip install twython\n"
   ]
  },
  {
   "cell_type": "markdown",
   "metadata": {},
   "source": [
    "## Imports "
   ]
  },
  {
   "cell_type": "code",
   "execution_count": 2,
   "metadata": {},
   "outputs": [],
   "source": [
    "import pandas as pd\n",
    "import numpy as np\n",
    "import matplotlib.pyplot as plt\n",
    "import seaborn as sns\n",
    "\n",
    "#for getting date data type\n",
    "import datetime\n",
    "\n",
    "#for sentiment analysis\n",
    "import nltk\n",
    "from nltk.sentiment.vader import SentimentIntensityAnalyzer\n",
    "\n",
    "#This enables showing all output, not just most recent\n",
    "from IPython.core.interactiveshell import InteractiveShell\n",
    "InteractiveShell.ast_node_interactivity = \"all\""
   ]
  },
  {
   "cell_type": "code",
   "execution_count": 3,
   "metadata": {},
   "outputs": [
    {
     "name": "stderr",
     "output_type": "stream",
     "text": [
      "[nltk_data] Downloading package vader_lexicon to\n",
      "[nltk_data]     C:\\Users\\lewis\\AppData\\Roaming\\nltk_data...\n",
      "[nltk_data]   Package vader_lexicon is already up-to-date!\n"
     ]
    },
    {
     "data": {
      "text/plain": [
       "True"
      ]
     },
     "execution_count": 3,
     "metadata": {},
     "output_type": "execute_result"
    }
   ],
   "source": [
    "nltk.download('vader_lexicon')\n",
    "sid = SentimentIntensityAnalyzer()"
   ]
  },
  {
   "cell_type": "code",
   "execution_count": null,
   "metadata": {},
   "outputs": [],
   "source": []
  },
  {
   "cell_type": "markdown",
   "metadata": {},
   "source": [
    "# Vitalik Buterin - Creator of Ethereum\n",
    "\n",
    "Get Vitalik tweets"
   ]
  },
  {
   "cell_type": "code",
   "execution_count": 4,
   "metadata": {},
   "outputs": [],
   "source": [
    "vitalikbuterin_tweets_base = pd.read_excel('vitalikbuterin_user_tweets.xlsx', index_col=0)  \n",
    "vitalikbuterin_tweets_clean = vitalikbuterin_tweets_base.copy()\n",
    "\n",
    "#filter columns\n",
    "vitalikbuterin_tweets_clean.drop(vitalikbuterin_tweets_clean.columns.difference(['Text','UTC','Favorites','Retweets']), 1, inplace=True)\n",
    "\n",
    "#fix date column. We only want first 10 characters and then we want them as date type\n",
    "vitalikbuterin_tweets_clean['UTC'] = vitalikbuterin_tweets_clean['UTC'].str[:10].astype(str)\n",
    "vitalikbuterin_tweets_clean['UTC'] = pd.to_datetime(vitalikbuterin_tweets_clean['UTC'])\n",
    "#finally change name of UTC column to Date\n",
    "vitalikbuterin_tweets_clean = vitalikbuterin_tweets_clean.rename(columns={'UTC': 'Date'})"
   ]
  },
  {
   "cell_type": "code",
   "execution_count": 5,
   "metadata": {},
   "outputs": [
    {
     "name": "stdout",
     "output_type": "stream",
     "text": [
      "<class 'pandas.core.frame.DataFrame'>\n",
      "Int64Index: 3200 entries, 1362399831826849797 to 1271465277239300102\n",
      "Data columns (total 4 columns):\n",
      " #   Column     Non-Null Count  Dtype         \n",
      "---  ------     --------------  -----         \n",
      " 0   Text       3200 non-null   object        \n",
      " 1   Date       3200 non-null   datetime64[ns]\n",
      " 2   Favorites  3200 non-null   int64         \n",
      " 3   Retweets   3200 non-null   int64         \n",
      "dtypes: datetime64[ns](1), int64(2), object(1)\n",
      "memory usage: 125.0+ KB\n"
     ]
    }
   ],
   "source": [
    "vitalikbuterin_tweets_clean.info()"
   ]
  },
  {
   "cell_type": "markdown",
   "metadata": {},
   "source": [
    "Run Vitalik tweets through vader model"
   ]
  },
  {
   "cell_type": "code",
   "execution_count": 6,
   "metadata": {},
   "outputs": [],
   "source": [
    "myData = vitalikbuterin_tweets_clean.copy()\n",
    "\n",
    "myData['scores'] = myData['Text'].apply(lambda review: sid.polarity_scores(review))\n",
    "\n",
    "myData['compound'] = myData['scores'].apply(lambda score_dict: score_dict['compound'])\n",
    "myData['comp_score'] = myData['compound'].apply(lambda c: 'positive' if c >= 0 else 'negative')"
   ]
  },
  {
   "cell_type": "markdown",
   "metadata": {},
   "source": [
    "Above creates three additional columns: scores, compound, comp_score.\n",
    "\n",
    "Below is a plot of the counts, as we can see Vitaliks tweets are largely positive. "
   ]
  },
  {
   "cell_type": "code",
   "execution_count": 7,
   "metadata": {},
   "outputs": [
    {
     "data": {
      "text/plain": [
       "<matplotlib.axes._subplots.AxesSubplot at 0x27caff10e50>"
      ]
     },
     "execution_count": 7,
     "metadata": {},
     "output_type": "execute_result"
    },
    {
     "data": {
      "image/png": "[encoded data removed]",
      "text/plain": [
       "<Figure size 432x288 with 1 Axes>"
      ]
     },
     "metadata": {
      "needs_background": "light"
     },
     "output_type": "display_data"
    }
   ],
   "source": [
    "sns.countplot(x='comp_score', data=myData)\n"
   ]
  },
  {
   "cell_type": "markdown",
   "metadata": {},
   "source": [
    "## Getting Ethereum data\n",
    "\n",
    "As Vitalik is the creator of ethereum, we will be comparing his tweets to ethereum prices. First we have to get ethereum data."
   ]
  },
  {
   "cell_type": "code",
   "execution_count": 8,
   "metadata": {},
   "outputs": [],
   "source": [
    "eth_base = pd.read_csv(\"ETH.csv\")\n",
    "\n",
    "#source: https://www.coindesk.com/price/ethereum\n"
   ]
  },
  {
   "cell_type": "markdown",
   "metadata": {},
   "source": [
    "We will now clean the ETH data by turning the date column into date type, dropping redundant columns, and then feature engineering additional columns showing change since previous day and change tomorrow"
   ]
  },
  {
   "cell_type": "code",
   "execution_count": 9,
   "metadata": {},
   "outputs": [
    {
     "data": {
      "text/html": [
       "<div>\n",
       "<style scoped>\n",
       "    .dataframe tbody tr th:only-of-type {\n",
       "        vertical-align: middle;\n",
       "    }\n",
       "\n",
       "    .dataframe tbody tr th {\n",
       "        vertical-align: top;\n",
       "    }\n",
       "\n",
       "    .dataframe thead th {\n",
       "        text-align: right;\n",
       "    }\n",
       "</style>\n",
       "<table border=\"1\" class=\"dataframe\">\n",
       "  <thead>\n",
       "    <tr style=\"text-align: right;\">\n",
       "      <th></th>\n",
       "      <th>Currency</th>\n",
       "      <th>Date</th>\n",
       "      <th>Closing Price (USD)</th>\n",
       "      <th>Prev_Closing</th>\n",
       "      <th>tomorrow_Closing</th>\n",
       "      <th>change_since_yesterday</th>\n",
       "      <th>tomorrow_change</th>\n",
       "    </tr>\n",
       "  </thead>\n",
       "  <tbody>\n",
       "    <tr>\n",
       "      <th>0</th>\n",
       "      <td>ETH</td>\n",
       "      <td>2015-09-08</td>\n",
       "      <td>0.909046</td>\n",
       "      <td>NaN</td>\n",
       "      <td>0.692321</td>\n",
       "      <td>NaN</td>\n",
       "      <td>-0.238409</td>\n",
       "    </tr>\n",
       "    <tr>\n",
       "      <th>1</th>\n",
       "      <td>ETH</td>\n",
       "      <td>2015-10-08</td>\n",
       "      <td>0.692321</td>\n",
       "      <td>0.909046</td>\n",
       "      <td>0.668067</td>\n",
       "      <td>-0.238409</td>\n",
       "      <td>-0.035033</td>\n",
       "    </tr>\n",
       "    <tr>\n",
       "      <th>2</th>\n",
       "      <td>ETH</td>\n",
       "      <td>2015-11-08</td>\n",
       "      <td>0.668067</td>\n",
       "      <td>0.692321</td>\n",
       "      <td>0.850151</td>\n",
       "      <td>-0.035033</td>\n",
       "      <td>0.272554</td>\n",
       "    </tr>\n",
       "    <tr>\n",
       "      <th>3</th>\n",
       "      <td>ETH</td>\n",
       "      <td>2015-12-08</td>\n",
       "      <td>0.850151</td>\n",
       "      <td>0.668067</td>\n",
       "      <td>1.266023</td>\n",
       "      <td>0.272554</td>\n",
       "      <td>0.489174</td>\n",
       "    </tr>\n",
       "    <tr>\n",
       "      <th>4</th>\n",
       "      <td>ETH</td>\n",
       "      <td>2015-08-13</td>\n",
       "      <td>1.266023</td>\n",
       "      <td>0.850151</td>\n",
       "      <td>1.951460</td>\n",
       "      <td>0.489174</td>\n",
       "      <td>0.541410</td>\n",
       "    </tr>\n",
       "    <tr>\n",
       "      <th>...</th>\n",
       "      <td>...</td>\n",
       "      <td>...</td>\n",
       "      <td>...</td>\n",
       "      <td>...</td>\n",
       "      <td>...</td>\n",
       "      <td>...</td>\n",
       "      <td>...</td>\n",
       "    </tr>\n",
       "    <tr>\n",
       "      <th>1981</th>\n",
       "      <td>ETH</td>\n",
       "      <td>2021-02-19</td>\n",
       "      <td>1958.739190</td>\n",
       "      <td>1936.715286</td>\n",
       "      <td>1855.264841</td>\n",
       "      <td>0.011372</td>\n",
       "      <td>-0.052827</td>\n",
       "    </tr>\n",
       "    <tr>\n",
       "      <th>1982</th>\n",
       "      <td>ETH</td>\n",
       "      <td>2021-02-20</td>\n",
       "      <td>1855.264841</td>\n",
       "      <td>1958.739190</td>\n",
       "      <td>1913.800284</td>\n",
       "      <td>-0.052827</td>\n",
       "      <td>0.031551</td>\n",
       "    </tr>\n",
       "    <tr>\n",
       "      <th>1983</th>\n",
       "      <td>ETH</td>\n",
       "      <td>2021-02-21</td>\n",
       "      <td>1913.800284</td>\n",
       "      <td>1855.264841</td>\n",
       "      <td>1782.149591</td>\n",
       "      <td>0.031551</td>\n",
       "      <td>-0.068790</td>\n",
       "    </tr>\n",
       "    <tr>\n",
       "      <th>1984</th>\n",
       "      <td>ETH</td>\n",
       "      <td>2021-02-22</td>\n",
       "      <td>1782.149591</td>\n",
       "      <td>1913.800284</td>\n",
       "      <td>1546.622961</td>\n",
       "      <td>-0.068790</td>\n",
       "      <td>-0.132159</td>\n",
       "    </tr>\n",
       "    <tr>\n",
       "      <th>1985</th>\n",
       "      <td>ETH</td>\n",
       "      <td>2021-02-23</td>\n",
       "      <td>1546.622961</td>\n",
       "      <td>1782.149591</td>\n",
       "      <td>NaN</td>\n",
       "      <td>-0.132159</td>\n",
       "      <td>NaN</td>\n",
       "    </tr>\n",
       "  </tbody>\n",
       "</table>\n",
       "<p>1986 rows × 7 columns</p>\n",
       "</div>"
      ],
      "text/plain": [
       "     Currency       Date  Closing Price (USD)  Prev_Closing  tomorrow_Closing  \\\n",
       "0         ETH 2015-09-08             0.909046           NaN          0.692321   \n",
       "1         ETH 2015-10-08             0.692321      0.909046          0.668067   \n",
       "2         ETH 2015-11-08             0.668067      0.692321          0.850151   \n",
       "3         ETH 2015-12-08             0.850151      0.668067          1.266023   \n",
       "4         ETH 2015-08-13             1.266023      0.850151          1.951460   \n",
       "...       ...        ...                  ...           ...               ...   \n",
       "1981      ETH 2021-02-19          1958.739190   1936.715286       1855.264841   \n",
       "1982      ETH 2021-02-20          1855.264841   1958.739190       1913.800284   \n",
       "1983      ETH 2021-02-21          1913.800284   1855.264841       1782.149591   \n",
       "1984      ETH 2021-02-22          1782.149591   1913.800284       1546.622961   \n",
       "1985      ETH 2021-02-23          1546.622961   1782.149591               NaN   \n",
       "\n",
       "      change_since_yesterday  tomorrow_change  \n",
       "0                        NaN        -0.238409  \n",
       "1                  -0.238409        -0.035033  \n",
       "2                  -0.035033         0.272554  \n",
       "3                   0.272554         0.489174  \n",
       "4                   0.489174         0.541410  \n",
       "...                      ...              ...  \n",
       "1981                0.011372        -0.052827  \n",
       "1982               -0.052827         0.031551  \n",
       "1983                0.031551        -0.068790  \n",
       "1984               -0.068790        -0.132159  \n",
       "1985               -0.132159              NaN  \n",
       "\n",
       "[1986 rows x 7 columns]"
      ]
     },
     "execution_count": 9,
     "metadata": {},
     "output_type": "execute_result"
    }
   ],
   "source": [
    "eth_clean = eth_base.copy()\n",
    "#turn date column into date type\n",
    "eth_clean['Date'] = pd.to_datetime(eth_clean['Date'])\n",
    "\n",
    "#Create column for previous days closing price\n",
    "eth_clean['Prev_Closing'] = eth_clean['Closing Price (USD)'].shift(1)\n",
    "eth_clean['tomorrow_Closing'] = eth_clean['Closing Price (USD)'].shift(-1)\n",
    "eth_clean = eth_clean.drop(['24h Open (USD)', '24h High (USD)', '24h Low (USD)'], axis =1)\n",
    "\n",
    "\n",
    "#Create column for daily change since yesterday\n",
    "eth_clean['change_since_yesterday'] = (eth_clean['Closing Price (USD)'] - eth_clean['Prev_Closing']) / eth_clean['Prev_Closing']\n",
    "eth_clean['tomorrow_change'] = (eth_clean['tomorrow_Closing'] - eth_clean['Closing Price (USD)']) / eth_clean['Closing Price (USD)']\n",
    "\n",
    "eth_clean"
   ]
  },
  {
   "cell_type": "markdown",
   "metadata": {},
   "source": [
    "Join ETH data to df with Vitali' sentiment analysis. Join by date keeping all sentiment analysis rows and only ETH rows that have matching dates. Each date will have one row for price info however may have multiple tweets (and so multiple rows) as such rows from ETH df may need to be duplicated."
   ]
  },
  {
   "cell_type": "code",
   "execution_count": 10,
   "metadata": {},
   "outputs": [
    {
     "name": "stdout",
     "output_type": "stream",
     "text": [
      "<class 'pandas.core.frame.DataFrame'>\n",
      "Int64Index: 3200 entries, 1362399831826849797 to 1271465277239300102\n",
      "Data columns (total 7 columns):\n",
      " #   Column      Non-Null Count  Dtype         \n",
      "---  ------      --------------  -----         \n",
      " 0   Text        3200 non-null   object        \n",
      " 1   Date        3200 non-null   datetime64[ns]\n",
      " 2   Favorites   3200 non-null   int64         \n",
      " 3   Retweets    3200 non-null   int64         \n",
      " 4   scores      3200 non-null   object        \n",
      " 5   compound    3200 non-null   float64       \n",
      " 6   comp_score  3200 non-null   object        \n",
      "dtypes: datetime64[ns](1), float64(1), int64(2), object(3)\n",
      "memory usage: 360.0+ KB\n"
     ]
    }
   ],
   "source": [
    "myData.info()"
   ]
  },
  {
   "cell_type": "code",
   "execution_count": 11,
   "metadata": {},
   "outputs": [],
   "source": [
    "Vitalik_eth_combined = pd.merge(myData, eth_clean)"
   ]
  },
  {
   "cell_type": "code",
   "execution_count": 12,
   "metadata": {},
   "outputs": [
    {
     "data": {
      "text/plain": [
       "Text                      0\n",
       "Date                      0\n",
       "Favorites                 0\n",
       "Retweets                  0\n",
       "scores                    0\n",
       "compound                  0\n",
       "comp_score                0\n",
       "Currency                  0\n",
       "Closing Price (USD)       0\n",
       "Prev_Closing              0\n",
       "tomorrow_Closing          0\n",
       "change_since_yesterday    0\n",
       "tomorrow_change           0\n",
       "dtype: int64"
      ]
     },
     "execution_count": 12,
     "metadata": {},
     "output_type": "execute_result"
    },
    {
     "data": {
      "text/html": [
       "<div>\n",
       "<style scoped>\n",
       "    .dataframe tbody tr th:only-of-type {\n",
       "        vertical-align: middle;\n",
       "    }\n",
       "\n",
       "    .dataframe tbody tr th {\n",
       "        vertical-align: top;\n",
       "    }\n",
       "\n",
       "    .dataframe thead th {\n",
       "        text-align: right;\n",
       "    }\n",
       "</style>\n",
       "<table border=\"1\" class=\"dataframe\">\n",
       "  <thead>\n",
       "    <tr style=\"text-align: right;\">\n",
       "      <th></th>\n",
       "      <th>Text</th>\n",
       "      <th>Date</th>\n",
       "      <th>Favorites</th>\n",
       "      <th>Retweets</th>\n",
       "      <th>scores</th>\n",
       "      <th>compound</th>\n",
       "      <th>comp_score</th>\n",
       "      <th>Currency</th>\n",
       "      <th>Closing Price (USD)</th>\n",
       "      <th>Prev_Closing</th>\n",
       "      <th>tomorrow_Closing</th>\n",
       "      <th>change_since_yesterday</th>\n",
       "      <th>tomorrow_change</th>\n",
       "    </tr>\n",
       "  </thead>\n",
       "  <tbody>\n",
       "    <tr>\n",
       "      <th>0</th>\n",
       "      <td>Some reflections on my experiences participati...</td>\n",
       "      <td>2021-02-18</td>\n",
       "      <td>1761</td>\n",
       "      <td>315</td>\n",
       "      <td>{'neg': 0.0, 'neu': 0.915, 'pos': 0.085, 'comp...</td>\n",
       "      <td>0.3612</td>\n",
       "      <td>positive</td>\n",
       "      <td>ETH</td>\n",
       "      <td>1936.715286</td>\n",
       "      <td>1835.991463</td>\n",
       "      <td>1958.739190</td>\n",
       "      <td>0.054861</td>\n",
       "      <td>0.011372</td>\n",
       "    </tr>\n",
       "    <tr>\n",
       "      <th>1</th>\n",
       "      <td>A doc detailing a proposal for the first hard ...</td>\n",
       "      <td>2021-02-15</td>\n",
       "      <td>2111</td>\n",
       "      <td>456</td>\n",
       "      <td>{'neg': 0.141, 'neu': 0.624, 'pos': 0.235, 'co...</td>\n",
       "      <td>0.6549</td>\n",
       "      <td>positive</td>\n",
       "      <td>ETH</td>\n",
       "      <td>1787.122941</td>\n",
       "      <td>1828.092656</td>\n",
       "      <td>1763.751671</td>\n",
       "      <td>-0.022411</td>\n",
       "      <td>-0.013078</td>\n",
       "    </tr>\n",
       "    <tr>\n",
       "      <th>2</th>\n",
       "      <td>I sent some! https://t.co/mfYrz35zjF\\n\\nYou sh...</td>\n",
       "      <td>2021-02-01</td>\n",
       "      <td>3273</td>\n",
       "      <td>571</td>\n",
       "      <td>{'neg': 0.059, 'neu': 0.86, 'pos': 0.082, 'com...</td>\n",
       "      <td>0.2225</td>\n",
       "      <td>positive</td>\n",
       "      <td>ETH</td>\n",
       "      <td>771.475757</td>\n",
       "      <td>730.035168</td>\n",
       "      <td>976.892681</td>\n",
       "      <td>0.056765</td>\n",
       "      <td>0.266265</td>\n",
       "    </tr>\n",
       "    <tr>\n",
       "      <th>3</th>\n",
       "      <td>I make another attempt to explain how zk-SNARK...</td>\n",
       "      <td>2021-01-26</td>\n",
       "      <td>3092</td>\n",
       "      <td>679</td>\n",
       "      <td>{'neg': 0.0, 'neu': 1.0, 'pos': 0.0, 'compound...</td>\n",
       "      <td>0.0000</td>\n",
       "      <td>positive</td>\n",
       "      <td>ETH</td>\n",
       "      <td>1350.736956</td>\n",
       "      <td>1324.858487</td>\n",
       "      <td>1247.656556</td>\n",
       "      <td>0.019533</td>\n",
       "      <td>-0.076314</td>\n",
       "    </tr>\n",
       "    <tr>\n",
       "      <th>4</th>\n",
       "      <td>RT @year_progress : ▓▓▓▓▓▓▓▓▓▓▓▓▓▓▓ 100%</td>\n",
       "      <td>2021-01-01</td>\n",
       "      <td>0</td>\n",
       "      <td>0</td>\n",
       "      <td>{'neg': 0.0, 'neu': 1.0, 'pos': 0.0, 'compound...</td>\n",
       "      <td>0.0000</td>\n",
       "      <td>positive</td>\n",
       "      <td>ETH</td>\n",
       "      <td>730.035168</td>\n",
       "      <td>741.118404</td>\n",
       "      <td>771.475757</td>\n",
       "      <td>-0.014955</td>\n",
       "      <td>0.056765</td>\n",
       "    </tr>\n",
       "    <tr>\n",
       "      <th>...</th>\n",
       "      <td>...</td>\n",
       "      <td>...</td>\n",
       "      <td>...</td>\n",
       "      <td>...</td>\n",
       "      <td>...</td>\n",
       "      <td>...</td>\n",
       "      <td>...</td>\n",
       "      <td>...</td>\n",
       "      <td>...</td>\n",
       "      <td>...</td>\n",
       "      <td>...</td>\n",
       "      <td>...</td>\n",
       "      <td>...</td>\n",
       "    </tr>\n",
       "    <tr>\n",
       "      <th>3163</th>\n",
       "      <td>RT @OnlyAfricaFacts : Here's a letter King Leo...</td>\n",
       "      <td>2020-06-12</td>\n",
       "      <td>0</td>\n",
       "      <td>0</td>\n",
       "      <td>{'neg': 0.025, 'neu': 0.975, 'pos': 0.0, 'comp...</td>\n",
       "      <td>-0.0772</td>\n",
       "      <td>negative</td>\n",
       "      <td>ETH</td>\n",
       "      <td>592.615924</td>\n",
       "      <td>592.409201</td>\n",
       "      <td>589.663019</td>\n",
       "      <td>0.000349</td>\n",
       "      <td>-0.004983</td>\n",
       "    </tr>\n",
       "    <tr>\n",
       "      <th>3164</th>\n",
       "      <td>The privacy flippening: when the risks of onli...</td>\n",
       "      <td>2020-06-12</td>\n",
       "      <td>343</td>\n",
       "      <td>61</td>\n",
       "      <td>{'neg': 0.213, 'neu': 0.787, 'pos': 0.0, 'comp...</td>\n",
       "      <td>-0.5719</td>\n",
       "      <td>negative</td>\n",
       "      <td>ETH</td>\n",
       "      <td>592.615924</td>\n",
       "      <td>592.409201</td>\n",
       "      <td>589.663019</td>\n",
       "      <td>0.000349</td>\n",
       "      <td>-0.004983</td>\n",
       "    </tr>\n",
       "    <tr>\n",
       "      <th>3165</th>\n",
       "      <td>@nalaiqpaanda Maybe the exchange lost all acce...</td>\n",
       "      <td>2020-06-12</td>\n",
       "      <td>8</td>\n",
       "      <td>0</td>\n",
       "      <td>{'neg': 0.204, 'neu': 0.796, 'pos': 0.0, 'comp...</td>\n",
       "      <td>-0.3182</td>\n",
       "      <td>negative</td>\n",
       "      <td>ETH</td>\n",
       "      <td>592.615924</td>\n",
       "      <td>592.409201</td>\n",
       "      <td>589.663019</td>\n",
       "      <td>0.000349</td>\n",
       "      <td>-0.004983</td>\n",
       "    </tr>\n",
       "    <tr>\n",
       "      <th>3166</th>\n",
       "      <td>@d1m9enG Possible on any platform.</td>\n",
       "      <td>2020-06-12</td>\n",
       "      <td>42</td>\n",
       "      <td>1</td>\n",
       "      <td>{'neg': 0.0, 'neu': 1.0, 'pos': 0.0, 'compound...</td>\n",
       "      <td>0.0000</td>\n",
       "      <td>positive</td>\n",
       "      <td>ETH</td>\n",
       "      <td>592.615924</td>\n",
       "      <td>592.409201</td>\n",
       "      <td>589.663019</td>\n",
       "      <td>0.000349</td>\n",
       "      <td>-0.004983</td>\n",
       "    </tr>\n",
       "    <tr>\n",
       "      <th>3167</th>\n",
       "      <td>@TalBeerySec Perhaps the exchange lost all con...</td>\n",
       "      <td>2020-06-12</td>\n",
       "      <td>5</td>\n",
       "      <td>0</td>\n",
       "      <td>{'neg': 0.173, 'neu': 0.827, 'pos': 0.0, 'comp...</td>\n",
       "      <td>-0.3182</td>\n",
       "      <td>negative</td>\n",
       "      <td>ETH</td>\n",
       "      <td>592.615924</td>\n",
       "      <td>592.409201</td>\n",
       "      <td>589.663019</td>\n",
       "      <td>0.000349</td>\n",
       "      <td>-0.004983</td>\n",
       "    </tr>\n",
       "  </tbody>\n",
       "</table>\n",
       "<p>3168 rows × 13 columns</p>\n",
       "</div>"
      ],
      "text/plain": [
       "                                                   Text       Date  Favorites  \\\n",
       "0     Some reflections on my experiences participati... 2021-02-18       1761   \n",
       "1     A doc detailing a proposal for the first hard ... 2021-02-15       2111   \n",
       "2     I sent some! https://t.co/mfYrz35zjF\\n\\nYou sh... 2021-02-01       3273   \n",
       "3     I make another attempt to explain how zk-SNARK... 2021-01-26       3092   \n",
       "4              RT @year_progress : ▓▓▓▓▓▓▓▓▓▓▓▓▓▓▓ 100% 2021-01-01          0   \n",
       "...                                                 ...        ...        ...   \n",
       "3163  RT @OnlyAfricaFacts : Here's a letter King Leo... 2020-06-12          0   \n",
       "3164  The privacy flippening: when the risks of onli... 2020-06-12        343   \n",
       "3165  @nalaiqpaanda Maybe the exchange lost all acce... 2020-06-12          8   \n",
       "3166                 @d1m9enG Possible on any platform. 2020-06-12         42   \n",
       "3167  @TalBeerySec Perhaps the exchange lost all con... 2020-06-12          5   \n",
       "\n",
       "      Retweets                                             scores  compound  \\\n",
       "0          315  {'neg': 0.0, 'neu': 0.915, 'pos': 0.085, 'comp...    0.3612   \n",
       "1          456  {'neg': 0.141, 'neu': 0.624, 'pos': 0.235, 'co...    0.6549   \n",
       "2          571  {'neg': 0.059, 'neu': 0.86, 'pos': 0.082, 'com...    0.2225   \n",
       "3          679  {'neg': 0.0, 'neu': 1.0, 'pos': 0.0, 'compound...    0.0000   \n",
       "4            0  {'neg': 0.0, 'neu': 1.0, 'pos': 0.0, 'compound...    0.0000   \n",
       "...        ...                                                ...       ...   \n",
       "3163         0  {'neg': 0.025, 'neu': 0.975, 'pos': 0.0, 'comp...   -0.0772   \n",
       "3164        61  {'neg': 0.213, 'neu': 0.787, 'pos': 0.0, 'comp...   -0.5719   \n",
       "3165         0  {'neg': 0.204, 'neu': 0.796, 'pos': 0.0, 'comp...   -0.3182   \n",
       "3166         1  {'neg': 0.0, 'neu': 1.0, 'pos': 0.0, 'compound...    0.0000   \n",
       "3167         0  {'neg': 0.173, 'neu': 0.827, 'pos': 0.0, 'comp...   -0.3182   \n",
       "\n",
       "     comp_score Currency  Closing Price (USD)  Prev_Closing  tomorrow_Closing  \\\n",
       "0      positive      ETH          1936.715286   1835.991463       1958.739190   \n",
       "1      positive      ETH          1787.122941   1828.092656       1763.751671   \n",
       "2      positive      ETH           771.475757    730.035168        976.892681   \n",
       "3      positive      ETH          1350.736956   1324.858487       1247.656556   \n",
       "4      positive      ETH           730.035168    741.118404        771.475757   \n",
       "...         ...      ...                  ...           ...               ...   \n",
       "3163   negative      ETH           592.615924    592.409201        589.663019   \n",
       "3164   negative      ETH           592.615924    592.409201        589.663019   \n",
       "3165   negative      ETH           592.615924    592.409201        589.663019   \n",
       "3166   positive      ETH           592.615924    592.409201        589.663019   \n",
       "3167   negative      ETH           592.615924    592.409201        589.663019   \n",
       "\n",
       "      change_since_yesterday  tomorrow_change  \n",
       "0                   0.054861         0.011372  \n",
       "1                  -0.022411        -0.013078  \n",
       "2                   0.056765         0.266265  \n",
       "3                   0.019533        -0.076314  \n",
       "4                  -0.014955         0.056765  \n",
       "...                      ...              ...  \n",
       "3163                0.000349        -0.004983  \n",
       "3164                0.000349        -0.004983  \n",
       "3165                0.000349        -0.004983  \n",
       "3166                0.000349        -0.004983  \n",
       "3167                0.000349        -0.004983  \n",
       "\n",
       "[3168 rows x 13 columns]"
      ]
     },
     "execution_count": 12,
     "metadata": {},
     "output_type": "execute_result"
    }
   ],
   "source": [
    "#checking data is okay\n",
    "Vitalik_eth_combined.isnull().sum()\n",
    "\n",
    "#Clean data\n",
    "#remove first and last values\n",
    "Vitalik_eth_combined"
   ]
  },
  {
   "cell_type": "markdown",
   "metadata": {},
   "source": [
    "Now that we have a merged dataframe the next step is to see whether sentiment correlates to return"
   ]
  },
  {
   "cell_type": "code",
   "execution_count": 13,
   "metadata": {},
   "outputs": [
    {
     "data": {
      "text/plain": [
       "count    3168.000000\n",
       "mean        0.002520\n",
       "std         0.037015\n",
       "min        -0.150253\n",
       "25%        -0.020718\n",
       "50%         0.000349\n",
       "75%         0.022473\n",
       "max         0.156425\n",
       "Name: change_since_yesterday, dtype: float64"
      ]
     },
     "execution_count": 13,
     "metadata": {},
     "output_type": "execute_result"
    },
    {
     "data": {
      "text/plain": [
       "count    3168.000000\n",
       "mean       -0.002049\n",
       "std         0.052614\n",
       "min        -0.345295\n",
       "25%        -0.015665\n",
       "50%        -0.002075\n",
       "75%         0.021105\n",
       "max         0.266265\n",
       "Name: tomorrow_change, dtype: float64"
      ]
     },
     "execution_count": 13,
     "metadata": {},
     "output_type": "execute_result"
    }
   ],
   "source": [
    "#Check average change\n",
    "Vitalik_eth_combined['change_since_yesterday'].describe()\n",
    "Vitalik_eth_combined['tomorrow_change'].describe()\n"
   ]
  },
  {
   "cell_type": "markdown",
   "metadata": {},
   "source": [
    "Going to group results by comp score and see how metrics vary based on whether the tweet was positive or negative. Too many columns so going to drop a few for easier analysis. "
   ]
  },
  {
   "cell_type": "code",
   "execution_count": 14,
   "metadata": {},
   "outputs": [
    {
     "data": {
      "text/html": [
       "<div>\n",
       "<style scoped>\n",
       "    .dataframe tbody tr th:only-of-type {\n",
       "        vertical-align: middle;\n",
       "    }\n",
       "\n",
       "    .dataframe tbody tr th {\n",
       "        vertical-align: top;\n",
       "    }\n",
       "\n",
       "    .dataframe thead tr th {\n",
       "        text-align: left;\n",
       "    }\n",
       "\n",
       "    .dataframe thead tr:last-of-type th {\n",
       "        text-align: right;\n",
       "    }\n",
       "</style>\n",
       "<table border=\"1\" class=\"dataframe\">\n",
       "  <thead>\n",
       "    <tr>\n",
       "      <th></th>\n",
       "      <th colspan=\"8\" halign=\"left\">compound</th>\n",
       "      <th colspan=\"8\" halign=\"left\">tomorrow_change</th>\n",
       "    </tr>\n",
       "    <tr>\n",
       "      <th></th>\n",
       "      <th>count</th>\n",
       "      <th>mean</th>\n",
       "      <th>std</th>\n",
       "      <th>min</th>\n",
       "      <th>25%</th>\n",
       "      <th>50%</th>\n",
       "      <th>75%</th>\n",
       "      <th>max</th>\n",
       "      <th>count</th>\n",
       "      <th>mean</th>\n",
       "      <th>std</th>\n",
       "      <th>min</th>\n",
       "      <th>25%</th>\n",
       "      <th>50%</th>\n",
       "      <th>75%</th>\n",
       "      <th>max</th>\n",
       "    </tr>\n",
       "    <tr>\n",
       "      <th>comp_score</th>\n",
       "      <th></th>\n",
       "      <th></th>\n",
       "      <th></th>\n",
       "      <th></th>\n",
       "      <th></th>\n",
       "      <th></th>\n",
       "      <th></th>\n",
       "      <th></th>\n",
       "      <th></th>\n",
       "      <th></th>\n",
       "      <th></th>\n",
       "      <th></th>\n",
       "      <th></th>\n",
       "      <th></th>\n",
       "      <th></th>\n",
       "      <th></th>\n",
       "    </tr>\n",
       "  </thead>\n",
       "  <tbody>\n",
       "    <tr>\n",
       "      <th>negative</th>\n",
       "      <td>783.0</td>\n",
       "      <td>-0.418832</td>\n",
       "      <td>0.246643</td>\n",
       "      <td>-0.9723</td>\n",
       "      <td>-0.58955</td>\n",
       "      <td>-0.4003</td>\n",
       "      <td>-0.2144</td>\n",
       "      <td>-0.0003</td>\n",
       "      <td>783.0</td>\n",
       "      <td>-0.002172</td>\n",
       "      <td>0.053426</td>\n",
       "      <td>-0.345295</td>\n",
       "      <td>-0.020718</td>\n",
       "      <td>-0.001879</td>\n",
       "      <td>0.023677</td>\n",
       "      <td>0.106078</td>\n",
       "    </tr>\n",
       "    <tr>\n",
       "      <th>positive</th>\n",
       "      <td>2385.0</td>\n",
       "      <td>0.362087</td>\n",
       "      <td>0.310582</td>\n",
       "      <td>0.0000</td>\n",
       "      <td>0.00000</td>\n",
       "      <td>0.3612</td>\n",
       "      <td>0.6369</td>\n",
       "      <td>0.9708</td>\n",
       "      <td>2385.0</td>\n",
       "      <td>-0.002008</td>\n",
       "      <td>0.052355</td>\n",
       "      <td>-0.345295</td>\n",
       "      <td>-0.015665</td>\n",
       "      <td>-0.002075</td>\n",
       "      <td>0.021105</td>\n",
       "      <td>0.266265</td>\n",
       "    </tr>\n",
       "  </tbody>\n",
       "</table>\n",
       "</div>"
      ],
      "text/plain": [
       "           compound                                                       \\\n",
       "              count      mean       std     min      25%     50%     75%   \n",
       "comp_score                                                                 \n",
       "negative      783.0 -0.418832  0.246643 -0.9723 -0.58955 -0.4003 -0.2144   \n",
       "positive     2385.0  0.362087  0.310582  0.0000  0.00000  0.3612  0.6369   \n",
       "\n",
       "                   tomorrow_change                                          \\\n",
       "               max           count      mean       std       min       25%   \n",
       "comp_score                                                                   \n",
       "negative   -0.0003           783.0 -0.002172  0.053426 -0.345295 -0.020718   \n",
       "positive    0.9708          2385.0 -0.002008  0.052355 -0.345295 -0.015665   \n",
       "\n",
       "                                          \n",
       "                 50%       75%       max  \n",
       "comp_score                                \n",
       "negative   -0.001879  0.023677  0.106078  \n",
       "positive   -0.002075  0.021105  0.266265  "
      ]
     },
     "execution_count": 14,
     "metadata": {},
     "output_type": "execute_result"
    }
   ],
   "source": [
    "Vitalik_eth_future = Vitalik_eth_combined[['compound','comp_score','tomorrow_change']]\n",
    "Vitalik_eth_future.groupby(['comp_score']).describe()"
   ]
  },
  {
   "cell_type": "markdown",
   "metadata": {},
   "source": [
    "From the above we can see that both positive and negative tweets, on average, yield very similiar returns the next day. Both are negative ~ 0.002. Interestingly the median return is higher for tweets the day following negative tweets."
   ]
  },
  {
   "cell_type": "markdown",
   "metadata": {},
   "source": [
    "Instead we will look to see whether compound (the continous variable representing sentiment) correlates with daily change."
   ]
  },
  {
   "cell_type": "code",
   "execution_count": 15,
   "metadata": {},
   "outputs": [
    {
     "data": {
      "text/plain": [
       "0.0020801122881692917"
      ]
     },
     "execution_count": 15,
     "metadata": {},
     "output_type": "execute_result"
    },
    {
     "data": {
      "text/plain": [
       "-0.010078193036164917"
      ]
     },
     "execution_count": 15,
     "metadata": {},
     "output_type": "execute_result"
    }
   ],
   "source": [
    "Vitalik_eth_future['compound'].corr(Vitalik_eth_future['tomorrow_change'])\n",
    "Vitalik_eth_combined['compound'].corr(Vitalik_eth_combined['change_since_yesterday'])"
   ]
  },
  {
   "cell_type": "markdown",
   "metadata": {},
   "source": [
    "As we can see the correlation is very weak and so we can conclude that the sentiment of Vitaliks tweets can not act as a predictor to ETH price changes. It also does not correlate with the previous days change and as such we can say past changes do not seem to impact his sentiment."
   ]
  },
  {
   "cell_type": "markdown",
   "metadata": {},
   "source": [
    "Looking at cases which are more positve or negative. For this we pick an aribitrary limit of 50% as at this point the classifer has sufficient certainty. "
   ]
  },
  {
   "cell_type": "code",
   "execution_count": 16,
   "metadata": {},
   "outputs": [
    {
     "data": {
      "text/plain": [
       "count    1985.000000\n",
       "mean        0.005883\n",
       "std         0.066383\n",
       "min        -0.345295\n",
       "25%        -0.022488\n",
       "50%         0.001414\n",
       "75%         0.029654\n",
       "max         0.541410\n",
       "Name: tomorrow_change, dtype: float64"
      ]
     },
     "execution_count": 16,
     "metadata": {},
     "output_type": "execute_result"
    },
    {
     "data": {
      "text/plain": [
       "count    3168.000000\n",
       "mean       -0.002049\n",
       "std         0.052614\n",
       "min        -0.345295\n",
       "25%        -0.015665\n",
       "50%        -0.002075\n",
       "75%         0.021105\n",
       "max         0.266265\n",
       "Name: tomorrow_change, dtype: float64"
      ]
     },
     "execution_count": 16,
     "metadata": {},
     "output_type": "execute_result"
    },
    {
     "data": {
      "text/plain": [
       "count    864.000000\n",
       "mean      -0.002096\n",
       "std        0.048734\n",
       "min       -0.345295\n",
       "25%       -0.015665\n",
       "50%       -0.002075\n",
       "75%        0.020350\n",
       "max        0.106078\n",
       "Name: tomorrow_change, dtype: float64"
      ]
     },
     "execution_count": 16,
     "metadata": {},
     "output_type": "execute_result"
    },
    {
     "data": {
      "text/plain": [
       "count    281.000000\n",
       "mean      -0.005931\n",
       "std        0.054098\n",
       "min       -0.345295\n",
       "25%       -0.020718\n",
       "50%       -0.002850\n",
       "75%        0.021105\n",
       "max        0.082690\n",
       "Name: tomorrow_change, dtype: float64"
      ]
     },
     "execution_count": 16,
     "metadata": {},
     "output_type": "execute_result"
    }
   ],
   "source": [
    "\n",
    "vitalik_over50 = Vitalik_eth_future.copy()\n",
    "vitalik_under50 = Vitalik_eth_future.copy()\n",
    "\n",
    "vitalik_over50 = vitalik_over50[vitalik_over50.compound > 0.5]\n",
    "vitalik_under50= vitalik_under50[vitalik_under50.compound < -0.5]\n",
    "\n",
    "\n",
    "eth_clean['tomorrow_change'].describe()\n",
    "Vitalik_eth_future['tomorrow_change'].describe()\n",
    "vitalik_over50['tomorrow_change'].describe()\n",
    "vitalik_under50['tomorrow_change'].describe()"
   ]
  },
  {
   "cell_type": "markdown",
   "metadata": {},
   "source": [
    "As we see the mean returns are negative for all of Vitaliks tweets, however the mean return for days following very negative tweets is notably lower than average. As such we observe that Vitaliks tweets can act as a predictor of negative returns but less so of positve returns. "
   ]
  },
  {
   "cell_type": "markdown",
   "metadata": {},
   "source": [
    "# Bitcoin data\n",
    "\n",
    "I will now prep bitcoin data for analysis."
   ]
  },
  {
   "cell_type": "code",
   "execution_count": 17,
   "metadata": {},
   "outputs": [
    {
     "data": {
      "text/html": [
       "<div>\n",
       "<style scoped>\n",
       "    .dataframe tbody tr th:only-of-type {\n",
       "        vertical-align: middle;\n",
       "    }\n",
       "\n",
       "    .dataframe tbody tr th {\n",
       "        vertical-align: top;\n",
       "    }\n",
       "\n",
       "    .dataframe thead th {\n",
       "        text-align: right;\n",
       "    }\n",
       "</style>\n",
       "<table border=\"1\" class=\"dataframe\">\n",
       "  <thead>\n",
       "    <tr style=\"text-align: right;\">\n",
       "      <th></th>\n",
       "      <th>Date</th>\n",
       "      <th>Open</th>\n",
       "      <th>Change Tomorrow</th>\n",
       "    </tr>\n",
       "  </thead>\n",
       "  <tbody>\n",
       "    <tr>\n",
       "      <th>0</th>\n",
       "      <td>2014-09-17</td>\n",
       "      <td>465.864014</td>\n",
       "      <td>-0.019328</td>\n",
       "    </tr>\n",
       "    <tr>\n",
       "      <th>1</th>\n",
       "      <td>2014-09-18</td>\n",
       "      <td>456.859985</td>\n",
       "      <td>-0.071700</td>\n",
       "    </tr>\n",
       "    <tr>\n",
       "      <th>2</th>\n",
       "      <td>2014-09-19</td>\n",
       "      <td>424.102997</td>\n",
       "      <td>-0.069394</td>\n",
       "    </tr>\n",
       "    <tr>\n",
       "      <th>3</th>\n",
       "      <td>2014-09-20</td>\n",
       "      <td>394.673004</td>\n",
       "      <td>0.033983</td>\n",
       "    </tr>\n",
       "    <tr>\n",
       "      <th>4</th>\n",
       "      <td>2014-09-21</td>\n",
       "      <td>408.084991</td>\n",
       "      <td>-0.022017</td>\n",
       "    </tr>\n",
       "    <tr>\n",
       "      <th>...</th>\n",
       "      <td>...</td>\n",
       "      <td>...</td>\n",
       "      <td>...</td>\n",
       "    </tr>\n",
       "    <tr>\n",
       "      <th>2348</th>\n",
       "      <td>2021-02-20</td>\n",
       "      <td>55887.335938</td>\n",
       "      <td>0.003243</td>\n",
       "    </tr>\n",
       "    <tr>\n",
       "      <th>2349</th>\n",
       "      <td>2021-02-21</td>\n",
       "      <td>56068.566406</td>\n",
       "      <td>0.026114</td>\n",
       "    </tr>\n",
       "    <tr>\n",
       "      <th>2350</th>\n",
       "      <td>2021-02-22</td>\n",
       "      <td>57532.738281</td>\n",
       "      <td>-0.057842</td>\n",
       "    </tr>\n",
       "    <tr>\n",
       "      <th>2351</th>\n",
       "      <td>2021-02-23</td>\n",
       "      <td>54204.929688</td>\n",
       "      <td>-0.099066</td>\n",
       "    </tr>\n",
       "    <tr>\n",
       "      <th>2352</th>\n",
       "      <td>2021-02-24</td>\n",
       "      <td>48835.085938</td>\n",
       "      <td>0.030491</td>\n",
       "    </tr>\n",
       "  </tbody>\n",
       "</table>\n",
       "<p>2346 rows × 3 columns</p>\n",
       "</div>"
      ],
      "text/plain": [
       "           Date          Open  Change Tomorrow\n",
       "0    2014-09-17    465.864014        -0.019328\n",
       "1    2014-09-18    456.859985        -0.071700\n",
       "2    2014-09-19    424.102997        -0.069394\n",
       "3    2014-09-20    394.673004         0.033983\n",
       "4    2014-09-21    408.084991        -0.022017\n",
       "...         ...           ...              ...\n",
       "2348 2021-02-20  55887.335938         0.003243\n",
       "2349 2021-02-21  56068.566406         0.026114\n",
       "2350 2021-02-22  57532.738281        -0.057842\n",
       "2351 2021-02-23  54204.929688        -0.099066\n",
       "2352 2021-02-24  48835.085938         0.030491\n",
       "\n",
       "[2346 rows x 3 columns]"
      ]
     },
     "execution_count": 17,
     "metadata": {},
     "output_type": "execute_result"
    },
    {
     "data": {
      "text/html": [
       "<div>\n",
       "<style scoped>\n",
       "    .dataframe tbody tr th:only-of-type {\n",
       "        vertical-align: middle;\n",
       "    }\n",
       "\n",
       "    .dataframe tbody tr th {\n",
       "        vertical-align: top;\n",
       "    }\n",
       "\n",
       "    .dataframe thead th {\n",
       "        text-align: right;\n",
       "    }\n",
       "</style>\n",
       "<table border=\"1\" class=\"dataframe\">\n",
       "  <thead>\n",
       "    <tr style=\"text-align: right;\">\n",
       "      <th></th>\n",
       "      <th>Open</th>\n",
       "      <th>Change Tomorrow</th>\n",
       "    </tr>\n",
       "  </thead>\n",
       "  <tbody>\n",
       "    <tr>\n",
       "      <th>count</th>\n",
       "      <td>2350.000000</td>\n",
       "      <td>2346.000000</td>\n",
       "    </tr>\n",
       "    <tr>\n",
       "      <th>mean</th>\n",
       "      <td>5740.571293</td>\n",
       "      <td>0.002707</td>\n",
       "    </tr>\n",
       "    <tr>\n",
       "      <th>std</th>\n",
       "      <td>7211.622111</td>\n",
       "      <td>0.038748</td>\n",
       "    </tr>\n",
       "    <tr>\n",
       "      <th>min</th>\n",
       "      <td>176.897003</td>\n",
       "      <td>-0.365924</td>\n",
       "    </tr>\n",
       "    <tr>\n",
       "      <th>25%</th>\n",
       "      <td>450.636002</td>\n",
       "      <td>-0.011963</td>\n",
       "    </tr>\n",
       "    <tr>\n",
       "      <th>50%</th>\n",
       "      <td>4000.294311</td>\n",
       "      <td>0.002015</td>\n",
       "    </tr>\n",
       "    <tr>\n",
       "      <th>75%</th>\n",
       "      <td>8723.927490</td>\n",
       "      <td>0.017756</td>\n",
       "    </tr>\n",
       "    <tr>\n",
       "      <th>max</th>\n",
       "      <td>57532.738281</td>\n",
       "      <td>0.250461</td>\n",
       "    </tr>\n",
       "  </tbody>\n",
       "</table>\n",
       "</div>"
      ],
      "text/plain": [
       "               Open  Change Tomorrow\n",
       "count   2350.000000      2346.000000\n",
       "mean    5740.571293         0.002707\n",
       "std     7211.622111         0.038748\n",
       "min      176.897003        -0.365924\n",
       "25%      450.636002        -0.011963\n",
       "50%     4000.294311         0.002015\n",
       "75%     8723.927490         0.017756\n",
       "max    57532.738281         0.250461"
      ]
     },
     "execution_count": 17,
     "metadata": {},
     "output_type": "execute_result"
    }
   ],
   "source": [
    "btc_base = pd.read_csv(\"BTC.csv\")\n",
    "\n",
    "btc_clean = btc_base.copy()\n",
    "del btc_clean['High']\n",
    "del btc_clean['Low']\n",
    "del btc_clean['Close']\n",
    "del btc_clean['Adj Close']\n",
    "del btc_clean['Volume']\n",
    "\n",
    "#fix date column \n",
    "btc_clean['Date'] = pd.to_datetime(btc_clean['Date'])\n",
    "\n",
    "btc_clean['Change Tomorrow'] = (btc_clean['Open'].shift(-1) - btc_clean['Open']) / btc_clean['Open']\n",
    "\n",
    "btc_clean.dropna()\n",
    "\n",
    "btc_clean.describe()"
   ]
  },
  {
   "cell_type": "code",
   "execution_count": null,
   "metadata": {},
   "outputs": [],
   "source": []
  },
  {
   "cell_type": "code",
   "execution_count": null,
   "metadata": {},
   "outputs": [],
   "source": []
  },
  {
   "cell_type": "markdown",
   "metadata": {},
   "source": [
    "# Charlie Lee - Creator of Litecoin"
   ]
  },
  {
   "cell_type": "code",
   "execution_count": 18,
   "metadata": {},
   "outputs": [
    {
     "data": {
      "text/html": [
       "<div>\n",
       "<style scoped>\n",
       "    .dataframe tbody tr th:only-of-type {\n",
       "        vertical-align: middle;\n",
       "    }\n",
       "\n",
       "    .dataframe tbody tr th {\n",
       "        vertical-align: top;\n",
       "    }\n",
       "\n",
       "    .dataframe thead th {\n",
       "        text-align: right;\n",
       "    }\n",
       "</style>\n",
       "<table border=\"1\" class=\"dataframe\">\n",
       "  <thead>\n",
       "    <tr style=\"text-align: right;\">\n",
       "      <th></th>\n",
       "      <th>Date</th>\n",
       "      <th>Open</th>\n",
       "      <th>Return Tomorrow</th>\n",
       "    </tr>\n",
       "  </thead>\n",
       "  <tbody>\n",
       "    <tr>\n",
       "      <th>0</th>\n",
       "      <td>2014-09-17</td>\n",
       "      <td>5.085890</td>\n",
       "      <td>-0.004023</td>\n",
       "    </tr>\n",
       "    <tr>\n",
       "      <th>1</th>\n",
       "      <td>2014-09-18</td>\n",
       "      <td>5.065430</td>\n",
       "      <td>-0.074651</td>\n",
       "    </tr>\n",
       "    <tr>\n",
       "      <th>2</th>\n",
       "      <td>2014-09-19</td>\n",
       "      <td>4.687290</td>\n",
       "      <td>-0.076396</td>\n",
       "    </tr>\n",
       "    <tr>\n",
       "      <th>3</th>\n",
       "      <td>2014-09-20</td>\n",
       "      <td>4.329200</td>\n",
       "      <td>-0.015275</td>\n",
       "    </tr>\n",
       "    <tr>\n",
       "      <th>4</th>\n",
       "      <td>2014-09-21</td>\n",
       "      <td>4.263070</td>\n",
       "      <td>-0.004021</td>\n",
       "    </tr>\n",
       "    <tr>\n",
       "      <th>...</th>\n",
       "      <td>...</td>\n",
       "      <td>...</td>\n",
       "      <td>...</td>\n",
       "    </tr>\n",
       "    <tr>\n",
       "      <th>2348</th>\n",
       "      <td>2021-02-20</td>\n",
       "      <td>236.654907</td>\n",
       "      <td>-0.038602</td>\n",
       "    </tr>\n",
       "    <tr>\n",
       "      <th>2349</th>\n",
       "      <td>2021-02-21</td>\n",
       "      <td>227.519623</td>\n",
       "      <td>-0.001300</td>\n",
       "    </tr>\n",
       "    <tr>\n",
       "      <th>2350</th>\n",
       "      <td>2021-02-22</td>\n",
       "      <td>227.223816</td>\n",
       "      <td>-0.084060</td>\n",
       "    </tr>\n",
       "    <tr>\n",
       "      <th>2351</th>\n",
       "      <td>2021-02-23</td>\n",
       "      <td>208.123413</td>\n",
       "      <td>-0.149703</td>\n",
       "    </tr>\n",
       "    <tr>\n",
       "      <th>2352</th>\n",
       "      <td>2021-02-24</td>\n",
       "      <td>176.966766</td>\n",
       "      <td>0.090042</td>\n",
       "    </tr>\n",
       "  </tbody>\n",
       "</table>\n",
       "<p>2346 rows × 3 columns</p>\n",
       "</div>"
      ],
      "text/plain": [
       "           Date        Open  Return Tomorrow\n",
       "0    2014-09-17    5.085890        -0.004023\n",
       "1    2014-09-18    5.065430        -0.074651\n",
       "2    2014-09-19    4.687290        -0.076396\n",
       "3    2014-09-20    4.329200        -0.015275\n",
       "4    2014-09-21    4.263070        -0.004021\n",
       "...         ...         ...              ...\n",
       "2348 2021-02-20  236.654907        -0.038602\n",
       "2349 2021-02-21  227.519623        -0.001300\n",
       "2350 2021-02-22  227.223816        -0.084060\n",
       "2351 2021-02-23  208.123413        -0.149703\n",
       "2352 2021-02-24  176.966766         0.090042\n",
       "\n",
       "[2346 rows x 3 columns]"
      ]
     },
     "execution_count": 18,
     "metadata": {},
     "output_type": "execute_result"
    }
   ],
   "source": [
    "#Get Litecoin data \n",
    "\n",
    "ltc = pd.read_csv(\"LTC.csv\")\n",
    "\n",
    "#wee spring clean for the data\n",
    "del ltc['High']\n",
    "del ltc['Low']\n",
    "del ltc['Close']\n",
    "del ltc['Adj Close']\n",
    "del ltc['Volume']\n",
    "\n",
    "#fix date column \n",
    "ltc['Date'] = pd.to_datetime(ltc['Date'])\n",
    "\n",
    "#Feature engineer daily change column\n",
    "ltc['Return Tomorrow'] = (ltc['Open'].shift(-1) - ltc['Open']) / ltc['Open']\n",
    "\n",
    "#Delete nan rows\n",
    "ltc.dropna()"
   ]
  },
  {
   "cell_type": "markdown",
   "metadata": {},
   "source": [
    "Charlie Lee tweets sentiment analysis"
   ]
  },
  {
   "cell_type": "code",
   "execution_count": 19,
   "metadata": {},
   "outputs": [],
   "source": [
    "charlie_lee_base = pd.read_csv(\"new_SatoshiLite_tweets.csv\")\n",
    "charlie_lee = pd.read_csv(\"new_SatoshiLite_tweets.csv\")\n",
    "del charlie_lee['id']\n",
    "\n",
    "#fix date column. We only want first 10 characters and then we want them as date type\n",
    "charlie_lee['created_at'] = charlie_lee['created_at'].str[:10].astype(str)\n",
    "charlie_lee['created_at'] = pd.to_datetime(charlie_lee['created_at'])\n",
    "#finally change name of UTC column to Date\n",
    "charlie_lee = charlie_lee.rename(columns={'created_at': 'Date'})"
   ]
  },
  {
   "cell_type": "markdown",
   "metadata": {},
   "source": [
    "In future I'd want to find a way to drop rows containing just emojis.\n",
    "\n",
    "Now run tweets through sentiment analysis model"
   ]
  },
  {
   "cell_type": "code",
   "execution_count": 20,
   "metadata": {},
   "outputs": [],
   "source": [
    "charlie_lee_sentiment = charlie_lee.copy()\n",
    "\n",
    "charlie_lee_sentiment['scores'] = charlie_lee_sentiment['text'].apply(lambda review: sid.polarity_scores(review))\n",
    "\n",
    "charlie_lee_sentiment['compound'] = charlie_lee_sentiment['scores'].apply(lambda score_dict: score_dict['compound'])\n",
    "charlie_lee_sentiment['comp_score'] = charlie_lee_sentiment['compound'].apply(lambda c: 'positive' if c >= 0 else 'negative')"
   ]
  },
  {
   "cell_type": "markdown",
   "metadata": {},
   "source": [
    "Clean compound scores, remove all 0's"
   ]
  },
  {
   "cell_type": "code",
   "execution_count": 21,
   "metadata": {},
   "outputs": [],
   "source": [
    "charlie_lee_sentiment= charlie_lee_sentiment[charlie_lee_sentiment['compound'] != 0]"
   ]
  },
  {
   "cell_type": "markdown",
   "metadata": {},
   "source": [
    "Merge sentiment with returns from same date"
   ]
  },
  {
   "cell_type": "code",
   "execution_count": 22,
   "metadata": {},
   "outputs": [
    {
     "data": {
      "text/html": [
       "<div>\n",
       "<style scoped>\n",
       "    .dataframe tbody tr th:only-of-type {\n",
       "        vertical-align: middle;\n",
       "    }\n",
       "\n",
       "    .dataframe tbody tr th {\n",
       "        vertical-align: top;\n",
       "    }\n",
       "\n",
       "    .dataframe thead th {\n",
       "        text-align: right;\n",
       "    }\n",
       "</style>\n",
       "<table border=\"1\" class=\"dataframe\">\n",
       "  <thead>\n",
       "    <tr style=\"text-align: right;\">\n",
       "      <th></th>\n",
       "      <th>Date</th>\n",
       "      <th>text</th>\n",
       "      <th>scores</th>\n",
       "      <th>compound</th>\n",
       "      <th>comp_score</th>\n",
       "      <th>Open</th>\n",
       "      <th>Return Tomorrow</th>\n",
       "    </tr>\n",
       "  </thead>\n",
       "  <tbody>\n",
       "    <tr>\n",
       "      <th>0</th>\n",
       "      <td>2021-02-24</td>\n",
       "      <td>RT @CoinDesk: Craig Wright is threatening lega...</td>\n",
       "      <td>{'neg': 0.2, 'neu': 0.642, 'pos': 0.158, 'comp...</td>\n",
       "      <td>-0.2732</td>\n",
       "      <td>negative</td>\n",
       "      <td>176.966766</td>\n",
       "      <td>0.090042</td>\n",
       "    </tr>\n",
       "    <tr>\n",
       "      <th>1</th>\n",
       "      <td>2021-02-23</td>\n",
       "      <td>RT @fintechfrank: \"'Contrary to online specula...</td>\n",
       "      <td>{'neg': 0.147, 'neu': 0.853, 'pos': 0.0, 'comp...</td>\n",
       "      <td>-0.3125</td>\n",
       "      <td>negative</td>\n",
       "      <td>208.123413</td>\n",
       "      <td>-0.149703</td>\n",
       "    </tr>\n",
       "    <tr>\n",
       "      <th>2</th>\n",
       "      <td>2021-02-23</td>\n",
       "      <td>RT @Privatechad_: 💵💵💵💵💵18,500,000 #USDT (18,50...</td>\n",
       "      <td>{'neg': 0.0, 'neu': 0.699, 'pos': 0.301, 'comp...</td>\n",
       "      <td>0.5106</td>\n",
       "      <td>positive</td>\n",
       "      <td>208.123413</td>\n",
       "      <td>-0.149703</td>\n",
       "    </tr>\n",
       "    <tr>\n",
       "      <th>3</th>\n",
       "      <td>2021-02-23</td>\n",
       "      <td>RT @fluffypony: With @magicalcrypto the dad jo...</td>\n",
       "      <td>{'neg': 0.0, 'neu': 0.86, 'pos': 0.14, 'compou...</td>\n",
       "      <td>0.3763</td>\n",
       "      <td>positive</td>\n",
       "      <td>208.123413</td>\n",
       "      <td>-0.149703</td>\n",
       "    </tr>\n",
       "    <tr>\n",
       "      <th>4</th>\n",
       "      <td>2021-02-22</td>\n",
       "      <td>RT @PennBlockchain: 1 day left! Don't forget t...</td>\n",
       "      <td>{'neg': 0.0, 'neu': 0.907, 'pos': 0.093, 'comp...</td>\n",
       "      <td>0.2401</td>\n",
       "      <td>positive</td>\n",
       "      <td>227.223816</td>\n",
       "      <td>-0.084060</td>\n",
       "    </tr>\n",
       "    <tr>\n",
       "      <th>...</th>\n",
       "      <td>...</td>\n",
       "      <td>...</td>\n",
       "      <td>...</td>\n",
       "      <td>...</td>\n",
       "      <td>...</td>\n",
       "      <td>...</td>\n",
       "      <td>...</td>\n",
       "    </tr>\n",
       "    <tr>\n",
       "      <th>1957</th>\n",
       "      <td>2018-07-09</td>\n",
       "      <td>@litecoin_moon @cheddar Sure</td>\n",
       "      <td>{'neg': 0.0, 'neu': 0.465, 'pos': 0.535, 'comp...</td>\n",
       "      <td>0.3182</td>\n",
       "      <td>positive</td>\n",
       "      <td>82.544098</td>\n",
       "      <td>-0.021344</td>\n",
       "    </tr>\n",
       "    <tr>\n",
       "      <th>1958</th>\n",
       "      <td>2018-07-08</td>\n",
       "      <td>@cryptoMD45 @EagleESBD @Ms_Bitcoin @jaredctate...</td>\n",
       "      <td>{'neg': 0.439, 'neu': 0.561, 'pos': 0.0, 'comp...</td>\n",
       "      <td>-0.5719</td>\n",
       "      <td>negative</td>\n",
       "      <td>86.262299</td>\n",
       "      <td>-0.043103</td>\n",
       "    </tr>\n",
       "    <tr>\n",
       "      <th>1959</th>\n",
       "      <td>2018-07-08</td>\n",
       "      <td>@cryptoadcock @ketominer @WhalePanda @maharish...</td>\n",
       "      <td>{'neg': 0.096, 'neu': 0.663, 'pos': 0.241, 'co...</td>\n",
       "      <td>0.5267</td>\n",
       "      <td>positive</td>\n",
       "      <td>86.262299</td>\n",
       "      <td>-0.043103</td>\n",
       "    </tr>\n",
       "    <tr>\n",
       "      <th>1960</th>\n",
       "      <td>2018-07-08</td>\n",
       "      <td>@ketominer @WhalePanda @maharishi22 @magicalcr...</td>\n",
       "      <td>{'neg': 0.128, 'neu': 0.872, 'pos': 0.0, 'comp...</td>\n",
       "      <td>-0.2960</td>\n",
       "      <td>negative</td>\n",
       "      <td>86.262299</td>\n",
       "      <td>-0.043103</td>\n",
       "    </tr>\n",
       "    <tr>\n",
       "      <th>1961</th>\n",
       "      <td>2018-07-08</td>\n",
       "      <td>@WhalePanda @maharishi22 @magicalcrypto @Excel...</td>\n",
       "      <td>{'neg': 0.0, 'neu': 0.872, 'pos': 0.128, 'comp...</td>\n",
       "      <td>0.2960</td>\n",
       "      <td>positive</td>\n",
       "      <td>86.262299</td>\n",
       "      <td>-0.043103</td>\n",
       "    </tr>\n",
       "  </tbody>\n",
       "</table>\n",
       "<p>1962 rows × 7 columns</p>\n",
       "</div>"
      ],
      "text/plain": [
       "           Date                                               text  \\\n",
       "0    2021-02-24  RT @CoinDesk: Craig Wright is threatening lega...   \n",
       "1    2021-02-23  RT @fintechfrank: \"'Contrary to online specula...   \n",
       "2    2021-02-23  RT @Privatechad_: 💵💵💵💵💵18,500,000 #USDT (18,50...   \n",
       "3    2021-02-23  RT @fluffypony: With @magicalcrypto the dad jo...   \n",
       "4    2021-02-22  RT @PennBlockchain: 1 day left! Don't forget t...   \n",
       "...         ...                                                ...   \n",
       "1957 2018-07-09                       @litecoin_moon @cheddar Sure   \n",
       "1958 2018-07-08  @cryptoMD45 @EagleESBD @Ms_Bitcoin @jaredctate...   \n",
       "1959 2018-07-08  @cryptoadcock @ketominer @WhalePanda @maharish...   \n",
       "1960 2018-07-08  @ketominer @WhalePanda @maharishi22 @magicalcr...   \n",
       "1961 2018-07-08  @WhalePanda @maharishi22 @magicalcrypto @Excel...   \n",
       "\n",
       "                                                 scores  compound comp_score  \\\n",
       "0     {'neg': 0.2, 'neu': 0.642, 'pos': 0.158, 'comp...   -0.2732   negative   \n",
       "1     {'neg': 0.147, 'neu': 0.853, 'pos': 0.0, 'comp...   -0.3125   negative   \n",
       "2     {'neg': 0.0, 'neu': 0.699, 'pos': 0.301, 'comp...    0.5106   positive   \n",
       "3     {'neg': 0.0, 'neu': 0.86, 'pos': 0.14, 'compou...    0.3763   positive   \n",
       "4     {'neg': 0.0, 'neu': 0.907, 'pos': 0.093, 'comp...    0.2401   positive   \n",
       "...                                                 ...       ...        ...   \n",
       "1957  {'neg': 0.0, 'neu': 0.465, 'pos': 0.535, 'comp...    0.3182   positive   \n",
       "1958  {'neg': 0.439, 'neu': 0.561, 'pos': 0.0, 'comp...   -0.5719   negative   \n",
       "1959  {'neg': 0.096, 'neu': 0.663, 'pos': 0.241, 'co...    0.5267   positive   \n",
       "1960  {'neg': 0.128, 'neu': 0.872, 'pos': 0.0, 'comp...   -0.2960   negative   \n",
       "1961  {'neg': 0.0, 'neu': 0.872, 'pos': 0.128, 'comp...    0.2960   positive   \n",
       "\n",
       "            Open  Return Tomorrow  \n",
       "0     176.966766         0.090042  \n",
       "1     208.123413        -0.149703  \n",
       "2     208.123413        -0.149703  \n",
       "3     208.123413        -0.149703  \n",
       "4     227.223816        -0.084060  \n",
       "...          ...              ...  \n",
       "1957   82.544098        -0.021344  \n",
       "1958   86.262299        -0.043103  \n",
       "1959   86.262299        -0.043103  \n",
       "1960   86.262299        -0.043103  \n",
       "1961   86.262299        -0.043103  \n",
       "\n",
       "[1962 rows x 7 columns]"
      ]
     },
     "execution_count": 22,
     "metadata": {},
     "output_type": "execute_result"
    }
   ],
   "source": [
    "charlie_lee_combined = pd.merge(charlie_lee_sentiment, ltc)\n",
    "charlie_lee_combined"
   ]
  },
  {
   "cell_type": "markdown",
   "metadata": {},
   "source": [
    "Analysis on relationship between sentiment and return "
   ]
  },
  {
   "cell_type": "code",
   "execution_count": 23,
   "metadata": {},
   "outputs": [
    {
     "data": {
      "text/plain": [
       "0.00599558141436715"
      ]
     },
     "execution_count": 23,
     "metadata": {},
     "output_type": "execute_result"
    }
   ],
   "source": [
    "charlie_lee_combined['compound'].corr(charlie_lee_combined['Return Tomorrow'])"
   ]
  },
  {
   "cell_type": "markdown",
   "metadata": {},
   "source": [
    "Testing for correlations where compound further from 0"
   ]
  },
  {
   "cell_type": "markdown",
   "metadata": {},
   "source": [
    "Compound > 50"
   ]
  },
  {
   "cell_type": "code",
   "execution_count": 24,
   "metadata": {},
   "outputs": [],
   "source": [
    "charlie_over50 = charlie_lee_combined.copy()\n",
    "\n",
    "#df_filtered = charlie_over50.query('compound > 50')\n",
    "\n",
    "charlie_over50  = charlie_over50[charlie_over50.compound > 0.50]"
   ]
  },
  {
   "cell_type": "code",
   "execution_count": 25,
   "metadata": {},
   "outputs": [
    {
     "data": {
      "text/html": [
       "<div>\n",
       "<style scoped>\n",
       "    .dataframe tbody tr th:only-of-type {\n",
       "        vertical-align: middle;\n",
       "    }\n",
       "\n",
       "    .dataframe tbody tr th {\n",
       "        vertical-align: top;\n",
       "    }\n",
       "\n",
       "    .dataframe thead th {\n",
       "        text-align: right;\n",
       "    }\n",
       "</style>\n",
       "<table border=\"1\" class=\"dataframe\">\n",
       "  <thead>\n",
       "    <tr style=\"text-align: right;\">\n",
       "      <th></th>\n",
       "      <th>Open</th>\n",
       "      <th>Return Tomorrow</th>\n",
       "    </tr>\n",
       "  </thead>\n",
       "  <tbody>\n",
       "    <tr>\n",
       "      <th>count</th>\n",
       "      <td>2350.000000</td>\n",
       "      <td>2346.000000</td>\n",
       "    </tr>\n",
       "    <tr>\n",
       "      <th>mean</th>\n",
       "      <td>48.749324</td>\n",
       "      <td>0.003133</td>\n",
       "    </tr>\n",
       "    <tr>\n",
       "      <th>std</th>\n",
       "      <td>55.431305</td>\n",
       "      <td>0.058355</td>\n",
       "    </tr>\n",
       "    <tr>\n",
       "      <th>min</th>\n",
       "      <td>1.153240</td>\n",
       "      <td>-0.405372</td>\n",
       "    </tr>\n",
       "    <tr>\n",
       "      <th>25%</th>\n",
       "      <td>3.818988</td>\n",
       "      <td>-0.019621</td>\n",
       "    </tr>\n",
       "    <tr>\n",
       "      <th>50%</th>\n",
       "      <td>42.494026</td>\n",
       "      <td>-0.000396</td>\n",
       "    </tr>\n",
       "    <tr>\n",
       "      <th>75%</th>\n",
       "      <td>64.349720</td>\n",
       "      <td>0.020094</td>\n",
       "    </tr>\n",
       "    <tr>\n",
       "      <th>max</th>\n",
       "      <td>359.125000</td>\n",
       "      <td>0.679560</td>\n",
       "    </tr>\n",
       "  </tbody>\n",
       "</table>\n",
       "</div>"
      ],
      "text/plain": [
       "              Open  Return Tomorrow\n",
       "count  2350.000000      2346.000000\n",
       "mean     48.749324         0.003133\n",
       "std      55.431305         0.058355\n",
       "min       1.153240        -0.405372\n",
       "25%       3.818988        -0.019621\n",
       "50%      42.494026        -0.000396\n",
       "75%      64.349720         0.020094\n",
       "max     359.125000         0.679560"
      ]
     },
     "execution_count": 25,
     "metadata": {},
     "output_type": "execute_result"
    },
    {
     "data": {
      "text/html": [
       "<div>\n",
       "<style scoped>\n",
       "    .dataframe tbody tr th:only-of-type {\n",
       "        vertical-align: middle;\n",
       "    }\n",
       "\n",
       "    .dataframe tbody tr th {\n",
       "        vertical-align: top;\n",
       "    }\n",
       "\n",
       "    .dataframe thead th {\n",
       "        text-align: right;\n",
       "    }\n",
       "</style>\n",
       "<table border=\"1\" class=\"dataframe\">\n",
       "  <thead>\n",
       "    <tr style=\"text-align: right;\">\n",
       "      <th></th>\n",
       "      <th>compound</th>\n",
       "      <th>Open</th>\n",
       "      <th>Return Tomorrow</th>\n",
       "    </tr>\n",
       "  </thead>\n",
       "  <tbody>\n",
       "    <tr>\n",
       "      <th>count</th>\n",
       "      <td>1962.000000</td>\n",
       "      <td>1945.000000</td>\n",
       "      <td>1941.000000</td>\n",
       "    </tr>\n",
       "    <tr>\n",
       "      <th>mean</th>\n",
       "      <td>0.187524</td>\n",
       "      <td>70.154210</td>\n",
       "      <td>0.003164</td>\n",
       "    </tr>\n",
       "    <tr>\n",
       "      <th>std</th>\n",
       "      <td>0.452056</td>\n",
       "      <td>33.069287</td>\n",
       "      <td>0.049862</td>\n",
       "    </tr>\n",
       "    <tr>\n",
       "      <th>min</th>\n",
       "      <td>-0.904100</td>\n",
       "      <td>23.646481</td>\n",
       "      <td>-0.176406</td>\n",
       "    </tr>\n",
       "    <tr>\n",
       "      <th>25%</th>\n",
       "      <td>-0.250000</td>\n",
       "      <td>48.243027</td>\n",
       "      <td>-0.026276</td>\n",
       "    </tr>\n",
       "    <tr>\n",
       "      <th>50%</th>\n",
       "      <td>0.340000</td>\n",
       "      <td>61.437935</td>\n",
       "      <td>-0.001596</td>\n",
       "    </tr>\n",
       "    <tr>\n",
       "      <th>75%</th>\n",
       "      <td>0.525500</td>\n",
       "      <td>82.544098</td>\n",
       "      <td>0.032368</td>\n",
       "    </tr>\n",
       "    <tr>\n",
       "      <th>max</th>\n",
       "      <td>0.950100</td>\n",
       "      <td>236.654907</td>\n",
       "      <td>0.294464</td>\n",
       "    </tr>\n",
       "  </tbody>\n",
       "</table>\n",
       "</div>"
      ],
      "text/plain": [
       "          compound         Open  Return Tomorrow\n",
       "count  1962.000000  1945.000000      1941.000000\n",
       "mean      0.187524    70.154210         0.003164\n",
       "std       0.452056    33.069287         0.049862\n",
       "min      -0.904100    23.646481        -0.176406\n",
       "25%      -0.250000    48.243027        -0.026276\n",
       "50%       0.340000    61.437935        -0.001596\n",
       "75%       0.525500    82.544098         0.032368\n",
       "max       0.950100   236.654907         0.294464"
      ]
     },
     "execution_count": 25,
     "metadata": {},
     "output_type": "execute_result"
    },
    {
     "data": {
      "text/html": [
       "<div>\n",
       "<style scoped>\n",
       "    .dataframe tbody tr th:only-of-type {\n",
       "        vertical-align: middle;\n",
       "    }\n",
       "\n",
       "    .dataframe tbody tr th {\n",
       "        vertical-align: top;\n",
       "    }\n",
       "\n",
       "    .dataframe thead th {\n",
       "        text-align: right;\n",
       "    }\n",
       "</style>\n",
       "<table border=\"1\" class=\"dataframe\">\n",
       "  <thead>\n",
       "    <tr style=\"text-align: right;\">\n",
       "      <th></th>\n",
       "      <th>compound</th>\n",
       "      <th>Open</th>\n",
       "      <th>Return Tomorrow</th>\n",
       "    </tr>\n",
       "  </thead>\n",
       "  <tbody>\n",
       "    <tr>\n",
       "      <th>count</th>\n",
       "      <td>524.000000</td>\n",
       "      <td>520.000000</td>\n",
       "      <td>519.000000</td>\n",
       "    </tr>\n",
       "    <tr>\n",
       "      <th>mean</th>\n",
       "      <td>0.678177</td>\n",
       "      <td>68.392508</td>\n",
       "      <td>0.004619</td>\n",
       "    </tr>\n",
       "    <tr>\n",
       "      <th>std</th>\n",
       "      <td>0.107530</td>\n",
       "      <td>32.517406</td>\n",
       "      <td>0.053739</td>\n",
       "    </tr>\n",
       "    <tr>\n",
       "      <th>min</th>\n",
       "      <td>0.501000</td>\n",
       "      <td>23.646481</td>\n",
       "      <td>-0.176406</td>\n",
       "    </tr>\n",
       "    <tr>\n",
       "      <th>25%</th>\n",
       "      <td>0.596225</td>\n",
       "      <td>47.450291</td>\n",
       "      <td>-0.026284</td>\n",
       "    </tr>\n",
       "    <tr>\n",
       "      <th>50%</th>\n",
       "      <td>0.664250</td>\n",
       "      <td>59.575500</td>\n",
       "      <td>0.000187</td>\n",
       "    </tr>\n",
       "    <tr>\n",
       "      <th>75%</th>\n",
       "      <td>0.750600</td>\n",
       "      <td>78.959602</td>\n",
       "      <td>0.031677</td>\n",
       "    </tr>\n",
       "    <tr>\n",
       "      <th>max</th>\n",
       "      <td>0.950100</td>\n",
       "      <td>227.519623</td>\n",
       "      <td>0.294464</td>\n",
       "    </tr>\n",
       "  </tbody>\n",
       "</table>\n",
       "</div>"
      ],
      "text/plain": [
       "         compound        Open  Return Tomorrow\n",
       "count  524.000000  520.000000       519.000000\n",
       "mean     0.678177   68.392508         0.004619\n",
       "std      0.107530   32.517406         0.053739\n",
       "min      0.501000   23.646481        -0.176406\n",
       "25%      0.596225   47.450291        -0.026284\n",
       "50%      0.664250   59.575500         0.000187\n",
       "75%      0.750600   78.959602         0.031677\n",
       "max      0.950100  227.519623         0.294464"
      ]
     },
     "execution_count": 25,
     "metadata": {},
     "output_type": "execute_result"
    }
   ],
   "source": [
    "ltc.describe()\n",
    "charlie_lee_combined.describe()\n",
    "charlie_over50.describe()"
   ]
  },
  {
   "cell_type": "markdown",
   "metadata": {},
   "source": [
    "The mean daily return of LTC is 0.003164, we can see that the mean on days following charlie tweets is approximetly the same. However tweets that score higher levels of positivity are characterised by higher than average returns.\n",
    "\n",
    "Converting these to annual return for "
   ]
  },
  {
   "cell_type": "code",
   "execution_count": 26,
   "metadata": {},
   "outputs": [
    {
     "data": {
      "text/plain": [
       "213.22680837998024"
      ]
     },
     "execution_count": 26,
     "metadata": {},
     "output_type": "execute_result"
    },
    {
     "data": {
      "text/plain": [
       "216.77984650104833"
      ]
     },
     "execution_count": 26,
     "metadata": {},
     "output_type": "execute_result"
    },
    {
     "data": {
      "text/plain": [
       "437.6584286890605"
      ]
     },
     "execution_count": 26,
     "metadata": {},
     "output_type": "execute_result"
    }
   ],
   "source": [
    "AnnualReturn1=((0.003133+1)**365 - 1)*100\n",
    "AnnualReturn2=((0.003164+1)**365 - 1)*100\n",
    "AnnualReturn3=((0.004619+1)**365 - 1)*100\n",
    "\n",
    "AnnualReturn1\n",
    "AnnualReturn2\n",
    "AnnualReturn3"
   ]
  },
  {
   "cell_type": "markdown",
   "metadata": {},
   "source": [
    "Returns are converted to annualised form for ease of comparison and to compare magnitude easier. As we can see the annualised return on days following positive tweets is more than double the normal return."
   ]
  },
  {
   "cell_type": "markdown",
   "metadata": {},
   "source": [
    "I will now perform the same analysis however looking at negative tweets with scores below - 0.5"
   ]
  },
  {
   "cell_type": "code",
   "execution_count": 27,
   "metadata": {},
   "outputs": [
    {
     "data": {
      "text/html": [
       "<div>\n",
       "<style scoped>\n",
       "    .dataframe tbody tr th:only-of-type {\n",
       "        vertical-align: middle;\n",
       "    }\n",
       "\n",
       "    .dataframe tbody tr th {\n",
       "        vertical-align: top;\n",
       "    }\n",
       "\n",
       "    .dataframe thead th {\n",
       "        text-align: right;\n",
       "    }\n",
       "</style>\n",
       "<table border=\"1\" class=\"dataframe\">\n",
       "  <thead>\n",
       "    <tr style=\"text-align: right;\">\n",
       "      <th></th>\n",
       "      <th>Open</th>\n",
       "      <th>Return Tomorrow</th>\n",
       "    </tr>\n",
       "  </thead>\n",
       "  <tbody>\n",
       "    <tr>\n",
       "      <th>count</th>\n",
       "      <td>2350.000000</td>\n",
       "      <td>2346.000000</td>\n",
       "    </tr>\n",
       "    <tr>\n",
       "      <th>mean</th>\n",
       "      <td>48.749324</td>\n",
       "      <td>0.003133</td>\n",
       "    </tr>\n",
       "    <tr>\n",
       "      <th>std</th>\n",
       "      <td>55.431305</td>\n",
       "      <td>0.058355</td>\n",
       "    </tr>\n",
       "    <tr>\n",
       "      <th>min</th>\n",
       "      <td>1.153240</td>\n",
       "      <td>-0.405372</td>\n",
       "    </tr>\n",
       "    <tr>\n",
       "      <th>25%</th>\n",
       "      <td>3.818988</td>\n",
       "      <td>-0.019621</td>\n",
       "    </tr>\n",
       "    <tr>\n",
       "      <th>50%</th>\n",
       "      <td>42.494026</td>\n",
       "      <td>-0.000396</td>\n",
       "    </tr>\n",
       "    <tr>\n",
       "      <th>75%</th>\n",
       "      <td>64.349720</td>\n",
       "      <td>0.020094</td>\n",
       "    </tr>\n",
       "    <tr>\n",
       "      <th>max</th>\n",
       "      <td>359.125000</td>\n",
       "      <td>0.679560</td>\n",
       "    </tr>\n",
       "  </tbody>\n",
       "</table>\n",
       "</div>"
      ],
      "text/plain": [
       "              Open  Return Tomorrow\n",
       "count  2350.000000      2346.000000\n",
       "mean     48.749324         0.003133\n",
       "std      55.431305         0.058355\n",
       "min       1.153240        -0.405372\n",
       "25%       3.818988        -0.019621\n",
       "50%      42.494026        -0.000396\n",
       "75%      64.349720         0.020094\n",
       "max     359.125000         0.679560"
      ]
     },
     "execution_count": 27,
     "metadata": {},
     "output_type": "execute_result"
    },
    {
     "data": {
      "text/html": [
       "<div>\n",
       "<style scoped>\n",
       "    .dataframe tbody tr th:only-of-type {\n",
       "        vertical-align: middle;\n",
       "    }\n",
       "\n",
       "    .dataframe tbody tr th {\n",
       "        vertical-align: top;\n",
       "    }\n",
       "\n",
       "    .dataframe thead th {\n",
       "        text-align: right;\n",
       "    }\n",
       "</style>\n",
       "<table border=\"1\" class=\"dataframe\">\n",
       "  <thead>\n",
       "    <tr style=\"text-align: right;\">\n",
       "      <th></th>\n",
       "      <th>compound</th>\n",
       "      <th>Open</th>\n",
       "      <th>Return Tomorrow</th>\n",
       "    </tr>\n",
       "  </thead>\n",
       "  <tbody>\n",
       "    <tr>\n",
       "      <th>count</th>\n",
       "      <td>1962.000000</td>\n",
       "      <td>1945.000000</td>\n",
       "      <td>1941.000000</td>\n",
       "    </tr>\n",
       "    <tr>\n",
       "      <th>mean</th>\n",
       "      <td>0.187524</td>\n",
       "      <td>70.154210</td>\n",
       "      <td>0.003164</td>\n",
       "    </tr>\n",
       "    <tr>\n",
       "      <th>std</th>\n",
       "      <td>0.452056</td>\n",
       "      <td>33.069287</td>\n",
       "      <td>0.049862</td>\n",
       "    </tr>\n",
       "    <tr>\n",
       "      <th>min</th>\n",
       "      <td>-0.904100</td>\n",
       "      <td>23.646481</td>\n",
       "      <td>-0.176406</td>\n",
       "    </tr>\n",
       "    <tr>\n",
       "      <th>25%</th>\n",
       "      <td>-0.250000</td>\n",
       "      <td>48.243027</td>\n",
       "      <td>-0.026276</td>\n",
       "    </tr>\n",
       "    <tr>\n",
       "      <th>50%</th>\n",
       "      <td>0.340000</td>\n",
       "      <td>61.437935</td>\n",
       "      <td>-0.001596</td>\n",
       "    </tr>\n",
       "    <tr>\n",
       "      <th>75%</th>\n",
       "      <td>0.525500</td>\n",
       "      <td>82.544098</td>\n",
       "      <td>0.032368</td>\n",
       "    </tr>\n",
       "    <tr>\n",
       "      <th>max</th>\n",
       "      <td>0.950100</td>\n",
       "      <td>236.654907</td>\n",
       "      <td>0.294464</td>\n",
       "    </tr>\n",
       "  </tbody>\n",
       "</table>\n",
       "</div>"
      ],
      "text/plain": [
       "          compound         Open  Return Tomorrow\n",
       "count  1962.000000  1945.000000      1941.000000\n",
       "mean      0.187524    70.154210         0.003164\n",
       "std       0.452056    33.069287         0.049862\n",
       "min      -0.904100    23.646481        -0.176406\n",
       "25%      -0.250000    48.243027        -0.026276\n",
       "50%       0.340000    61.437935        -0.001596\n",
       "75%       0.525500    82.544098         0.032368\n",
       "max       0.950100   236.654907         0.294464"
      ]
     },
     "execution_count": 27,
     "metadata": {},
     "output_type": "execute_result"
    },
    {
     "data": {
      "text/html": [
       "<div>\n",
       "<style scoped>\n",
       "    .dataframe tbody tr th:only-of-type {\n",
       "        vertical-align: middle;\n",
       "    }\n",
       "\n",
       "    .dataframe tbody tr th {\n",
       "        vertical-align: top;\n",
       "    }\n",
       "\n",
       "    .dataframe thead th {\n",
       "        text-align: right;\n",
       "    }\n",
       "</style>\n",
       "<table border=\"1\" class=\"dataframe\">\n",
       "  <thead>\n",
       "    <tr style=\"text-align: right;\">\n",
       "      <th></th>\n",
       "      <th>compound</th>\n",
       "      <th>Open</th>\n",
       "      <th>Return Tomorrow</th>\n",
       "    </tr>\n",
       "  </thead>\n",
       "  <tbody>\n",
       "    <tr>\n",
       "      <th>count</th>\n",
       "      <td>207.000000</td>\n",
       "      <td>207.000000</td>\n",
       "      <td>207.000000</td>\n",
       "    </tr>\n",
       "    <tr>\n",
       "      <th>mean</th>\n",
       "      <td>-0.624420</td>\n",
       "      <td>74.268602</td>\n",
       "      <td>0.007076</td>\n",
       "    </tr>\n",
       "    <tr>\n",
       "      <th>std</th>\n",
       "      <td>0.093778</td>\n",
       "      <td>35.506163</td>\n",
       "      <td>0.052052</td>\n",
       "    </tr>\n",
       "    <tr>\n",
       "      <th>min</th>\n",
       "      <td>-0.904100</td>\n",
       "      <td>33.235271</td>\n",
       "      <td>-0.126433</td>\n",
       "    </tr>\n",
       "    <tr>\n",
       "      <th>25%</th>\n",
       "      <td>-0.687200</td>\n",
       "      <td>55.454239</td>\n",
       "      <td>-0.027000</td>\n",
       "    </tr>\n",
       "    <tr>\n",
       "      <th>50%</th>\n",
       "      <td>-0.586700</td>\n",
       "      <td>68.162804</td>\n",
       "      <td>0.000080</td>\n",
       "    </tr>\n",
       "    <tr>\n",
       "      <th>75%</th>\n",
       "      <td>-0.557400</td>\n",
       "      <td>84.301498</td>\n",
       "      <td>0.042582</td>\n",
       "    </tr>\n",
       "    <tr>\n",
       "      <th>max</th>\n",
       "      <td>-0.502300</td>\n",
       "      <td>226.285873</td>\n",
       "      <td>0.294464</td>\n",
       "    </tr>\n",
       "  </tbody>\n",
       "</table>\n",
       "</div>"
      ],
      "text/plain": [
       "         compound        Open  Return Tomorrow\n",
       "count  207.000000  207.000000       207.000000\n",
       "mean    -0.624420   74.268602         0.007076\n",
       "std      0.093778   35.506163         0.052052\n",
       "min     -0.904100   33.235271        -0.126433\n",
       "25%     -0.687200   55.454239        -0.027000\n",
       "50%     -0.586700   68.162804         0.000080\n",
       "75%     -0.557400   84.301498         0.042582\n",
       "max     -0.502300  226.285873         0.294464"
      ]
     },
     "execution_count": 27,
     "metadata": {},
     "output_type": "execute_result"
    }
   ],
   "source": [
    "charlie_under50 = charlie_lee_combined.copy()\n",
    "\n",
    "charlie_under50  = charlie_under50[charlie_under50.compound < -0.5]\n",
    "\n",
    "ltc.describe()\n",
    "charlie_lee_combined.describe()\n",
    "charlie_under50.describe()\n"
   ]
  },
  {
   "cell_type": "markdown",
   "metadata": {},
   "source": [
    "So interestingly we see higher than usual returns on days following negative tweets, this could be due to smaller sample size of just over 200 (compared to over 500 for the positve samples) but could also indicate something else"
   ]
  },
  {
   "cell_type": "code",
   "execution_count": null,
   "metadata": {},
   "outputs": [],
   "source": []
  },
  {
   "cell_type": "markdown",
   "metadata": {},
   "source": [
    "### The conclusion to the Charlie Lee section is that tweets which are substantially positve or substantially negative are characterised by higher than normal returns the following day."
   ]
  },
  {
   "cell_type": "code",
   "execution_count": null,
   "metadata": {},
   "outputs": [],
   "source": []
  },
  {
   "cell_type": "code",
   "execution_count": null,
   "metadata": {},
   "outputs": [],
   "source": []
  },
  {
   "cell_type": "code",
   "execution_count": null,
   "metadata": {},
   "outputs": [],
   "source": []
  },
  {
   "cell_type": "markdown",
   "metadata": {},
   "source": [
    "# Roger Ver - Bitcoin Jesus\n",
    "\n",
    "Early investor and evangelist of bitcoin and bitcoin cash. Only has 3700 tweets so scraper captures almost all of his tweets"
   ]
  },
  {
   "cell_type": "code",
   "execution_count": 33,
   "metadata": {},
   "outputs": [],
   "source": [
    "Roger_base = pd.read_csv(\"new_rogerkver_tweets.csv\")\n",
    "del Roger_base['id']\n",
    "\n",
    "#fix date column. We only want first 10 characters and then we want them as date type\n",
    "Roger_base['created_at'] = Roger_base['created_at'].str[:10].astype(str)\n",
    "Roger_base['created_at'] = pd.to_datetime(Roger_base['created_at'])\n",
    "#finally change name of UTC column to Date\n",
    "Roger_base = Roger_base.rename(columns={'created_at': 'Date'})\n",
    "\n",
    "Roger_sentiment = Roger_base.copy()\n",
    "\n",
    "Roger_sentiment['scores'] = Roger_sentiment['text'].apply(lambda review: sid.polarity_scores(review))\n",
    "\n",
    "Roger_sentiment['compound'] = Roger_sentiment['scores'].apply(lambda score_dict: score_dict['compound'])\n",
    "Roger_sentiment['comp_score'] = Roger_sentiment['compound'].apply(lambda c: 'positive' if c >= 0 else 'negative')"
   ]
  },
  {
   "cell_type": "markdown",
   "metadata": {},
   "source": [
    "First compare to bitcoin"
   ]
  },
  {
   "cell_type": "code",
   "execution_count": 37,
   "metadata": {},
   "outputs": [],
   "source": [
    "# From above we have\n",
    "btc_clean = btc_clean.dropna()\n",
    "\n",
    "Roger_combined = pd.merge(Roger_sentiment, btc_clean)\n",
    "\n",
    "Roger_over50  = Roger_combined.copy()\n",
    "Roger_under50 = Roger_combined.copy()\n",
    "\n",
    "Roger_over50  = Roger_over50[Roger_over50.compound > 0.50]\n",
    "Roger_under50  = Roger_under50[Roger_under50.compound < -0.50]"
   ]
  },
  {
   "cell_type": "code",
   "execution_count": 44,
   "metadata": {},
   "outputs": [
    {
     "data": {
      "text/plain": [
       "count    2346.000000\n",
       "mean        0.002707\n",
       "std         0.038748\n",
       "min        -0.365924\n",
       "25%        -0.011963\n",
       "50%         0.002015\n",
       "75%         0.017756\n",
       "max         0.250461\n",
       "Name: Change Tomorrow, dtype: float64"
      ]
     },
     "execution_count": 44,
     "metadata": {},
     "output_type": "execute_result"
    },
    {
     "data": {
      "text/plain": [
       "count    2422.000000\n",
       "mean        0.002747\n",
       "std         0.039647\n",
       "min        -0.365924\n",
       "25%        -0.011511\n",
       "50%         0.002089\n",
       "75%         0.018380\n",
       "max         0.250461\n",
       "Name: Change Tomorrow, dtype: float64"
      ]
     },
     "execution_count": 44,
     "metadata": {},
     "output_type": "execute_result"
    },
    {
     "data": {
      "text/plain": [
       "count    464.000000\n",
       "mean       0.004383\n",
       "std        0.044249\n",
       "min       -0.182968\n",
       "25%       -0.009856\n",
       "50%        0.003839\n",
       "75%        0.018838\n",
       "max        0.250461\n",
       "Name: Change Tomorrow, dtype: float64"
      ]
     },
     "execution_count": 44,
     "metadata": {},
     "output_type": "execute_result"
    },
    {
     "data": {
      "text/plain": [
       "count    314.000000\n",
       "mean       0.002357\n",
       "std        0.039487\n",
       "min       -0.209907\n",
       "25%       -0.008978\n",
       "50%        0.000737\n",
       "75%        0.016806\n",
       "max        0.187677\n",
       "Name: Change Tomorrow, dtype: float64"
      ]
     },
     "execution_count": 44,
     "metadata": {},
     "output_type": "execute_result"
    }
   ],
   "source": [
    "btc_clean['Change Tomorrow'].describe()\n",
    "Roger_combined['Change Tomorrow'].describe()\n",
    "Roger_over50['Change Tomorrow'].describe()\n",
    "Roger_under50['Change Tomorrow'].describe()"
   ]
  },
  {
   "cell_type": "code",
   "execution_count": null,
   "metadata": {},
   "outputs": [],
   "source": []
  },
  {
   "cell_type": "markdown",
   "metadata": {},
   "source": [
    "# Tyler Winklevoss - bitcoin billionaire"
   ]
  },
  {
   "cell_type": "code",
   "execution_count": 47,
   "metadata": {},
   "outputs": [],
   "source": [
    "tyler_base = pd.read_csv(\"new_tyler_tweets.csv\")\n",
    "del tyler_base['id']\n",
    "\n",
    "#fix date column. We only want first 10 characters and then we want them as date type\n",
    "tyler_base['created_at'] = tyler_base['created_at'].str[:10].astype(str)\n",
    "tyler_base['created_at'] = pd.to_datetime(tyler_base['created_at'])\n",
    "#finally change name of UTC column to Date\n",
    "tyler_base = tyler_base.rename(columns={'created_at': 'Date'})\n",
    "\n",
    "tyler_sentiment = tyler_base.copy()\n",
    "\n",
    "tyler_sentiment['scores'] = tyler_sentiment['text'].apply(lambda review: sid.polarity_scores(review))\n",
    "\n",
    "tyler_sentiment['compound'] = tyler_sentiment['scores'].apply(lambda score_dict: score_dict['compound'])\n",
    "tyler_sentiment['comp_score'] = tyler_sentiment['compound'].apply(lambda c: 'positive' if c >= 0 else 'negative')"
   ]
  },
  {
   "cell_type": "code",
   "execution_count": 48,
   "metadata": {},
   "outputs": [],
   "source": [
    "# From above we have\n",
    "btc_clean = btc_clean.dropna()\n",
    "\n",
    "tyler_combined = pd.merge(tyler_sentiment, btc_clean)\n",
    "\n",
    "tyler_over50  = tyler_combined.copy()\n",
    "tyler_under50 = tyler_combined.copy()\n",
    "\n",
    "tyler_over50  = tyler_over50[tyler_over50.compound > 0.50]\n",
    "tyler_under50  = tyler_under50[tyler_under50.compound < -0.50]"
   ]
  },
  {
   "cell_type": "code",
   "execution_count": 49,
   "metadata": {},
   "outputs": [
    {
     "data": {
      "text/plain": [
       "count    2346.000000\n",
       "mean        0.002707\n",
       "std         0.038748\n",
       "min        -0.365924\n",
       "25%        -0.011963\n",
       "50%         0.002015\n",
       "75%         0.017756\n",
       "max         0.250461\n",
       "Name: Change Tomorrow, dtype: float64"
      ]
     },
     "execution_count": 49,
     "metadata": {},
     "output_type": "execute_result"
    },
    {
     "data": {
      "text/plain": [
       "count    3134.000000\n",
       "mean        0.010612\n",
       "std         0.041735\n",
       "min        -0.133104\n",
       "25%        -0.006546\n",
       "50%         0.007632\n",
       "75%         0.026114\n",
       "max         0.187677\n",
       "Name: Change Tomorrow, dtype: float64"
      ]
     },
     "execution_count": 49,
     "metadata": {},
     "output_type": "execute_result"
    },
    {
     "data": {
      "text/plain": [
       "count    563.000000\n",
       "mean       0.007633\n",
       "std        0.038205\n",
       "min       -0.133104\n",
       "25%       -0.008658\n",
       "50%        0.005285\n",
       "75%        0.024376\n",
       "max        0.187677\n",
       "Name: Change Tomorrow, dtype: float64"
      ]
     },
     "execution_count": 49,
     "metadata": {},
     "output_type": "execute_result"
    },
    {
     "data": {
      "text/plain": [
       "count    112.000000\n",
       "mean       0.007584\n",
       "std        0.056313\n",
       "min       -0.133104\n",
       "25%       -0.014529\n",
       "50%        0.002121\n",
       "75%        0.027042\n",
       "max        0.127382\n",
       "Name: Change Tomorrow, dtype: float64"
      ]
     },
     "execution_count": 49,
     "metadata": {},
     "output_type": "execute_result"
    }
   ],
   "source": [
    "btc_clean['Change Tomorrow'].describe()\n",
    "tyler_combined['Change Tomorrow'].describe()\n",
    "tyler_over50['Change Tomorrow'].describe()\n",
    "tyler_under50['Change Tomorrow'].describe()"
   ]
  },
  {
   "cell_type": "code",
   "execution_count": null,
   "metadata": {},
   "outputs": [],
   "source": []
  },
  {
   "cell_type": "markdown",
   "metadata": {},
   "source": [
    "# Cameron Winklevoss - bitcoin billionaire"
   ]
  },
  {
   "cell_type": "code",
   "execution_count": 50,
   "metadata": {},
   "outputs": [],
   "source": [
    "cameron_base = pd.read_csv(\"new_cameron_tweets.csv\")\n",
    "del cameron_base['id']\n",
    "\n",
    "#fix date column. We only want first 10 characters and then we want them as date type\n",
    "cameron_base['created_at'] = cameron_base['created_at'].str[:10].astype(str)\n",
    "cameron_base['created_at'] = pd.to_datetime(cameron_base['created_at'])\n",
    "#finally change name of UTC column to Date\n",
    "cameron_base = cameron_base.rename(columns={'created_at': 'Date'})\n",
    "\n",
    "cameron_sentiment = cameron_base.copy()\n",
    "\n",
    "cameron_sentiment['scores'] = cameron_sentiment['text'].apply(lambda review: sid.polarity_scores(review))\n",
    "\n",
    "cameron_sentiment['compound'] = cameron_sentiment['scores'].apply(lambda score_dict: score_dict['compound'])\n",
    "cameron_sentiment['comp_score'] = cameron_sentiment['compound'].apply(lambda c: 'positive' if c >= 0 else 'negative')"
   ]
  },
  {
   "cell_type": "code",
   "execution_count": 51,
   "metadata": {},
   "outputs": [],
   "source": [
    "# From above we have\n",
    "btc_clean = btc_clean.dropna()\n",
    "\n",
    "cameron_combined = pd.merge(cameron_sentiment, btc_clean)\n",
    "\n",
    "cameron_over50  = cameron_combined.copy()\n",
    "cameron_under50 = cameron_combined.copy()\n",
    "\n",
    "cameron_over50  = cameron_over50[cameron_over50.compound > 0.50]\n",
    "cameron_under50  = cameron_under50[cameron_under50.compound < -0.50]"
   ]
  },
  {
   "cell_type": "code",
   "execution_count": 52,
   "metadata": {},
   "outputs": [
    {
     "data": {
      "text/plain": [
       "count    2346.000000\n",
       "mean        0.002707\n",
       "std         0.038748\n",
       "min        -0.365924\n",
       "25%        -0.011963\n",
       "50%         0.002015\n",
       "75%         0.017756\n",
       "max         0.250461\n",
       "Name: Change Tomorrow, dtype: float64"
      ]
     },
     "execution_count": 52,
     "metadata": {},
     "output_type": "execute_result"
    },
    {
     "data": {
      "text/plain": [
       "count    3175.000000\n",
       "mean        0.009002\n",
       "std         0.044090\n",
       "min        -0.365924\n",
       "25%        -0.010888\n",
       "50%         0.004608\n",
       "75%         0.027177\n",
       "max         0.187677\n",
       "Name: Change Tomorrow, dtype: float64"
      ]
     },
     "execution_count": 52,
     "metadata": {},
     "output_type": "execute_result"
    },
    {
     "data": {
      "text/plain": [
       "count    691.000000\n",
       "mean       0.007299\n",
       "std        0.040663\n",
       "min       -0.133104\n",
       "25%       -0.012224\n",
       "50%        0.003938\n",
       "75%        0.024411\n",
       "max        0.187677\n",
       "Name: Change Tomorrow, dtype: float64"
      ]
     },
     "execution_count": 52,
     "metadata": {},
     "output_type": "execute_result"
    },
    {
     "data": {
      "text/plain": [
       "count    119.000000\n",
       "mean       0.005414\n",
       "std        0.050960\n",
       "min       -0.133104\n",
       "25%       -0.015381\n",
       "50%        0.002121\n",
       "75%        0.028787\n",
       "max        0.127382\n",
       "Name: Change Tomorrow, dtype: float64"
      ]
     },
     "execution_count": 52,
     "metadata": {},
     "output_type": "execute_result"
    }
   ],
   "source": [
    "btc_clean['Change Tomorrow'].describe()\n",
    "cameron_combined['Change Tomorrow'].describe()\n",
    "cameron_over50['Change Tomorrow'].describe()\n",
    "cameron_under50['Change Tomorrow'].describe()"
   ]
  },
  {
   "cell_type": "code",
   "execution_count": null,
   "metadata": {},
   "outputs": [],
   "source": []
  },
  {
   "cell_type": "code",
   "execution_count": null,
   "metadata": {},
   "outputs": [],
   "source": []
  },
  {
   "cell_type": "markdown",
   "metadata": {},
   "source": [
    "# Vitalik Buterin - Creator of Ethereum"
   ]
  },
  {
   "cell_type": "code",
   "execution_count": 4,
   "metadata": {},
   "outputs": [],
   "source": [
    "vitalik_base = pd.read_csv(\"new_vitalikbuterin_tweets.csv\")\n",
    "del vitalik_base['id']\n",
    "\n",
    "#fix date column. We only want first 10 characters and then we want them as date type\n",
    "vitalik_base['created_at'] = vitalik_base['created_at'].str[:10].astype(str)\n",
    "vitalik_base['created_at'] = pd.to_datetime(vitalik_base['created_at'])\n",
    "#finally change name of UTC column to Date\n",
    "vitalik_base = vitalik_base.rename(columns={'created_at': 'Date'})\n",
    "\n",
    "vitalik_sentiment = vitalik_base.copy()\n",
    "\n",
    "vitalik_sentiment['scores'] = vitalik_sentiment['text'].apply(lambda review: sid.polarity_scores(review))\n",
    "\n",
    "vitalik_sentiment['compound'] = vitalik_sentiment['scores'].apply(lambda score_dict: score_dict['compound'])\n",
    "vitalik_sentiment['comp_score'] = vitalik_sentiment['compound'].apply(lambda c: 'positive' if c >= 0 else 'negative')"
   ]
  },
  {
   "cell_type": "code",
   "execution_count": 10,
   "metadata": {},
   "outputs": [
    {
     "data": {
      "text/html": [
       "<div>\n",
       "<style scoped>\n",
       "    .dataframe tbody tr th:only-of-type {\n",
       "        vertical-align: middle;\n",
       "    }\n",
       "\n",
       "    .dataframe tbody tr th {\n",
       "        vertical-align: top;\n",
       "    }\n",
       "\n",
       "    .dataframe thead th {\n",
       "        text-align: right;\n",
       "    }\n",
       "</style>\n",
       "<table border=\"1\" class=\"dataframe\">\n",
       "  <thead>\n",
       "    <tr style=\"text-align: right;\">\n",
       "      <th></th>\n",
       "      <th>Date</th>\n",
       "      <th>Closing Price (USD)</th>\n",
       "      <th>Return Tomorrow</th>\n",
       "    </tr>\n",
       "  </thead>\n",
       "  <tbody>\n",
       "    <tr>\n",
       "      <th>0</th>\n",
       "      <td>2015-08-09</td>\n",
       "      <td>0.909046</td>\n",
       "      <td>-0.238409</td>\n",
       "    </tr>\n",
       "    <tr>\n",
       "      <th>1</th>\n",
       "      <td>2015-08-10</td>\n",
       "      <td>0.692321</td>\n",
       "      <td>-0.035033</td>\n",
       "    </tr>\n",
       "    <tr>\n",
       "      <th>2</th>\n",
       "      <td>2015-08-11</td>\n",
       "      <td>0.668067</td>\n",
       "      <td>0.272554</td>\n",
       "    </tr>\n",
       "    <tr>\n",
       "      <th>3</th>\n",
       "      <td>2015-08-12</td>\n",
       "      <td>0.850151</td>\n",
       "      <td>0.489174</td>\n",
       "    </tr>\n",
       "    <tr>\n",
       "      <th>4</th>\n",
       "      <td>2015-08-13</td>\n",
       "      <td>1.266023</td>\n",
       "      <td>0.541410</td>\n",
       "    </tr>\n",
       "    <tr>\n",
       "      <th>...</th>\n",
       "      <td>...</td>\n",
       "      <td>...</td>\n",
       "      <td>...</td>\n",
       "    </tr>\n",
       "    <tr>\n",
       "      <th>1988</th>\n",
       "      <td>2021-02-26</td>\n",
       "      <td>1435.724418</td>\n",
       "      <td>0.041852</td>\n",
       "    </tr>\n",
       "    <tr>\n",
       "      <th>1989</th>\n",
       "      <td>2021-02-27</td>\n",
       "      <td>1495.812837</td>\n",
       "      <td>-0.055555</td>\n",
       "    </tr>\n",
       "    <tr>\n",
       "      <th>1990</th>\n",
       "      <td>2021-02-28</td>\n",
       "      <td>1412.713189</td>\n",
       "      <td>0.101317</td>\n",
       "    </tr>\n",
       "    <tr>\n",
       "      <th>1991</th>\n",
       "      <td>2021-03-01</td>\n",
       "      <td>1555.844780</td>\n",
       "      <td>-0.046234</td>\n",
       "    </tr>\n",
       "    <tr>\n",
       "      <th>1992</th>\n",
       "      <td>2021-03-02</td>\n",
       "      <td>1483.912043</td>\n",
       "      <td>0.074106</td>\n",
       "    </tr>\n",
       "  </tbody>\n",
       "</table>\n",
       "<p>1993 rows × 3 columns</p>\n",
       "</div>"
      ],
      "text/plain": [
       "           Date  Closing Price (USD)  Return Tomorrow\n",
       "0    2015-08-09             0.909046        -0.238409\n",
       "1    2015-08-10             0.692321        -0.035033\n",
       "2    2015-08-11             0.668067         0.272554\n",
       "3    2015-08-12             0.850151         0.489174\n",
       "4    2015-08-13             1.266023         0.541410\n",
       "...         ...                  ...              ...\n",
       "1988 2021-02-26          1435.724418         0.041852\n",
       "1989 2021-02-27          1495.812837        -0.055555\n",
       "1990 2021-02-28          1412.713189         0.101317\n",
       "1991 2021-03-01          1555.844780        -0.046234\n",
       "1992 2021-03-02          1483.912043         0.074106\n",
       "\n",
       "[1993 rows x 3 columns]"
      ]
     },
     "execution_count": 10,
     "metadata": {},
     "output_type": "execute_result"
    }
   ],
   "source": [
    "#Get eth data \n",
    "\n",
    "eth = pd.read_csv(\"ETH2.csv\")\n",
    "\n",
    "#wee spring clean for the data\n",
    "del eth['Currency']\n",
    "del eth['24h Open (USD)']\n",
    "del eth['24h High (USD)']\n",
    "del eth['24h Low (USD)']\n",
    "\n",
    "#fix date column \n",
    "eth['Date'] = pd.to_datetime(eth['Date'])\n",
    "\n",
    "#Feature engineer daily change column\n",
    "eth['Return Tomorrow'] = (eth['Closing Price (USD)'].shift(-1) - eth['Closing Price (USD)']) / eth['Closing Price (USD)']\n",
    "\n",
    "#Delete nan rows\n",
    "eth.dropna()"
   ]
  },
  {
   "cell_type": "code",
   "execution_count": 14,
   "metadata": {},
   "outputs": [],
   "source": [
    "vitalik_combined = pd.merge(vitalik_sentiment, eth, how='inner', on='Date')\n",
    "\n",
    "vitalik_over50  = vitalik_combined.copy()\n",
    "vitalik_under50 = vitalik_combined.copy()\n",
    "\n",
    "vitalik_over50  = vitalik_over50[vitalik_over50.compound > 0.50]\n",
    "vitalik_under50  =vitalik_under50[vitalik_under50.compound < -0.50]"
   ]
  },
  {
   "cell_type": "code",
   "execution_count": 16,
   "metadata": {},
   "outputs": [
    {
     "data": {
      "text/plain": [
       "count    1993.000000\n",
       "mean        0.005882\n",
       "std         0.066356\n",
       "min        -0.345295\n",
       "25%        -0.022647\n",
       "50%         0.001414\n",
       "75%         0.029789\n",
       "max         0.541410\n",
       "Name: Return Tomorrow, dtype: float64"
      ]
     },
     "execution_count": 16,
     "metadata": {},
     "output_type": "execute_result"
    },
    {
     "data": {
      "text/plain": [
       "count    3248.000000\n",
       "mean        0.004436\n",
       "std         0.039164\n",
       "min        -0.176371\n",
       "25%        -0.017260\n",
       "50%        -0.000634\n",
       "75%         0.030351\n",
       "max         0.135296\n",
       "Name: Return Tomorrow, dtype: float64"
      ]
     },
     "execution_count": 16,
     "metadata": {},
     "output_type": "execute_result"
    },
    {
     "data": {
      "text/plain": [
       "count    583.000000\n",
       "mean       0.005026\n",
       "std        0.036612\n",
       "min       -0.095778\n",
       "25%       -0.013511\n",
       "50%        0.001693\n",
       "75%        0.028633\n",
       "max        0.135296\n",
       "Name: Return Tomorrow, dtype: float64"
      ]
     },
     "execution_count": 16,
     "metadata": {},
     "output_type": "execute_result"
    },
    {
     "data": {
      "text/plain": [
       "count    171.000000\n",
       "mean       0.000023\n",
       "std        0.038227\n",
       "min       -0.095778\n",
       "25%       -0.022488\n",
       "50%       -0.003067\n",
       "75%        0.031026\n",
       "max        0.106078\n",
       "Name: Return Tomorrow, dtype: float64"
      ]
     },
     "execution_count": 16,
     "metadata": {},
     "output_type": "execute_result"
    }
   ],
   "source": [
    "eth['Return Tomorrow'].describe()\n",
    "vitalik_combined['Return Tomorrow'].describe()\n",
    "vitalik_over50['Return Tomorrow'].describe()\n",
    "vitalik_under50['Return Tomorrow'].describe()"
   ]
  },
  {
   "cell_type": "code",
   "execution_count": null,
   "metadata": {},
   "outputs": [],
   "source": []
  }
 ],
 "metadata": {
  "kernelspec": {
   "display_name": "Python 3",
   "language": "python",
   "name": "python3"
  },
  "language_info": {
   "codemirror_mode": {
    "name": "ipython",
    "version": 3
   },
   "file_extension": ".py",
   "mimetype": "text/x-python",
   "name": "python",
   "nbconvert_exporter": "python",
   "pygments_lexer": "ipython3",
   "version": "3.8.3"
  }
 },
 "nbformat": 4,
 "nbformat_minor": 4
}
