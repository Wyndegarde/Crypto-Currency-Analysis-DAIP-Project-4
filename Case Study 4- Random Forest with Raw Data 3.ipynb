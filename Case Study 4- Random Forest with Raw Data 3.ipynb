{
 "cells": [
  {
   "cell_type": "code",
   "execution_count": 1,
   "metadata": {},
   "outputs": [],
   "source": [
    "#Import neccessary packages\n",
    "import sklearn\n",
    "import numpy as np\n",
    "import pandas as pd\n",
    "import matplotlib.pyplot as plt\n",
    "import seaborn as sns"
   ]
  },
  {
   "cell_type": "code",
   "execution_count": 2,
   "metadata": {},
   "outputs": [],
   "source": [
    "#Import the data\n",
    "crypt = pd.read_excel(\"/Users/laurengarrett/Documents/Masters/Data Analytics in Practice/Case Study 4/Cryptoanalytics data master UPDATED.xlsx\")"
   ]
  },
  {
   "cell_type": "code",
   "execution_count": 3,
   "metadata": {},
   "outputs": [
    {
     "data": {
      "text/html": [
       "<div>\n",
       "<style scoped>\n",
       "    .dataframe tbody tr th:only-of-type {\n",
       "        vertical-align: middle;\n",
       "    }\n",
       "\n",
       "    .dataframe tbody tr th {\n",
       "        vertical-align: top;\n",
       "    }\n",
       "\n",
       "    .dataframe thead th {\n",
       "        text-align: right;\n",
       "    }\n",
       "</style>\n",
       "<table border=\"1\" class=\"dataframe\">\n",
       "  <thead>\n",
       "    <tr style=\"text-align: right;\">\n",
       "      <th></th>\n",
       "      <th>BTC price</th>\n",
       "      <th>BTC network hashrate</th>\n",
       "      <th>Average BTC block size</th>\n",
       "      <th>NUAU - BTC</th>\n",
       "      <th>Number TX - BTC</th>\n",
       "      <th>Difficulty - BTC</th>\n",
       "      <th>TX fees - BTC</th>\n",
       "      <th>Estimated TX Volume USD - BTC</th>\n",
       "      <th>Gold in USD</th>\n",
       "      <th>Ethereum Price</th>\n",
       "      <th>Litecoin Price</th>\n",
       "      <th>Bitcoin Cash Price</th>\n",
       "      <th>Cardano Price</th>\n",
       "      <th>Nasdaq composite index</th>\n",
       "      <th>DJI</th>\n",
       "    </tr>\n",
       "  </thead>\n",
       "  <tbody>\n",
       "    <tr>\n",
       "      <th>count</th>\n",
       "      <td>3772.000000</td>\n",
       "      <td>3.771000e+03</td>\n",
       "      <td>3772.000000</td>\n",
       "      <td>3.764000e+03</td>\n",
       "      <td>3772.000000</td>\n",
       "      <td>3.772000e+03</td>\n",
       "      <td>3772.000000</td>\n",
       "      <td>3.772000e+03</td>\n",
       "      <td>2690.000000</td>\n",
       "      <td>1373.000000</td>\n",
       "      <td>2765.000000</td>\n",
       "      <td>649.000000</td>\n",
       "      <td>579.000000</td>\n",
       "      <td>2599.000000</td>\n",
       "      <td>2599.000000</td>\n",
       "    </tr>\n",
       "    <tr>\n",
       "      <th>mean</th>\n",
       "      <td>1403.258033</td>\n",
       "      <td>5.751124e+06</td>\n",
       "      <td>0.377734</td>\n",
       "      <td>2.035364e+05</td>\n",
       "      <td>108377.228261</td>\n",
       "      <td>7.827958e+11</td>\n",
       "      <td>50.806719</td>\n",
       "      <td>2.531434e+08</td>\n",
       "      <td>1304.657454</td>\n",
       "      <td>203.165177</td>\n",
       "      <td>25.669230</td>\n",
       "      <td>743.157596</td>\n",
       "      <td>0.163782</td>\n",
       "      <td>4244.222362</td>\n",
       "      <td>16168.615567</td>\n",
       "    </tr>\n",
       "    <tr>\n",
       "      <th>std</th>\n",
       "      <td>2819.373460</td>\n",
       "      <td>1.327368e+07</td>\n",
       "      <td>0.390596</td>\n",
       "      <td>2.145714e+05</td>\n",
       "      <td>111212.593607</td>\n",
       "      <td>1.821669e+12</td>\n",
       "      <td>105.561180</td>\n",
       "      <td>5.700107e+08</td>\n",
       "      <td>206.236944</td>\n",
       "      <td>263.090161</td>\n",
       "      <td>48.777683</td>\n",
       "      <td>626.362873</td>\n",
       "      <td>0.183359</td>\n",
       "      <td>1796.693060</td>\n",
       "      <td>5048.078306</td>\n",
       "    </tr>\n",
       "    <tr>\n",
       "      <th>min</th>\n",
       "      <td>0.000000</td>\n",
       "      <td>0.000000e+00</td>\n",
       "      <td>0.000000</td>\n",
       "      <td>0.000000e+00</td>\n",
       "      <td>0.000000</td>\n",
       "      <td>0.000000e+00</td>\n",
       "      <td>0.000000</td>\n",
       "      <td>0.000000e+00</td>\n",
       "      <td>810.000000</td>\n",
       "      <td>0.000000</td>\n",
       "      <td>0.000000</td>\n",
       "      <td>77.370000</td>\n",
       "      <td>0.018414</td>\n",
       "      <td>1268.640015</td>\n",
       "      <td>6547.049805</td>\n",
       "    </tr>\n",
       "    <tr>\n",
       "      <th>25%</th>\n",
       "      <td>0.000000</td>\n",
       "      <td>8.453424e+00</td>\n",
       "      <td>0.016707</td>\n",
       "      <td>1.035825e+04</td>\n",
       "      <td>5745.750000</td>\n",
       "      <td>1.192498e+06</td>\n",
       "      <td>4.382352</td>\n",
       "      <td>4.543548e+05</td>\n",
       "      <td>1195.750000</td>\n",
       "      <td>10.540000</td>\n",
       "      <td>1.840000</td>\n",
       "      <td>301.020000</td>\n",
       "      <td>0.044156</td>\n",
       "      <td>2716.220092</td>\n",
       "      <td>12114.120117</td>\n",
       "    </tr>\n",
       "    <tr>\n",
       "      <th>50%</th>\n",
       "      <td>236.925000</td>\n",
       "      <td>2.971424e+04</td>\n",
       "      <td>0.191825</td>\n",
       "      <td>1.341915e+05</td>\n",
       "      <td>63378.000000</td>\n",
       "      <td>3.815724e+09</td>\n",
       "      <td>18.291021</td>\n",
       "      <td>3.986244e+07</td>\n",
       "      <td>1273.750000</td>\n",
       "      <td>108.900000</td>\n",
       "      <td>3.850000</td>\n",
       "      <td>542.880000</td>\n",
       "      <td>0.087525</td>\n",
       "      <td>4151.229980</td>\n",
       "      <td>16179.080078</td>\n",
       "    </tr>\n",
       "    <tr>\n",
       "      <th>75%</th>\n",
       "      <td>761.060000</td>\n",
       "      <td>1.768041e+06</td>\n",
       "      <td>0.768401</td>\n",
       "      <td>4.007108e+05</td>\n",
       "      <td>210366.250000</td>\n",
       "      <td>2.412270e+11</td>\n",
       "      <td>42.840503</td>\n",
       "      <td>1.970181e+08</td>\n",
       "      <td>1367.437500</td>\n",
       "      <td>299.120000</td>\n",
       "      <td>30.460000</td>\n",
       "      <td>1028.120000</td>\n",
       "      <td>0.201908</td>\n",
       "      <td>5241.590088</td>\n",
       "      <td>18472.959961</td>\n",
       "    </tr>\n",
       "    <tr>\n",
       "      <th>max</th>\n",
       "      <td>19475.800000</td>\n",
       "      <td>6.186626e+07</td>\n",
       "      <td>1.304964</td>\n",
       "      <td>1.072861e+06</td>\n",
       "      <td>490644.000000</td>\n",
       "      <td>7.454970e+12</td>\n",
       "      <td>1495.946477</td>\n",
       "      <td>5.760245e+09</td>\n",
       "      <td>1895.000000</td>\n",
       "      <td>1397.480000</td>\n",
       "      <td>359.130000</td>\n",
       "      <td>3909.000000</td>\n",
       "      <td>1.170000</td>\n",
       "      <td>8161.850098</td>\n",
       "      <td>26828.390625</td>\n",
       "    </tr>\n",
       "  </tbody>\n",
       "</table>\n",
       "</div>"
      ],
      "text/plain": [
       "          BTC price  BTC network hashrate  Average BTC block size  \\\n",
       "count   3772.000000          3.771000e+03             3772.000000   \n",
       "mean    1403.258033          5.751124e+06                0.377734   \n",
       "std     2819.373460          1.327368e+07                0.390596   \n",
       "min        0.000000          0.000000e+00                0.000000   \n",
       "25%        0.000000          8.453424e+00                0.016707   \n",
       "50%      236.925000          2.971424e+04                0.191825   \n",
       "75%      761.060000          1.768041e+06                0.768401   \n",
       "max    19475.800000          6.186626e+07                1.304964   \n",
       "\n",
       "         NUAU - BTC  Number TX - BTC  Difficulty - BTC  TX fees - BTC  \\\n",
       "count  3.764000e+03      3772.000000      3.772000e+03    3772.000000   \n",
       "mean   2.035364e+05    108377.228261      7.827958e+11      50.806719   \n",
       "std    2.145714e+05    111212.593607      1.821669e+12     105.561180   \n",
       "min    0.000000e+00         0.000000      0.000000e+00       0.000000   \n",
       "25%    1.035825e+04      5745.750000      1.192498e+06       4.382352   \n",
       "50%    1.341915e+05     63378.000000      3.815724e+09      18.291021   \n",
       "75%    4.007108e+05    210366.250000      2.412270e+11      42.840503   \n",
       "max    1.072861e+06    490644.000000      7.454970e+12    1495.946477   \n",
       "\n",
       "       Estimated TX Volume USD - BTC  Gold in USD  Ethereum Price  \\\n",
       "count                   3.772000e+03  2690.000000     1373.000000   \n",
       "mean                    2.531434e+08  1304.657454      203.165177   \n",
       "std                     5.700107e+08   206.236944      263.090161   \n",
       "min                     0.000000e+00   810.000000        0.000000   \n",
       "25%                     4.543548e+05  1195.750000       10.540000   \n",
       "50%                     3.986244e+07  1273.750000      108.900000   \n",
       "75%                     1.970181e+08  1367.437500      299.120000   \n",
       "max                     5.760245e+09  1895.000000     1397.480000   \n",
       "\n",
       "       Litecoin Price  Bitcoin Cash Price  Cardano Price  \\\n",
       "count     2765.000000          649.000000     579.000000   \n",
       "mean        25.669230          743.157596       0.163782   \n",
       "std         48.777683          626.362873       0.183359   \n",
       "min          0.000000           77.370000       0.018414   \n",
       "25%          1.840000          301.020000       0.044156   \n",
       "50%          3.850000          542.880000       0.087525   \n",
       "75%         30.460000         1028.120000       0.201908   \n",
       "max        359.130000         3909.000000       1.170000   \n",
       "\n",
       "       Nasdaq composite index           DJI  \n",
       "count             2599.000000   2599.000000  \n",
       "mean              4244.222362  16168.615567  \n",
       "std               1796.693060   5048.078306  \n",
       "min               1268.640015   6547.049805  \n",
       "25%               2716.220092  12114.120117  \n",
       "50%               4151.229980  16179.080078  \n",
       "75%               5241.590088  18472.959961  \n",
       "max               8161.850098  26828.390625  "
      ]
     },
     "execution_count": 3,
     "metadata": {},
     "output_type": "execute_result"
    }
   ],
   "source": [
    "#Descriptive statistics for each column\n",
    "crypt.describe()"
   ]
  },
  {
   "cell_type": "code",
   "execution_count": 4,
   "metadata": {},
   "outputs": [
    {
     "data": {
      "text/html": [
       "<div>\n",
       "<style scoped>\n",
       "    .dataframe tbody tr th:only-of-type {\n",
       "        vertical-align: middle;\n",
       "    }\n",
       "\n",
       "    .dataframe tbody tr th {\n",
       "        vertical-align: top;\n",
       "    }\n",
       "\n",
       "    .dataframe thead th {\n",
       "        text-align: right;\n",
       "    }\n",
       "</style>\n",
       "<table border=\"1\" class=\"dataframe\">\n",
       "  <thead>\n",
       "    <tr style=\"text-align: right;\">\n",
       "      <th></th>\n",
       "      <th>date</th>\n",
       "      <th>BTC price</th>\n",
       "      <th>BTC network hashrate</th>\n",
       "      <th>Average BTC block size</th>\n",
       "      <th>NUAU - BTC</th>\n",
       "      <th>Number TX - BTC</th>\n",
       "      <th>Difficulty - BTC</th>\n",
       "      <th>TX fees - BTC</th>\n",
       "      <th>Estimated TX Volume USD - BTC</th>\n",
       "      <th>Gold in USD</th>\n",
       "      <th>Ethereum Price</th>\n",
       "      <th>Litecoin Price</th>\n",
       "      <th>Bitcoin Cash Price</th>\n",
       "      <th>Cardano Price</th>\n",
       "      <th>Nasdaq composite index</th>\n",
       "      <th>DJI</th>\n",
       "      <th>Google trends</th>\n",
       "    </tr>\n",
       "  </thead>\n",
       "  <tbody>\n",
       "    <tr>\n",
       "      <th>0</th>\n",
       "      <td>2019-05-02</td>\n",
       "      <td>5402.42</td>\n",
       "      <td>5.400366e+07</td>\n",
       "      <td>1.126911</td>\n",
       "      <td>516500.0</td>\n",
       "      <td>439549</td>\n",
       "      <td>6.353030e+12</td>\n",
       "      <td>65.625219</td>\n",
       "      <td>8.710334e+08</td>\n",
       "      <td>NaN</td>\n",
       "      <td>160.85</td>\n",
       "      <td>73.68</td>\n",
       "      <td>271.97</td>\n",
       "      <td>0.069020</td>\n",
       "      <td>8036.770020</td>\n",
       "      <td>26307.789063</td>\n",
       "      <td>NaN</td>\n",
       "    </tr>\n",
       "    <tr>\n",
       "      <th>1</th>\n",
       "      <td>2019-05-01</td>\n",
       "      <td>5350.91</td>\n",
       "      <td>4.421352e+07</td>\n",
       "      <td>1.295071</td>\n",
       "      <td>551918.0</td>\n",
       "      <td>346486</td>\n",
       "      <td>6.353030e+12</td>\n",
       "      <td>85.484635</td>\n",
       "      <td>8.256662e+08</td>\n",
       "      <td>NaN</td>\n",
       "      <td>162.19</td>\n",
       "      <td>74.30</td>\n",
       "      <td>267.99</td>\n",
       "      <td>0.070338</td>\n",
       "      <td>8049.640137</td>\n",
       "      <td>26430.140625</td>\n",
       "      <td>NaN</td>\n",
       "    </tr>\n",
       "    <tr>\n",
       "      <th>2</th>\n",
       "      <td>2019-04-30</td>\n",
       "      <td>5247.73</td>\n",
       "      <td>5.147717e+07</td>\n",
       "      <td>1.203268</td>\n",
       "      <td>529709.0</td>\n",
       "      <td>363207</td>\n",
       "      <td>6.353030e+12</td>\n",
       "      <td>70.954700</td>\n",
       "      <td>8.838533e+08</td>\n",
       "      <td>NaN</td>\n",
       "      <td>155.17</td>\n",
       "      <td>67.95</td>\n",
       "      <td>237.57</td>\n",
       "      <td>0.064661</td>\n",
       "      <td>8095.390137</td>\n",
       "      <td>26592.910156</td>\n",
       "      <td>NaN</td>\n",
       "    </tr>\n",
       "    <tr>\n",
       "      <th>3</th>\n",
       "      <td>2019-04-29</td>\n",
       "      <td>5284.86</td>\n",
       "      <td>5.147717e+07</td>\n",
       "      <td>0.977574</td>\n",
       "      <td>406877.0</td>\n",
       "      <td>383291</td>\n",
       "      <td>6.353030e+12</td>\n",
       "      <td>47.953930</td>\n",
       "      <td>4.371152e+08</td>\n",
       "      <td>NaN</td>\n",
       "      <td>157.29</td>\n",
       "      <td>69.78</td>\n",
       "      <td>255.55</td>\n",
       "      <td>0.068620</td>\n",
       "      <td>8161.850098</td>\n",
       "      <td>26554.390625</td>\n",
       "      <td>NaN</td>\n",
       "    </tr>\n",
       "    <tr>\n",
       "      <th>4</th>\n",
       "      <td>2019-04-28</td>\n",
       "      <td>5271.75</td>\n",
       "      <td>4.326609e+07</td>\n",
       "      <td>1.170310</td>\n",
       "      <td>421593.0</td>\n",
       "      <td>359008</td>\n",
       "      <td>6.353030e+12</td>\n",
       "      <td>54.420927</td>\n",
       "      <td>4.530519e+08</td>\n",
       "      <td>NaN</td>\n",
       "      <td>158.50</td>\n",
       "      <td>72.12</td>\n",
       "      <td>264.12</td>\n",
       "      <td>0.070189</td>\n",
       "      <td>NaN</td>\n",
       "      <td>NaN</td>\n",
       "      <td>NaN</td>\n",
       "    </tr>\n",
       "  </tbody>\n",
       "</table>\n",
       "</div>"
      ],
      "text/plain": [
       "        date  BTC price  BTC network hashrate  Average BTC block size  \\\n",
       "0 2019-05-02    5402.42          5.400366e+07                1.126911   \n",
       "1 2019-05-01    5350.91          4.421352e+07                1.295071   \n",
       "2 2019-04-30    5247.73          5.147717e+07                1.203268   \n",
       "3 2019-04-29    5284.86          5.147717e+07                0.977574   \n",
       "4 2019-04-28    5271.75          4.326609e+07                1.170310   \n",
       "\n",
       "   NUAU - BTC  Number TX - BTC  Difficulty - BTC  TX fees - BTC  \\\n",
       "0    516500.0           439549      6.353030e+12      65.625219   \n",
       "1    551918.0           346486      6.353030e+12      85.484635   \n",
       "2    529709.0           363207      6.353030e+12      70.954700   \n",
       "3    406877.0           383291      6.353030e+12      47.953930   \n",
       "4    421593.0           359008      6.353030e+12      54.420927   \n",
       "\n",
       "   Estimated TX Volume USD - BTC  Gold in USD  Ethereum Price  Litecoin Price  \\\n",
       "0                   8.710334e+08          NaN          160.85           73.68   \n",
       "1                   8.256662e+08          NaN          162.19           74.30   \n",
       "2                   8.838533e+08          NaN          155.17           67.95   \n",
       "3                   4.371152e+08          NaN          157.29           69.78   \n",
       "4                   4.530519e+08          NaN          158.50           72.12   \n",
       "\n",
       "   Bitcoin Cash Price  Cardano Price  Nasdaq composite index           DJI  \\\n",
       "0              271.97       0.069020             8036.770020  26307.789063   \n",
       "1              267.99       0.070338             8049.640137  26430.140625   \n",
       "2              237.57       0.064661             8095.390137  26592.910156   \n",
       "3              255.55       0.068620             8161.850098  26554.390625   \n",
       "4              264.12       0.070189                     NaN           NaN   \n",
       "\n",
       "  Google trends  \n",
       "0           NaN  \n",
       "1           NaN  \n",
       "2           NaN  \n",
       "3           NaN  \n",
       "4           NaN  "
      ]
     },
     "execution_count": 4,
     "metadata": {},
     "output_type": "execute_result"
    }
   ],
   "source": [
    "#Check for null values\n",
    "sample_nas = crypt[crypt.isnull().any(axis=1)].head()\n",
    "sample_nas"
   ]
  },
  {
   "cell_type": "code",
   "execution_count": 5,
   "metadata": {},
   "outputs": [
    {
     "name": "stdout",
     "output_type": "stream",
     "text": [
      "<class 'pandas.core.frame.DataFrame'>\n",
      "RangeIndex: 3772 entries, 0 to 3771\n",
      "Data columns (total 17 columns):\n",
      " #   Column                         Non-Null Count  Dtype         \n",
      "---  ------                         --------------  -----         \n",
      " 0   date                           3772 non-null   datetime64[ns]\n",
      " 1   BTC price                      3772 non-null   float64       \n",
      " 2   BTC network hashrate           3771 non-null   float64       \n",
      " 3   Average BTC block size         3772 non-null   float64       \n",
      " 4   NUAU - BTC                     3764 non-null   float64       \n",
      " 5   Number TX - BTC                3772 non-null   int64         \n",
      " 6   Difficulty - BTC               3772 non-null   float64       \n",
      " 7   TX fees - BTC                  3772 non-null   float64       \n",
      " 8   Estimated TX Volume USD - BTC  3772 non-null   float64       \n",
      " 9   Gold in USD                    2690 non-null   float64       \n",
      " 10  Ethereum Price                 1373 non-null   float64       \n",
      " 11  Litecoin Price                 2765 non-null   float64       \n",
      " 12  Bitcoin Cash Price             649 non-null    float64       \n",
      " 13  Cardano Price                  579 non-null    float64       \n",
      " 14  Nasdaq composite index         2599 non-null   float64       \n",
      " 15  DJI                            2599 non-null   float64       \n",
      " 16  Google trends                  123 non-null    object        \n",
      "dtypes: datetime64[ns](1), float64(14), int64(1), object(1)\n",
      "memory usage: 501.1+ KB\n"
     ]
    }
   ],
   "source": [
    "crypt.info()"
   ]
  },
  {
   "cell_type": "code",
   "execution_count": 6,
   "metadata": {},
   "outputs": [],
   "source": [
    "#Drop Google Trends and Gold in USD columns\n",
    "crypt= crypt.drop(['Google trends','Gold in USD'],axis=1)"
   ]
  },
  {
   "cell_type": "code",
   "execution_count": 7,
   "metadata": {},
   "outputs": [
    {
     "data": {
      "text/html": [
       "<div>\n",
       "<style scoped>\n",
       "    .dataframe tbody tr th:only-of-type {\n",
       "        vertical-align: middle;\n",
       "    }\n",
       "\n",
       "    .dataframe tbody tr th {\n",
       "        vertical-align: top;\n",
       "    }\n",
       "\n",
       "    .dataframe thead th {\n",
       "        text-align: right;\n",
       "    }\n",
       "</style>\n",
       "<table border=\"1\" class=\"dataframe\">\n",
       "  <thead>\n",
       "    <tr style=\"text-align: right;\">\n",
       "      <th></th>\n",
       "      <th>date</th>\n",
       "      <th>BTC price</th>\n",
       "      <th>BTC network hashrate</th>\n",
       "      <th>Average BTC block size</th>\n",
       "      <th>NUAU - BTC</th>\n",
       "      <th>Number TX - BTC</th>\n",
       "      <th>Difficulty - BTC</th>\n",
       "      <th>TX fees - BTC</th>\n",
       "      <th>Estimated TX Volume USD - BTC</th>\n",
       "      <th>Ethereum Price</th>\n",
       "      <th>Litecoin Price</th>\n",
       "      <th>Bitcoin Cash Price</th>\n",
       "      <th>Cardano Price</th>\n",
       "      <th>Nasdaq composite index</th>\n",
       "      <th>DJI</th>\n",
       "    </tr>\n",
       "  </thead>\n",
       "  <tbody>\n",
       "    <tr>\n",
       "      <th>0</th>\n",
       "      <td>2019-05-02</td>\n",
       "      <td>5402.42</td>\n",
       "      <td>5.400366e+07</td>\n",
       "      <td>1.126911</td>\n",
       "      <td>516500.0</td>\n",
       "      <td>439549</td>\n",
       "      <td>6.353030e+12</td>\n",
       "      <td>65.625219</td>\n",
       "      <td>8.710334e+08</td>\n",
       "      <td>160.85</td>\n",
       "      <td>73.68</td>\n",
       "      <td>271.97</td>\n",
       "      <td>0.069020</td>\n",
       "      <td>8036.770020</td>\n",
       "      <td>26307.789063</td>\n",
       "    </tr>\n",
       "    <tr>\n",
       "      <th>1</th>\n",
       "      <td>2019-05-01</td>\n",
       "      <td>5350.91</td>\n",
       "      <td>4.421352e+07</td>\n",
       "      <td>1.295071</td>\n",
       "      <td>551918.0</td>\n",
       "      <td>346486</td>\n",
       "      <td>6.353030e+12</td>\n",
       "      <td>85.484635</td>\n",
       "      <td>8.256662e+08</td>\n",
       "      <td>162.19</td>\n",
       "      <td>74.30</td>\n",
       "      <td>267.99</td>\n",
       "      <td>0.070338</td>\n",
       "      <td>8049.640137</td>\n",
       "      <td>26430.140625</td>\n",
       "    </tr>\n",
       "    <tr>\n",
       "      <th>2</th>\n",
       "      <td>2019-04-30</td>\n",
       "      <td>5247.73</td>\n",
       "      <td>5.147717e+07</td>\n",
       "      <td>1.203268</td>\n",
       "      <td>529709.0</td>\n",
       "      <td>363207</td>\n",
       "      <td>6.353030e+12</td>\n",
       "      <td>70.954700</td>\n",
       "      <td>8.838533e+08</td>\n",
       "      <td>155.17</td>\n",
       "      <td>67.95</td>\n",
       "      <td>237.57</td>\n",
       "      <td>0.064661</td>\n",
       "      <td>8095.390137</td>\n",
       "      <td>26592.910156</td>\n",
       "    </tr>\n",
       "    <tr>\n",
       "      <th>3</th>\n",
       "      <td>2019-04-29</td>\n",
       "      <td>5284.86</td>\n",
       "      <td>5.147717e+07</td>\n",
       "      <td>0.977574</td>\n",
       "      <td>406877.0</td>\n",
       "      <td>383291</td>\n",
       "      <td>6.353030e+12</td>\n",
       "      <td>47.953930</td>\n",
       "      <td>4.371152e+08</td>\n",
       "      <td>157.29</td>\n",
       "      <td>69.78</td>\n",
       "      <td>255.55</td>\n",
       "      <td>0.068620</td>\n",
       "      <td>8161.850098</td>\n",
       "      <td>26554.390625</td>\n",
       "    </tr>\n",
       "    <tr>\n",
       "      <th>4</th>\n",
       "      <td>2019-04-28</td>\n",
       "      <td>5271.75</td>\n",
       "      <td>4.326609e+07</td>\n",
       "      <td>1.170310</td>\n",
       "      <td>421593.0</td>\n",
       "      <td>359008</td>\n",
       "      <td>6.353030e+12</td>\n",
       "      <td>54.420927</td>\n",
       "      <td>4.530519e+08</td>\n",
       "      <td>158.50</td>\n",
       "      <td>72.12</td>\n",
       "      <td>264.12</td>\n",
       "      <td>0.070189</td>\n",
       "      <td>NaN</td>\n",
       "      <td>NaN</td>\n",
       "    </tr>\n",
       "  </tbody>\n",
       "</table>\n",
       "</div>"
      ],
      "text/plain": [
       "        date  BTC price  BTC network hashrate  Average BTC block size  \\\n",
       "0 2019-05-02    5402.42          5.400366e+07                1.126911   \n",
       "1 2019-05-01    5350.91          4.421352e+07                1.295071   \n",
       "2 2019-04-30    5247.73          5.147717e+07                1.203268   \n",
       "3 2019-04-29    5284.86          5.147717e+07                0.977574   \n",
       "4 2019-04-28    5271.75          4.326609e+07                1.170310   \n",
       "\n",
       "   NUAU - BTC  Number TX - BTC  Difficulty - BTC  TX fees - BTC  \\\n",
       "0    516500.0           439549      6.353030e+12      65.625219   \n",
       "1    551918.0           346486      6.353030e+12      85.484635   \n",
       "2    529709.0           363207      6.353030e+12      70.954700   \n",
       "3    406877.0           383291      6.353030e+12      47.953930   \n",
       "4    421593.0           359008      6.353030e+12      54.420927   \n",
       "\n",
       "   Estimated TX Volume USD - BTC  Ethereum Price  Litecoin Price  \\\n",
       "0                   8.710334e+08          160.85           73.68   \n",
       "1                   8.256662e+08          162.19           74.30   \n",
       "2                   8.838533e+08          155.17           67.95   \n",
       "3                   4.371152e+08          157.29           69.78   \n",
       "4                   4.530519e+08          158.50           72.12   \n",
       "\n",
       "   Bitcoin Cash Price  Cardano Price  Nasdaq composite index           DJI  \n",
       "0              271.97       0.069020             8036.770020  26307.789063  \n",
       "1              267.99       0.070338             8049.640137  26430.140625  \n",
       "2              237.57       0.064661             8095.390137  26592.910156  \n",
       "3              255.55       0.068620             8161.850098  26554.390625  \n",
       "4              264.12       0.070189                     NaN           NaN  "
      ]
     },
     "execution_count": 7,
     "metadata": {},
     "output_type": "execute_result"
    }
   ],
   "source": [
    "crypt.head()"
   ]
  },
  {
   "cell_type": "code",
   "execution_count": 8,
   "metadata": {},
   "outputs": [],
   "source": [
    "#drop rows with missing values\n",
    "crypt = crypt.dropna()"
   ]
  },
  {
   "cell_type": "code",
   "execution_count": 9,
   "metadata": {},
   "outputs": [
    {
     "data": {
      "text/plain": [
       "0"
      ]
     },
     "execution_count": 9,
     "metadata": {},
     "output_type": "execute_result"
    }
   ],
   "source": [
    "#Check if there's any null\n",
    "crypt.isnull().sum().sum() "
   ]
  },
  {
   "cell_type": "code",
   "execution_count": 10,
   "metadata": {},
   "outputs": [
    {
     "data": {
      "text/html": [
       "<div>\n",
       "<style scoped>\n",
       "    .dataframe tbody tr th:only-of-type {\n",
       "        vertical-align: middle;\n",
       "    }\n",
       "\n",
       "    .dataframe tbody tr th {\n",
       "        vertical-align: top;\n",
       "    }\n",
       "\n",
       "    .dataframe thead th {\n",
       "        text-align: right;\n",
       "    }\n",
       "</style>\n",
       "<table border=\"1\" class=\"dataframe\">\n",
       "  <thead>\n",
       "    <tr style=\"text-align: right;\">\n",
       "      <th></th>\n",
       "      <th>date</th>\n",
       "      <th>BTC price</th>\n",
       "      <th>BTC network hashrate</th>\n",
       "      <th>Average BTC block size</th>\n",
       "      <th>NUAU - BTC</th>\n",
       "      <th>Number TX - BTC</th>\n",
       "      <th>Difficulty - BTC</th>\n",
       "      <th>TX fees - BTC</th>\n",
       "      <th>Estimated TX Volume USD - BTC</th>\n",
       "      <th>Ethereum Price</th>\n",
       "      <th>Litecoin Price</th>\n",
       "      <th>Bitcoin Cash Price</th>\n",
       "      <th>Cardano Price</th>\n",
       "      <th>Nasdaq composite index</th>\n",
       "      <th>DJI</th>\n",
       "    </tr>\n",
       "  </thead>\n",
       "  <tbody>\n",
       "    <tr>\n",
       "      <th>0</th>\n",
       "      <td>2019-05-02</td>\n",
       "      <td>5402.42</td>\n",
       "      <td>5.400366e+07</td>\n",
       "      <td>1.126911</td>\n",
       "      <td>516500.0</td>\n",
       "      <td>439549</td>\n",
       "      <td>6.353030e+12</td>\n",
       "      <td>65.625219</td>\n",
       "      <td>8.710334e+08</td>\n",
       "      <td>160.85</td>\n",
       "      <td>73.68</td>\n",
       "      <td>271.97</td>\n",
       "      <td>0.069020</td>\n",
       "      <td>8036.770020</td>\n",
       "      <td>26307.789063</td>\n",
       "    </tr>\n",
       "    <tr>\n",
       "      <th>1</th>\n",
       "      <td>2019-05-01</td>\n",
       "      <td>5350.91</td>\n",
       "      <td>4.421352e+07</td>\n",
       "      <td>1.295071</td>\n",
       "      <td>551918.0</td>\n",
       "      <td>346486</td>\n",
       "      <td>6.353030e+12</td>\n",
       "      <td>85.484635</td>\n",
       "      <td>8.256662e+08</td>\n",
       "      <td>162.19</td>\n",
       "      <td>74.30</td>\n",
       "      <td>267.99</td>\n",
       "      <td>0.070338</td>\n",
       "      <td>8049.640137</td>\n",
       "      <td>26430.140625</td>\n",
       "    </tr>\n",
       "    <tr>\n",
       "      <th>2</th>\n",
       "      <td>2019-04-30</td>\n",
       "      <td>5247.73</td>\n",
       "      <td>5.147717e+07</td>\n",
       "      <td>1.203268</td>\n",
       "      <td>529709.0</td>\n",
       "      <td>363207</td>\n",
       "      <td>6.353030e+12</td>\n",
       "      <td>70.954700</td>\n",
       "      <td>8.838533e+08</td>\n",
       "      <td>155.17</td>\n",
       "      <td>67.95</td>\n",
       "      <td>237.57</td>\n",
       "      <td>0.064661</td>\n",
       "      <td>8095.390137</td>\n",
       "      <td>26592.910156</td>\n",
       "    </tr>\n",
       "    <tr>\n",
       "      <th>3</th>\n",
       "      <td>2019-04-29</td>\n",
       "      <td>5284.86</td>\n",
       "      <td>5.147717e+07</td>\n",
       "      <td>0.977574</td>\n",
       "      <td>406877.0</td>\n",
       "      <td>383291</td>\n",
       "      <td>6.353030e+12</td>\n",
       "      <td>47.953930</td>\n",
       "      <td>4.371152e+08</td>\n",
       "      <td>157.29</td>\n",
       "      <td>69.78</td>\n",
       "      <td>255.55</td>\n",
       "      <td>0.068620</td>\n",
       "      <td>8161.850098</td>\n",
       "      <td>26554.390625</td>\n",
       "    </tr>\n",
       "    <tr>\n",
       "      <th>6</th>\n",
       "      <td>2019-04-26</td>\n",
       "      <td>5210.30</td>\n",
       "      <td>4.516095e+07</td>\n",
       "      <td>1.219516</td>\n",
       "      <td>529636.0</td>\n",
       "      <td>384089</td>\n",
       "      <td>6.353030e+12</td>\n",
       "      <td>94.300876</td>\n",
       "      <td>8.217963e+08</td>\n",
       "      <td>154.58</td>\n",
       "      <td>71.36</td>\n",
       "      <td>267.19</td>\n",
       "      <td>0.069347</td>\n",
       "      <td>8146.399902</td>\n",
       "      <td>26543.330078</td>\n",
       "    </tr>\n",
       "  </tbody>\n",
       "</table>\n",
       "</div>"
      ],
      "text/plain": [
       "        date  BTC price  BTC network hashrate  Average BTC block size  \\\n",
       "0 2019-05-02    5402.42          5.400366e+07                1.126911   \n",
       "1 2019-05-01    5350.91          4.421352e+07                1.295071   \n",
       "2 2019-04-30    5247.73          5.147717e+07                1.203268   \n",
       "3 2019-04-29    5284.86          5.147717e+07                0.977574   \n",
       "6 2019-04-26    5210.30          4.516095e+07                1.219516   \n",
       "\n",
       "   NUAU - BTC  Number TX - BTC  Difficulty - BTC  TX fees - BTC  \\\n",
       "0    516500.0           439549      6.353030e+12      65.625219   \n",
       "1    551918.0           346486      6.353030e+12      85.484635   \n",
       "2    529709.0           363207      6.353030e+12      70.954700   \n",
       "3    406877.0           383291      6.353030e+12      47.953930   \n",
       "6    529636.0           384089      6.353030e+12      94.300876   \n",
       "\n",
       "   Estimated TX Volume USD - BTC  Ethereum Price  Litecoin Price  \\\n",
       "0                   8.710334e+08          160.85           73.68   \n",
       "1                   8.256662e+08          162.19           74.30   \n",
       "2                   8.838533e+08          155.17           67.95   \n",
       "3                   4.371152e+08          157.29           69.78   \n",
       "6                   8.217963e+08          154.58           71.36   \n",
       "\n",
       "   Bitcoin Cash Price  Cardano Price  Nasdaq composite index           DJI  \n",
       "0              271.97       0.069020             8036.770020  26307.789063  \n",
       "1              267.99       0.070338             8049.640137  26430.140625  \n",
       "2              237.57       0.064661             8095.390137  26592.910156  \n",
       "3              255.55       0.068620             8161.850098  26554.390625  \n",
       "6              267.19       0.069347             8146.399902  26543.330078  "
      ]
     },
     "execution_count": 10,
     "metadata": {},
     "output_type": "execute_result"
    }
   ],
   "source": [
    "crypt.head()"
   ]
  },
  {
   "cell_type": "code",
   "execution_count": 11,
   "metadata": {},
   "outputs": [
    {
     "name": "stdout",
     "output_type": "stream",
     "text": [
      "<class 'pandas.core.frame.DataFrame'>\n",
      "Int64Index: 392 entries, 0 to 577\n",
      "Data columns (total 15 columns):\n",
      " #   Column                         Non-Null Count  Dtype         \n",
      "---  ------                         --------------  -----         \n",
      " 0   date                           392 non-null    datetime64[ns]\n",
      " 1   BTC price                      392 non-null    float64       \n",
      " 2   BTC network hashrate           392 non-null    float64       \n",
      " 3   Average BTC block size         392 non-null    float64       \n",
      " 4   NUAU - BTC                     392 non-null    float64       \n",
      " 5   Number TX - BTC                392 non-null    int64         \n",
      " 6   Difficulty - BTC               392 non-null    float64       \n",
      " 7   TX fees - BTC                  392 non-null    float64       \n",
      " 8   Estimated TX Volume USD - BTC  392 non-null    float64       \n",
      " 9   Ethereum Price                 392 non-null    float64       \n",
      " 10  Litecoin Price                 392 non-null    float64       \n",
      " 11  Bitcoin Cash Price             392 non-null    float64       \n",
      " 12  Cardano Price                  392 non-null    float64       \n",
      " 13  Nasdaq composite index         392 non-null    float64       \n",
      " 14  DJI                            392 non-null    float64       \n",
      "dtypes: datetime64[ns](1), float64(13), int64(1)\n",
      "memory usage: 49.0 KB\n"
     ]
    }
   ],
   "source": [
    "crypt.info()"
   ]
  },
  {
   "cell_type": "code",
   "execution_count": 12,
   "metadata": {},
   "outputs": [
    {
     "data": {
      "text/plain": [
       "<matplotlib.axes._subplots.AxesSubplot at 0x11c458c10>"
      ]
     },
     "execution_count": 12,
     "metadata": {},
     "output_type": "execute_result"
    },
    {
     "data": {
      "image/png": "[encoded data removed]",
      "text/plain": [
       "<Figure size 720x720 with 2 Axes>"
      ]
     },
     "metadata": {
      "needs_background": "light"
     },
     "output_type": "display_data"
    }
   ],
   "source": [
    "corr = crypt.corr()\n",
    "plt.figure(figsize=(10,10))\n",
    "sns.heatmap(corr, annot = True, linewidth = 0.5,cmap=\"gist_rainbow\")"
   ]
  },
  {
   "cell_type": "code",
   "execution_count": 15,
   "metadata": {},
   "outputs": [],
   "source": [
    "#Define X and Y to seperate the dependent and independent variables to build the model\n",
    "X = crypt.iloc[:,1:14] \n",
    "Y = crypt.iloc[:,1]"
   ]
  },
  {
   "cell_type": "code",
   "execution_count": 16,
   "metadata": {},
   "outputs": [],
   "source": [
    "#Split into train and test data\n",
    "from sklearn.datasets import make_regression\n",
    "from sklearn.model_selection import train_test_split\n",
    "X_train, X_test, Y_train, Y_test = train_test_split(X, Y, test_size=0.2, random_state=0)"
   ]
  },
  {
   "cell_type": "code",
   "execution_count": 32,
   "metadata": {},
   "outputs": [],
   "source": [
    "#Create the Random Forest Regression Model\n",
    "#from sklearn.ensemble import RandomForestRegressor\n",
    "#rnd_reg = RandomForestRegressor(n_estimators=14, max_depth=6, random_state=0)"
   ]
  },
  {
   "cell_type": "code",
   "execution_count": 44,
   "metadata": {},
   "outputs": [
    {
     "data": {
      "text/plain": [
       "RandomForestRegressor(max_depth=6, n_estimators=14, random_state=0)"
      ]
     },
     "execution_count": 44,
     "metadata": {},
     "output_type": "execute_result"
    }
   ],
   "source": [
    "#rnd_reg.fit(X_train, Y_train)"
   ]
  },
  {
   "cell_type": "code",
   "execution_count": 34,
   "metadata": {},
   "outputs": [],
   "source": [
    "#Check fit\n",
    "#preds = rnd_reg.predict(X_test)"
   ]
  },
  {
   "cell_type": "code",
   "execution_count": 33,
   "metadata": {},
   "outputs": [],
   "source": [
    "#Make predictions\n",
    "#preds"
   ]
  },
  {
   "cell_type": "code",
   "execution_count": 47,
   "metadata": {},
   "outputs": [
    {
     "data": {
      "text/plain": [
       "119.10610450186088"
      ]
     },
     "execution_count": 47,
     "metadata": {},
     "output_type": "execute_result"
    }
   ],
   "source": [
    "#from sklearn.metrics import mean_squared_error\n",
    "#lin_mse = mean_squared_error(Y_test, preds)\n",
    "#lin_rmse = np.sqrt(lin_mse)\n",
    "#lin_rmse"
   ]
  },
  {
   "cell_type": "code",
   "execution_count": 35,
   "metadata": {},
   "outputs": [],
   "source": [
    "#Check Fit\n",
    "#preds1 = rnd_reg.predict(X_train)"
   ]
  },
  {
   "cell_type": "code",
   "execution_count": 36,
   "metadata": {},
   "outputs": [],
   "source": [
    "#Make predictions\n",
    "#preds1"
   ]
  },
  {
   "cell_type": "code",
   "execution_count": 50,
   "metadata": {},
   "outputs": [
    {
     "data": {
      "text/plain": [
       "59.980053580439446"
      ]
     },
     "execution_count": 50,
     "metadata": {},
     "output_type": "execute_result"
    }
   ],
   "source": [
    "#from sklearn.metrics import mean_squared_error\n",
    "#lin_mse = mean_squared_error(Y_train, preds1)\n",
    "#lin_rmse = np.sqrt(lin_mse)\n",
    "#lin_rmse"
   ]
  },
  {
   "cell_type": "code",
   "execution_count": 51,
   "metadata": {},
   "outputs": [],
   "source": [
    "#from sklearn.model_selection import train_test_split\n",
    "#from sklearn.metrics import r2_score, mean_squared_error\n",
    "#import seaborn as sns"
   ]
  },
  {
   "cell_type": "code",
   "execution_count": 52,
   "metadata": {},
   "outputs": [
    {
     "name": "stdout",
     "output_type": "stream",
     "text": [
      "Mean Absolute Error: 48.64179397964342\n"
     ]
    }
   ],
   "source": [
    "#from sklearn import metrics\n",
    "#print('Mean Absolute Error:', metrics.mean_absolute_error(Y_test, preds))"
   ]
  },
  {
   "cell_type": "code",
   "execution_count": 53,
   "metadata": {},
   "outputs": [
    {
     "name": "stdout",
     "output_type": "stream",
     "text": [
      "Mean Squared Error: 14186.264129608204\n"
     ]
    }
   ],
   "source": [
    "#print('Mean Squared Error:', metrics.mean_squared_error(Y_test, preds))"
   ]
  },
  {
   "cell_type": "code",
   "execution_count": 54,
   "metadata": {},
   "outputs": [
    {
     "name": "stdout",
     "output_type": "stream",
     "text": [
      "Root Mean Squared Error: 119.10610450186088\n"
     ]
    }
   ],
   "source": [
    "#print('Root Mean Squared Error:', np.sqrt(metrics.mean_squared_error(Y_test, preds)))"
   ]
  },
  {
   "cell_type": "code",
   "execution_count": 55,
   "metadata": {},
   "outputs": [
    {
     "data": {
      "text/plain": [
       "array([9.97351655e-01, 8.00994523e-04, 4.17652963e-04, 4.39888879e-05,\n",
       "       1.20104379e-04, 1.38371236e-04, 2.56899275e-04, 1.15922423e-04,\n",
       "       1.01853509e-04, 3.87349990e-04, 5.35203283e-05, 1.39950628e-04,\n",
       "       7.17367709e-05])"
      ]
     },
     "execution_count": 55,
     "metadata": {},
     "output_type": "execute_result"
    }
   ],
   "source": [
    "#Possible to get an estimate of a feature’s importance\n",
    "#rnd_reg.feature_importances_"
   ]
  },
  {
   "cell_type": "code",
   "execution_count": null,
   "metadata": {},
   "outputs": [],
   "source": [
    "###############################################################"
   ]
  },
  {
   "cell_type": "code",
   "execution_count": 24,
   "metadata": {},
   "outputs": [],
   "source": [
    "from sklearn.metrics import r2_score, mean_squared_error\n",
    "import sklearn.metrics as metrics\n",
    "import seaborn as sns\n",
    "from sklearn.ensemble import RandomForestRegressor\n",
    "import statistics as st\n",
    "\n",
    "train_NRMSE= []\n",
    "for depth in range(1,15):\n",
    "    rnd_reg = RandomForestRegressor(max_depth=depth,random_state=0)\n",
    "    rnd_reg.fit(X_train, Y_train)\n",
    "    preds1=rnd_reg.predict(X_train)   \n",
    "    train_NRMSE.append(np.sqrt(metrics.mean_squared_error(Y_train, preds1))/np.std(preds1))"
   ]
  },
  {
   "cell_type": "code",
   "execution_count": 25,
   "metadata": {},
   "outputs": [],
   "source": [
    "# Build a table with NRMSE for train set\n",
    "train_NRMSE_table= pd.DataFrame({'max_depth':range(1,15), 'train_NRMSE':train_NRMSE})"
   ]
  },
  {
   "cell_type": "code",
   "execution_count": 26,
   "metadata": {},
   "outputs": [],
   "source": [
    "test_NRMSE= []\n",
    "for depth in range(1,15):\n",
    "    rnd_reg = RandomForestRegressor(max_depth=depth,random_state=0)\n",
    "    rnd_reg.fit(X_train, Y_train)\n",
    "    preds=rnd_reg.predict(X_test)  \n",
    "    test_NRMSE.append(np.sqrt(metrics.mean_squared_error(Y_test, preds))/np.std(preds))"
   ]
  },
  {
   "cell_type": "code",
   "execution_count": 27,
   "metadata": {},
   "outputs": [],
   "source": [
    "# Build a table with NRMSE for test set\n",
    "test_NRMSE_table= pd.DataFrame({'max_depth':range(1,15), 'test_NRMSE':test_NRMSE})"
   ]
  },
  {
   "cell_type": "code",
   "execution_count": 28,
   "metadata": {},
   "outputs": [],
   "source": [
    "merged_table = pd.merge(train_NRMSE_table,test_NRMSE_table,on='max_depth')"
   ]
  },
  {
   "cell_type": "code",
   "execution_count": 29,
   "metadata": {},
   "outputs": [
    {
     "data": {
      "text/plain": [
       "Text(0, 0.5, 'performance')"
      ]
     },
     "execution_count": 29,
     "metadata": {},
     "output_type": "execute_result"
    },
    {
     "data": {
      "image/png": "[encoded data removed]",
      "text/plain": [
       "<Figure size 432x288 with 1 Axes>"
      ]
     },
     "metadata": {
      "needs_background": "light"
     },
     "output_type": "display_data"
    }
   ],
   "source": [
    "# Plot NRMSE\n",
    "merged_table.plot('max_depth', y=['train_NRMSE','test_NRMSE'],kind='line',marker='o')\n",
    "plt.xlabel('Depth of tree')\n",
    "plt.ylabel('performance')"
   ]
  },
  {
   "cell_type": "code",
   "execution_count": 30,
   "metadata": {},
   "outputs": [
    {
     "data": {
      "text/html": [
       "<div>\n",
       "<style scoped>\n",
       "    .dataframe tbody tr th:only-of-type {\n",
       "        vertical-align: middle;\n",
       "    }\n",
       "\n",
       "    .dataframe tbody tr th {\n",
       "        vertical-align: top;\n",
       "    }\n",
       "\n",
       "    .dataframe thead th {\n",
       "        text-align: right;\n",
       "    }\n",
       "</style>\n",
       "<table border=\"1\" class=\"dataframe\">\n",
       "  <thead>\n",
       "    <tr style=\"text-align: right;\">\n",
       "      <th></th>\n",
       "      <th>importance</th>\n",
       "    </tr>\n",
       "  </thead>\n",
       "  <tbody>\n",
       "    <tr>\n",
       "      <th>BTC price</th>\n",
       "      <td>0.985760</td>\n",
       "    </tr>\n",
       "    <tr>\n",
       "      <th>Estimated TX Volume USD - BTC</th>\n",
       "      <td>0.004950</td>\n",
       "    </tr>\n",
       "    <tr>\n",
       "      <th>TX fees - BTC</th>\n",
       "      <td>0.004048</td>\n",
       "    </tr>\n",
       "    <tr>\n",
       "      <th>Litecoin Price</th>\n",
       "      <td>0.002460</td>\n",
       "    </tr>\n",
       "    <tr>\n",
       "      <th>BTC network hashrate</th>\n",
       "      <td>0.001200</td>\n",
       "    </tr>\n",
       "    <tr>\n",
       "      <th>Cardano Price</th>\n",
       "      <td>0.000389</td>\n",
       "    </tr>\n",
       "    <tr>\n",
       "      <th>Number TX - BTC</th>\n",
       "      <td>0.000264</td>\n",
       "    </tr>\n",
       "    <tr>\n",
       "      <th>Average BTC block size</th>\n",
       "      <td>0.000242</td>\n",
       "    </tr>\n",
       "    <tr>\n",
       "      <th>Bitcoin Cash Price</th>\n",
       "      <td>0.000226</td>\n",
       "    </tr>\n",
       "    <tr>\n",
       "      <th>Nasdaq composite index</th>\n",
       "      <td>0.000177</td>\n",
       "    </tr>\n",
       "    <tr>\n",
       "      <th>Ethereum Price</th>\n",
       "      <td>0.000102</td>\n",
       "    </tr>\n",
       "    <tr>\n",
       "      <th>Difficulty - BTC</th>\n",
       "      <td>0.000097</td>\n",
       "    </tr>\n",
       "    <tr>\n",
       "      <th>NUAU - BTC</th>\n",
       "      <td>0.000087</td>\n",
       "    </tr>\n",
       "  </tbody>\n",
       "</table>\n",
       "</div>"
      ],
      "text/plain": [
       "                               importance\n",
       "BTC price                        0.985760\n",
       "Estimated TX Volume USD - BTC    0.004950\n",
       "TX fees - BTC                    0.004048\n",
       "Litecoin Price                   0.002460\n",
       "BTC network hashrate             0.001200\n",
       "Cardano Price                    0.000389\n",
       "Number TX - BTC                  0.000264\n",
       "Average BTC block size           0.000242\n",
       "Bitcoin Cash Price               0.000226\n",
       "Nasdaq composite index           0.000177\n",
       "Ethereum Price                   0.000102\n",
       "Difficulty - BTC                 0.000097\n",
       "NUAU - BTC                       0.000087"
      ]
     },
     "execution_count": 30,
     "metadata": {},
     "output_type": "execute_result"
    }
   ],
   "source": [
    "feature_importances = pd.DataFrame(rnd_reg.feature_importances_,\n",
    "                                   index = X_train.columns,\n",
    "                                    columns=['importance']).sort_values('importance',ascending=False)\n",
    "feature_importances"
   ]
  }
 ],
 "metadata": {
  "kernelspec": {
   "display_name": "Python 3",
   "language": "python",
   "name": "python3"
  },
  "language_info": {
   "codemirror_mode": {
    "name": "ipython",
    "version": 3
   },
   "file_extension": ".py",
   "mimetype": "text/x-python",
   "name": "python",
   "nbconvert_exporter": "python",
   "pygments_lexer": "ipython3",
   "version": "3.8.3"
  }
 },
 "nbformat": 4,
 "nbformat_minor": 4
}
