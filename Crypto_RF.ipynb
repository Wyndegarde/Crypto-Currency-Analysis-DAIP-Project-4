{
 "cells": [
  {
   "cell_type": "code",
   "execution_count": 1,
   "metadata": {},
   "outputs": [],
   "source": [
    "import sklearn\n",
    "import numpy as np\n",
    "import pandas as pd\n",
    "import matplotlib.pyplot as plt\n",
    "import seaborn as sns"
   ]
  },
  {
   "cell_type": "code",
   "execution_count": 2,
   "metadata": {},
   "outputs": [],
   "source": [
    "crypto= pd.read_csv(\"C:/Users/happy/Desktop/Strathclyde academic/Sem 2/MS984/Case 4/Cryptoanalytics data master UPDATED.csv\",low_memory=False)"
   ]
  },
  {
   "cell_type": "code",
   "execution_count": 3,
   "metadata": {},
   "outputs": [
    {
     "data": {
      "text/html": [
       "<div>\n",
       "<style scoped>\n",
       "    .dataframe tbody tr th:only-of-type {\n",
       "        vertical-align: middle;\n",
       "    }\n",
       "\n",
       "    .dataframe tbody tr th {\n",
       "        vertical-align: top;\n",
       "    }\n",
       "\n",
       "    .dataframe thead th {\n",
       "        text-align: right;\n",
       "    }\n",
       "</style>\n",
       "<table border=\"1\" class=\"dataframe\">\n",
       "  <thead>\n",
       "    <tr style=\"text-align: right;\">\n",
       "      <th></th>\n",
       "      <th>date</th>\n",
       "      <th>BTC price</th>\n",
       "      <th>BTC network hashrate</th>\n",
       "      <th>Average BTC block size</th>\n",
       "      <th>NUAU - BTC</th>\n",
       "      <th>Number TX - BTC</th>\n",
       "      <th>Difficulty - BTC</th>\n",
       "      <th>TX fees - BTC</th>\n",
       "      <th>Estimated TX Volume USD - BTC</th>\n",
       "      <th>Gold in USD</th>\n",
       "      <th>Ethereum Price</th>\n",
       "      <th>Litecoin Price</th>\n",
       "      <th>Bitcoin Cash Price</th>\n",
       "      <th>Cardano Price</th>\n",
       "      <th>Nasdaq composite index</th>\n",
       "      <th>DJI</th>\n",
       "      <th>Google trends</th>\n",
       "    </tr>\n",
       "  </thead>\n",
       "  <tbody>\n",
       "    <tr>\n",
       "      <th>0</th>\n",
       "      <td>02/05/2019</td>\n",
       "      <td>5402.42</td>\n",
       "      <td>54003657.44</td>\n",
       "      <td>1.126911</td>\n",
       "      <td>516500.0</td>\n",
       "      <td>439549</td>\n",
       "      <td>6.353030e+12</td>\n",
       "      <td>65.625219</td>\n",
       "      <td>871033405.3</td>\n",
       "      <td>NaN</td>\n",
       "      <td>160.85</td>\n",
       "      <td>73.68</td>\n",
       "      <td>271.97</td>\n",
       "      <td>0.069020</td>\n",
       "      <td>8036.770020</td>\n",
       "      <td>26307.78906</td>\n",
       "      <td>NaN</td>\n",
       "    </tr>\n",
       "    <tr>\n",
       "      <th>1</th>\n",
       "      <td>01/05/2019</td>\n",
       "      <td>5350.91</td>\n",
       "      <td>44213520.72</td>\n",
       "      <td>1.295071</td>\n",
       "      <td>551918.0</td>\n",
       "      <td>346486</td>\n",
       "      <td>6.353030e+12</td>\n",
       "      <td>85.484635</td>\n",
       "      <td>825666161.7</td>\n",
       "      <td>NaN</td>\n",
       "      <td>162.19</td>\n",
       "      <td>74.30</td>\n",
       "      <td>267.99</td>\n",
       "      <td>0.070338</td>\n",
       "      <td>8049.640137</td>\n",
       "      <td>26430.14063</td>\n",
       "      <td>NaN</td>\n",
       "    </tr>\n",
       "    <tr>\n",
       "      <th>2</th>\n",
       "      <td>30/04/2019</td>\n",
       "      <td>5247.73</td>\n",
       "      <td>51477170.55</td>\n",
       "      <td>1.203268</td>\n",
       "      <td>529709.0</td>\n",
       "      <td>363207</td>\n",
       "      <td>6.353030e+12</td>\n",
       "      <td>70.954700</td>\n",
       "      <td>883853257.1</td>\n",
       "      <td>NaN</td>\n",
       "      <td>155.17</td>\n",
       "      <td>67.95</td>\n",
       "      <td>237.57</td>\n",
       "      <td>0.064661</td>\n",
       "      <td>8095.390137</td>\n",
       "      <td>26592.91016</td>\n",
       "      <td>NaN</td>\n",
       "    </tr>\n",
       "    <tr>\n",
       "      <th>3</th>\n",
       "      <td>29/04/2019</td>\n",
       "      <td>5284.86</td>\n",
       "      <td>51477170.55</td>\n",
       "      <td>0.977574</td>\n",
       "      <td>406877.0</td>\n",
       "      <td>383291</td>\n",
       "      <td>6.353030e+12</td>\n",
       "      <td>47.953930</td>\n",
       "      <td>437115221.3</td>\n",
       "      <td>NaN</td>\n",
       "      <td>157.29</td>\n",
       "      <td>69.78</td>\n",
       "      <td>255.55</td>\n",
       "      <td>0.068620</td>\n",
       "      <td>8161.850098</td>\n",
       "      <td>26554.39063</td>\n",
       "      <td>NaN</td>\n",
       "    </tr>\n",
       "    <tr>\n",
       "      <th>4</th>\n",
       "      <td>28/04/2019</td>\n",
       "      <td>5271.75</td>\n",
       "      <td>43266088.13</td>\n",
       "      <td>1.170310</td>\n",
       "      <td>421593.0</td>\n",
       "      <td>359008</td>\n",
       "      <td>6.353030e+12</td>\n",
       "      <td>54.420927</td>\n",
       "      <td>453051882.7</td>\n",
       "      <td>NaN</td>\n",
       "      <td>158.50</td>\n",
       "      <td>72.12</td>\n",
       "      <td>264.12</td>\n",
       "      <td>0.070189</td>\n",
       "      <td>NaN</td>\n",
       "      <td>NaN</td>\n",
       "      <td>NaN</td>\n",
       "    </tr>\n",
       "  </tbody>\n",
       "</table>\n",
       "</div>"
      ],
      "text/plain": [
       "         date  BTC price  BTC network hashrate  Average BTC block size  \\\n",
       "0  02/05/2019    5402.42           54003657.44                1.126911   \n",
       "1  01/05/2019    5350.91           44213520.72                1.295071   \n",
       "2  30/04/2019    5247.73           51477170.55                1.203268   \n",
       "3  29/04/2019    5284.86           51477170.55                0.977574   \n",
       "4  28/04/2019    5271.75           43266088.13                1.170310   \n",
       "\n",
       "   NUAU - BTC  Number TX - BTC  Difficulty - BTC  TX fees - BTC  \\\n",
       "0    516500.0           439549      6.353030e+12      65.625219   \n",
       "1    551918.0           346486      6.353030e+12      85.484635   \n",
       "2    529709.0           363207      6.353030e+12      70.954700   \n",
       "3    406877.0           383291      6.353030e+12      47.953930   \n",
       "4    421593.0           359008      6.353030e+12      54.420927   \n",
       "\n",
       "   Estimated TX Volume USD - BTC  Gold in USD  Ethereum Price  Litecoin Price  \\\n",
       "0                    871033405.3          NaN          160.85           73.68   \n",
       "1                    825666161.7          NaN          162.19           74.30   \n",
       "2                    883853257.1          NaN          155.17           67.95   \n",
       "3                    437115221.3          NaN          157.29           69.78   \n",
       "4                    453051882.7          NaN          158.50           72.12   \n",
       "\n",
       "   Bitcoin Cash Price  Cardano Price  Nasdaq composite index          DJI  \\\n",
       "0              271.97       0.069020             8036.770020  26307.78906   \n",
       "1              267.99       0.070338             8049.640137  26430.14063   \n",
       "2              237.57       0.064661             8095.390137  26592.91016   \n",
       "3              255.55       0.068620             8161.850098  26554.39063   \n",
       "4              264.12       0.070189                     NaN          NaN   \n",
       "\n",
       "  Google trends  \n",
       "0           NaN  \n",
       "1           NaN  \n",
       "2           NaN  \n",
       "3           NaN  \n",
       "4           NaN  "
      ]
     },
     "execution_count": 3,
     "metadata": {},
     "output_type": "execute_result"
    }
   ],
   "source": [
    "crypto.head()"
   ]
  },
  {
   "cell_type": "code",
   "execution_count": 4,
   "metadata": {},
   "outputs": [
    {
     "data": {
      "text/plain": [
       "date                                0\n",
       "BTC price                           0\n",
       "BTC network hashrate                1\n",
       "Average BTC block size              0\n",
       "NUAU - BTC                          8\n",
       "Number TX - BTC                     0\n",
       "Difficulty - BTC                    0\n",
       "TX fees - BTC                       0\n",
       "Estimated TX Volume USD - BTC       0\n",
       "Gold in USD                      1082\n",
       "Ethereum Price                   2399\n",
       "Litecoin Price                   1007\n",
       "Bitcoin Cash Price               3123\n",
       "Cardano Price                    3193\n",
       "Nasdaq composite index           1173\n",
       "DJI                              1173\n",
       "Google trends                    3649\n",
       "dtype: int64"
      ]
     },
     "execution_count": 4,
     "metadata": {},
     "output_type": "execute_result"
    }
   ],
   "source": [
    "# Count blank or NA\n",
    "crypto.isnull().sum()"
   ]
  },
  {
   "cell_type": "code",
   "execution_count": 5,
   "metadata": {},
   "outputs": [],
   "source": [
    "crypto2=crypto.drop(['date','Google trends','Gold in USD'],axis=1)"
   ]
  },
  {
   "cell_type": "code",
   "execution_count": 6,
   "metadata": {},
   "outputs": [],
   "source": [
    "crypto2=crypto2.dropna()"
   ]
  },
  {
   "cell_type": "code",
   "execution_count": 7,
   "metadata": {},
   "outputs": [
    {
     "name": "stdout",
     "output_type": "stream",
     "text": [
      "<class 'pandas.core.frame.DataFrame'>\n",
      "Int64Index: 392 entries, 0 to 577\n",
      "Data columns (total 14 columns):\n",
      " #   Column                         Non-Null Count  Dtype  \n",
      "---  ------                         --------------  -----  \n",
      " 0   BTC price                      392 non-null    float64\n",
      " 1   BTC network hashrate           392 non-null    float64\n",
      " 2   Average BTC block size         392 non-null    float64\n",
      " 3   NUAU - BTC                     392 non-null    float64\n",
      " 4   Number TX - BTC                392 non-null    int64  \n",
      " 5   Difficulty - BTC               392 non-null    float64\n",
      " 6   TX fees - BTC                  392 non-null    float64\n",
      " 7   Estimated TX Volume USD - BTC  392 non-null    float64\n",
      " 8   Ethereum Price                 392 non-null    float64\n",
      " 9   Litecoin Price                 392 non-null    float64\n",
      " 10  Bitcoin Cash Price             392 non-null    float64\n",
      " 11  Cardano Price                  392 non-null    float64\n",
      " 12  Nasdaq composite index         392 non-null    float64\n",
      " 13  DJI                            392 non-null    float64\n",
      "dtypes: float64(13), int64(1)\n",
      "memory usage: 45.9 KB\n"
     ]
    }
   ],
   "source": [
    "crypto2.info()"
   ]
  },
  {
   "cell_type": "code",
   "execution_count": 8,
   "metadata": {},
   "outputs": [
    {
     "data": {
      "text/plain": [
       "<matplotlib.axes._subplots.AxesSubplot at 0x21f6502e940>"
      ]
     },
     "execution_count": 8,
     "metadata": {},
     "output_type": "execute_result"
    },
    {
     "data": {
      "image/png": "[encoded data removed]",
      "text/plain": [
       "<Figure size 792x648 with 2 Axes>"
      ]
     },
     "metadata": {
      "needs_background": "light"
     },
     "output_type": "display_data"
    }
   ],
   "source": [
    "# Compute correlation\n",
    "corr = crypto2.corr()\n",
    "mask = np.triu(np.ones_like(corr, dtype=bool))\n",
    "f, ax = plt.subplots(figsize=(11, 9))\n",
    "cmap = sns.diverging_palette(190, 17, as_cmap=True)\n",
    "sns.heatmap(corr, mask=mask, cmap=cmap, vmax=1, center=0,\n",
    "            square=True, linewidths=3, cbar_kws={\"shrink\": .5},annot = True, annot_kws = {'size': 10})"
   ]
  },
  {
   "cell_type": "code",
   "execution_count": 9,
   "metadata": {},
   "outputs": [],
   "source": [
    "# import dataset with daily returns\n",
    "crypto5= pd.read_csv(\"C:/Users/happy/Desktop/Strathclyde academic/Sem 2/MS984/Case 4/crypto2.csv\",low_memory=False)"
   ]
  },
  {
   "cell_type": "code",
   "execution_count": 10,
   "metadata": {},
   "outputs": [
    {
     "data": {
      "text/html": [
       "<div>\n",
       "<style scoped>\n",
       "    .dataframe tbody tr th:only-of-type {\n",
       "        vertical-align: middle;\n",
       "    }\n",
       "\n",
       "    .dataframe tbody tr th {\n",
       "        vertical-align: top;\n",
       "    }\n",
       "\n",
       "    .dataframe thead th {\n",
       "        text-align: right;\n",
       "    }\n",
       "</style>\n",
       "<table border=\"1\" class=\"dataframe\">\n",
       "  <thead>\n",
       "    <tr style=\"text-align: right;\">\n",
       "      <th></th>\n",
       "      <th>BTC price</th>\n",
       "      <th>BTC network hashrate</th>\n",
       "      <th>Average BTC block size</th>\n",
       "      <th>NUAU - BTC</th>\n",
       "      <th>Number TX - BTC</th>\n",
       "      <th>Difficulty - BTC</th>\n",
       "      <th>TX fees - BTC</th>\n",
       "      <th>Estimated TX Volume USD - BTC</th>\n",
       "      <th>Ethereum Price</th>\n",
       "      <th>Litecoin Price</th>\n",
       "      <th>Bitcoin Cash Price</th>\n",
       "      <th>Cardano Price</th>\n",
       "      <th>Nasdaq composite index</th>\n",
       "      <th>DJI</th>\n",
       "    </tr>\n",
       "  </thead>\n",
       "  <tbody>\n",
       "    <tr>\n",
       "      <th>0</th>\n",
       "      <td>-0.009535</td>\n",
       "      <td>-0.181287</td>\n",
       "      <td>0.149222</td>\n",
       "      <td>0.068573</td>\n",
       "      <td>-0.211724</td>\n",
       "      <td>0.0</td>\n",
       "      <td>0.302619</td>\n",
       "      <td>-0.052084</td>\n",
       "      <td>0.008331</td>\n",
       "      <td>0.008415</td>\n",
       "      <td>-0.014634</td>\n",
       "      <td>0.019096</td>\n",
       "      <td>0.001601</td>\n",
       "      <td>0.004651</td>\n",
       "    </tr>\n",
       "    <tr>\n",
       "      <th>1</th>\n",
       "      <td>-0.019283</td>\n",
       "      <td>0.164286</td>\n",
       "      <td>-0.070887</td>\n",
       "      <td>-0.040240</td>\n",
       "      <td>0.048259</td>\n",
       "      <td>0.0</td>\n",
       "      <td>-0.169971</td>\n",
       "      <td>0.070473</td>\n",
       "      <td>-0.043283</td>\n",
       "      <td>-0.085464</td>\n",
       "      <td>-0.113512</td>\n",
       "      <td>-0.080710</td>\n",
       "      <td>0.005683</td>\n",
       "      <td>0.006158</td>\n",
       "    </tr>\n",
       "    <tr>\n",
       "      <th>2</th>\n",
       "      <td>0.007075</td>\n",
       "      <td>0.000000</td>\n",
       "      <td>-0.187567</td>\n",
       "      <td>-0.231886</td>\n",
       "      <td>0.055296</td>\n",
       "      <td>0.0</td>\n",
       "      <td>-0.324161</td>\n",
       "      <td>-0.505444</td>\n",
       "      <td>0.013662</td>\n",
       "      <td>0.026932</td>\n",
       "      <td>0.075683</td>\n",
       "      <td>0.061227</td>\n",
       "      <td>0.008210</td>\n",
       "      <td>-0.001448</td>\n",
       "    </tr>\n",
       "    <tr>\n",
       "      <th>3</th>\n",
       "      <td>-0.014108</td>\n",
       "      <td>-0.122699</td>\n",
       "      <td>0.247492</td>\n",
       "      <td>0.301710</td>\n",
       "      <td>0.002082</td>\n",
       "      <td>0.0</td>\n",
       "      <td>0.966489</td>\n",
       "      <td>0.880045</td>\n",
       "      <td>-0.017229</td>\n",
       "      <td>0.022643</td>\n",
       "      <td>0.045549</td>\n",
       "      <td>0.010595</td>\n",
       "      <td>-0.001893</td>\n",
       "      <td>-0.000417</td>\n",
       "    </tr>\n",
       "    <tr>\n",
       "      <th>4</th>\n",
       "      <td>0.049176</td>\n",
       "      <td>0.139860</td>\n",
       "      <td>0.012218</td>\n",
       "      <td>0.123806</td>\n",
       "      <td>0.052566</td>\n",
       "      <td>0.0</td>\n",
       "      <td>0.385723</td>\n",
       "      <td>0.858342</td>\n",
       "      <td>0.073295</td>\n",
       "      <td>0.026485</td>\n",
       "      <td>0.044987</td>\n",
       "      <td>0.047529</td>\n",
       "      <td>-0.003403</td>\n",
       "      <td>-0.003061</td>\n",
       "    </tr>\n",
       "  </tbody>\n",
       "</table>\n",
       "</div>"
      ],
      "text/plain": [
       "   BTC price  BTC network hashrate  Average BTC block size  NUAU - BTC  \\\n",
       "0  -0.009535             -0.181287                0.149222    0.068573   \n",
       "1  -0.019283              0.164286               -0.070887   -0.040240   \n",
       "2   0.007075              0.000000               -0.187567   -0.231886   \n",
       "3  -0.014108             -0.122699                0.247492    0.301710   \n",
       "4   0.049176              0.139860                0.012218    0.123806   \n",
       "\n",
       "   Number TX - BTC  Difficulty - BTC  TX fees - BTC  \\\n",
       "0        -0.211724               0.0       0.302619   \n",
       "1         0.048259               0.0      -0.169971   \n",
       "2         0.055296               0.0      -0.324161   \n",
       "3         0.002082               0.0       0.966489   \n",
       "4         0.052566               0.0       0.385723   \n",
       "\n",
       "   Estimated TX Volume USD - BTC  Ethereum Price  Litecoin Price  \\\n",
       "0                      -0.052084        0.008331        0.008415   \n",
       "1                       0.070473       -0.043283       -0.085464   \n",
       "2                      -0.505444        0.013662        0.026932   \n",
       "3                       0.880045       -0.017229        0.022643   \n",
       "4                       0.858342        0.073295        0.026485   \n",
       "\n",
       "   Bitcoin Cash Price  Cardano Price  Nasdaq composite index       DJI  \n",
       "0           -0.014634       0.019096                0.001601  0.004651  \n",
       "1           -0.113512      -0.080710                0.005683  0.006158  \n",
       "2            0.075683       0.061227                0.008210 -0.001448  \n",
       "3            0.045549       0.010595               -0.001893 -0.000417  \n",
       "4            0.044987       0.047529               -0.003403 -0.003061  "
      ]
     },
     "execution_count": 10,
     "metadata": {},
     "output_type": "execute_result"
    }
   ],
   "source": [
    "crypto5.head()"
   ]
  },
  {
   "cell_type": "code",
   "execution_count": 11,
   "metadata": {},
   "outputs": [
    {
     "name": "stdout",
     "output_type": "stream",
     "text": [
      "<class 'pandas.core.frame.DataFrame'>\n",
      "RangeIndex: 391 entries, 0 to 390\n",
      "Data columns (total 14 columns):\n",
      " #   Column                         Non-Null Count  Dtype  \n",
      "---  ------                         --------------  -----  \n",
      " 0   BTC price                      391 non-null    float64\n",
      " 1   BTC network hashrate           391 non-null    float64\n",
      " 2   Average BTC block size         391 non-null    float64\n",
      " 3   NUAU - BTC                     391 non-null    float64\n",
      " 4   Number TX - BTC                391 non-null    float64\n",
      " 5   Difficulty - BTC               391 non-null    float64\n",
      " 6   TX fees - BTC                  391 non-null    float64\n",
      " 7   Estimated TX Volume USD - BTC  391 non-null    float64\n",
      " 8   Ethereum Price                 391 non-null    float64\n",
      " 9   Litecoin Price                 391 non-null    float64\n",
      " 10  Bitcoin Cash Price             391 non-null    float64\n",
      " 11  Cardano Price                  391 non-null    float64\n",
      " 12  Nasdaq composite index         391 non-null    float64\n",
      " 13  DJI                            391 non-null    float64\n",
      "dtypes: float64(14)\n",
      "memory usage: 42.9 KB\n"
     ]
    }
   ],
   "source": [
    "crypto5.info()"
   ]
  },
  {
   "cell_type": "code",
   "execution_count": 12,
   "metadata": {},
   "outputs": [],
   "source": [
    "# define x and y\n",
    "x=crypto5.drop(['BTC price'],axis=1)\n",
    "y=crypto5['BTC price']"
   ]
  },
  {
   "cell_type": "code",
   "execution_count": 13,
   "metadata": {},
   "outputs": [],
   "source": [
    "# split into train test sets\n",
    "from sklearn.model_selection import train_test_split\n",
    "X_trainR, X_testR, y_trainR, y_testR = train_test_split(x, y, test_size=0.2, random_state=0)"
   ]
  },
  {
   "cell_type": "code",
   "execution_count": 50,
   "metadata": {},
   "outputs": [],
   "source": [
    "from sklearn.metrics import r2_score, mean_squared_error\n",
    "import sklearn.metrics as metrics\n",
    "import seaborn as sns\n",
    "from sklearn.ensemble import RandomForestRegressor\n",
    "import statistics as st\n",
    "\n",
    "trainR_NRMSE= []\n",
    "for depth in range(1,15):\n",
    "    forest_reg = RandomForestRegressor(max_depth=depth,random_state=0)\n",
    "    forest_reg.fit(X_trainR, y_trainR)\n",
    "    pred_trainR=forest_reg.predict(X_trainR)   \n",
    "    trainR_NRMSE.append(np.sqrt(metrics.mean_squared_error(y_trainR, pred_trainR))/np.std(y_trainR))"
   ]
  },
  {
   "cell_type": "code",
   "execution_count": 51,
   "metadata": {},
   "outputs": [],
   "source": [
    "# Build a table with NRMSE for train set\n",
    "trainR_NRMSE_table= pd.DataFrame({'max_depth':range(1,15), 'trainR_NRMSE':trainR_NRMSE})"
   ]
  },
  {
   "cell_type": "code",
   "execution_count": 52,
   "metadata": {},
   "outputs": [],
   "source": [
    "testR_NRMSE= []\n",
    "for depth in range(1,15):\n",
    "    forest_reg = RandomForestRegressor(max_depth=depth,random_state=0)\n",
    "    forest_reg.fit(X_trainR, y_trainR)\n",
    "    pred_testR=forest_reg.predict(X_testR)  \n",
    "    testR_NRMSE.append(np.sqrt(metrics.mean_squared_error(y_testR, pred_testR))/np.std(y_trainR))"
   ]
  },
  {
   "cell_type": "code",
   "execution_count": 53,
   "metadata": {},
   "outputs": [],
   "source": [
    "# Build a table with NRMSE for test set\n",
    "testR_NRMSE_table= pd.DataFrame({'max_depth':range(1,15), 'testR_NRMSE':testR_NRMSE})"
   ]
  },
  {
   "cell_type": "code",
   "execution_count": 54,
   "metadata": {},
   "outputs": [],
   "source": [
    "merged_table = pd.merge(trainR_NRMSE_table,testR_NRMSE_table,on='max_depth')"
   ]
  },
  {
   "cell_type": "code",
   "execution_count": 55,
   "metadata": {},
   "outputs": [
    {
     "data": {
      "text/plain": [
       "Text(0, 0.5, 'performance')"
      ]
     },
     "execution_count": 55,
     "metadata": {},
     "output_type": "execute_result"
    },
    {
     "data": {
      "image/png": "[encoded data removed]",
      "text/plain": [
       "<Figure size 432x288 with 1 Axes>"
      ]
     },
     "metadata": {
      "needs_background": "light"
     },
     "output_type": "display_data"
    }
   ],
   "source": [
    "# Plot NRMSE\n",
    "merged_table.plot('max_depth', y=['trainR_NRMSE','testR_NRMSE'],kind='line',marker='o')\n",
    "plt.xlabel('Depth of tree')\n",
    "plt.ylabel('performance')"
   ]
  },
  {
   "cell_type": "code",
   "execution_count": 20,
   "metadata": {},
   "outputs": [
    {
     "data": {
      "text/html": [
       "<div>\n",
       "<style scoped>\n",
       "    .dataframe tbody tr th:only-of-type {\n",
       "        vertical-align: middle;\n",
       "    }\n",
       "\n",
       "    .dataframe tbody tr th {\n",
       "        vertical-align: top;\n",
       "    }\n",
       "\n",
       "    .dataframe thead th {\n",
       "        text-align: right;\n",
       "    }\n",
       "</style>\n",
       "<table border=\"1\" class=\"dataframe\">\n",
       "  <thead>\n",
       "    <tr style=\"text-align: right;\">\n",
       "      <th></th>\n",
       "      <th>importance</th>\n",
       "    </tr>\n",
       "  </thead>\n",
       "  <tbody>\n",
       "    <tr>\n",
       "      <th>Litecoin Price</th>\n",
       "      <td>0.481211</td>\n",
       "    </tr>\n",
       "    <tr>\n",
       "      <th>Ethereum Price</th>\n",
       "      <td>0.122160</td>\n",
       "    </tr>\n",
       "    <tr>\n",
       "      <th>Cardano Price</th>\n",
       "      <td>0.107694</td>\n",
       "    </tr>\n",
       "    <tr>\n",
       "      <th>Bitcoin Cash Price</th>\n",
       "      <td>0.103373</td>\n",
       "    </tr>\n",
       "    <tr>\n",
       "      <th>BTC network hashrate</th>\n",
       "      <td>0.054360</td>\n",
       "    </tr>\n",
       "    <tr>\n",
       "      <th>Number TX - BTC</th>\n",
       "      <td>0.026653</td>\n",
       "    </tr>\n",
       "    <tr>\n",
       "      <th>Difficulty - BTC</th>\n",
       "      <td>0.020375</td>\n",
       "    </tr>\n",
       "    <tr>\n",
       "      <th>Average BTC block size</th>\n",
       "      <td>0.017459</td>\n",
       "    </tr>\n",
       "    <tr>\n",
       "      <th>Estimated TX Volume USD - BTC</th>\n",
       "      <td>0.016154</td>\n",
       "    </tr>\n",
       "    <tr>\n",
       "      <th>NUAU - BTC</th>\n",
       "      <td>0.015569</td>\n",
       "    </tr>\n",
       "    <tr>\n",
       "      <th>TX fees - BTC</th>\n",
       "      <td>0.012226</td>\n",
       "    </tr>\n",
       "    <tr>\n",
       "      <th>DJI</th>\n",
       "      <td>0.011632</td>\n",
       "    </tr>\n",
       "    <tr>\n",
       "      <th>Nasdaq composite index</th>\n",
       "      <td>0.011133</td>\n",
       "    </tr>\n",
       "  </tbody>\n",
       "</table>\n",
       "</div>"
      ],
      "text/plain": [
       "                               importance\n",
       "Litecoin Price                   0.481211\n",
       "Ethereum Price                   0.122160\n",
       "Cardano Price                    0.107694\n",
       "Bitcoin Cash Price               0.103373\n",
       "BTC network hashrate             0.054360\n",
       "Number TX - BTC                  0.026653\n",
       "Difficulty - BTC                 0.020375\n",
       "Average BTC block size           0.017459\n",
       "Estimated TX Volume USD - BTC    0.016154\n",
       "NUAU - BTC                       0.015569\n",
       "TX fees - BTC                    0.012226\n",
       "DJI                              0.011632\n",
       "Nasdaq composite index           0.011133"
      ]
     },
     "execution_count": 20,
     "metadata": {},
     "output_type": "execute_result"
    }
   ],
   "source": [
    "feature_importances = pd.DataFrame(forest_reg.feature_importances_,\n",
    "                                   index = X_trainR.columns,\n",
    "                                    columns=['importance']).sort_values('importance',ascending=False)\n",
    "feature_importances"
   ]
  },
  {
   "cell_type": "code",
   "execution_count": 37,
   "metadata": {},
   "outputs": [],
   "source": [
    "#Import the raw data\n",
    "crypto_raw = pd.read_csv(\"C:/Users/happy/Desktop/Strathclyde academic/Sem 2/MS984/Case 4/Cryptoanalytics data master UPDATED.csv\")"
   ]
  },
  {
   "cell_type": "code",
   "execution_count": 38,
   "metadata": {},
   "outputs": [
    {
     "data": {
      "text/html": [
       "<div>\n",
       "<style scoped>\n",
       "    .dataframe tbody tr th:only-of-type {\n",
       "        vertical-align: middle;\n",
       "    }\n",
       "\n",
       "    .dataframe tbody tr th {\n",
       "        vertical-align: top;\n",
       "    }\n",
       "\n",
       "    .dataframe thead th {\n",
       "        text-align: right;\n",
       "    }\n",
       "</style>\n",
       "<table border=\"1\" class=\"dataframe\">\n",
       "  <thead>\n",
       "    <tr style=\"text-align: right;\">\n",
       "      <th></th>\n",
       "      <th>date</th>\n",
       "      <th>BTC price</th>\n",
       "      <th>BTC network hashrate</th>\n",
       "      <th>Average BTC block size</th>\n",
       "      <th>NUAU - BTC</th>\n",
       "      <th>Number TX - BTC</th>\n",
       "      <th>Difficulty - BTC</th>\n",
       "      <th>TX fees - BTC</th>\n",
       "      <th>Estimated TX Volume USD - BTC</th>\n",
       "      <th>Gold in USD</th>\n",
       "      <th>Ethereum Price</th>\n",
       "      <th>Litecoin Price</th>\n",
       "      <th>Bitcoin Cash Price</th>\n",
       "      <th>Cardano Price</th>\n",
       "      <th>Nasdaq composite index</th>\n",
       "      <th>DJI</th>\n",
       "      <th>Google trends</th>\n",
       "    </tr>\n",
       "  </thead>\n",
       "  <tbody>\n",
       "    <tr>\n",
       "      <th>0</th>\n",
       "      <td>02/05/2019</td>\n",
       "      <td>5402.42</td>\n",
       "      <td>54003657.44</td>\n",
       "      <td>1.126911</td>\n",
       "      <td>516500.0</td>\n",
       "      <td>439549</td>\n",
       "      <td>6.353030e+12</td>\n",
       "      <td>65.625219</td>\n",
       "      <td>871033405.3</td>\n",
       "      <td>NaN</td>\n",
       "      <td>160.85</td>\n",
       "      <td>73.68</td>\n",
       "      <td>271.97</td>\n",
       "      <td>0.069020</td>\n",
       "      <td>8036.770020</td>\n",
       "      <td>26307.78906</td>\n",
       "      <td>NaN</td>\n",
       "    </tr>\n",
       "    <tr>\n",
       "      <th>1</th>\n",
       "      <td>01/05/2019</td>\n",
       "      <td>5350.91</td>\n",
       "      <td>44213520.72</td>\n",
       "      <td>1.295071</td>\n",
       "      <td>551918.0</td>\n",
       "      <td>346486</td>\n",
       "      <td>6.353030e+12</td>\n",
       "      <td>85.484635</td>\n",
       "      <td>825666161.7</td>\n",
       "      <td>NaN</td>\n",
       "      <td>162.19</td>\n",
       "      <td>74.30</td>\n",
       "      <td>267.99</td>\n",
       "      <td>0.070338</td>\n",
       "      <td>8049.640137</td>\n",
       "      <td>26430.14063</td>\n",
       "      <td>NaN</td>\n",
       "    </tr>\n",
       "    <tr>\n",
       "      <th>2</th>\n",
       "      <td>30/04/2019</td>\n",
       "      <td>5247.73</td>\n",
       "      <td>51477170.55</td>\n",
       "      <td>1.203268</td>\n",
       "      <td>529709.0</td>\n",
       "      <td>363207</td>\n",
       "      <td>6.353030e+12</td>\n",
       "      <td>70.954700</td>\n",
       "      <td>883853257.1</td>\n",
       "      <td>NaN</td>\n",
       "      <td>155.17</td>\n",
       "      <td>67.95</td>\n",
       "      <td>237.57</td>\n",
       "      <td>0.064661</td>\n",
       "      <td>8095.390137</td>\n",
       "      <td>26592.91016</td>\n",
       "      <td>NaN</td>\n",
       "    </tr>\n",
       "    <tr>\n",
       "      <th>3</th>\n",
       "      <td>29/04/2019</td>\n",
       "      <td>5284.86</td>\n",
       "      <td>51477170.55</td>\n",
       "      <td>0.977574</td>\n",
       "      <td>406877.0</td>\n",
       "      <td>383291</td>\n",
       "      <td>6.353030e+12</td>\n",
       "      <td>47.953930</td>\n",
       "      <td>437115221.3</td>\n",
       "      <td>NaN</td>\n",
       "      <td>157.29</td>\n",
       "      <td>69.78</td>\n",
       "      <td>255.55</td>\n",
       "      <td>0.068620</td>\n",
       "      <td>8161.850098</td>\n",
       "      <td>26554.39063</td>\n",
       "      <td>NaN</td>\n",
       "    </tr>\n",
       "    <tr>\n",
       "      <th>4</th>\n",
       "      <td>28/04/2019</td>\n",
       "      <td>5271.75</td>\n",
       "      <td>43266088.13</td>\n",
       "      <td>1.170310</td>\n",
       "      <td>421593.0</td>\n",
       "      <td>359008</td>\n",
       "      <td>6.353030e+12</td>\n",
       "      <td>54.420927</td>\n",
       "      <td>453051882.7</td>\n",
       "      <td>NaN</td>\n",
       "      <td>158.50</td>\n",
       "      <td>72.12</td>\n",
       "      <td>264.12</td>\n",
       "      <td>0.070189</td>\n",
       "      <td>NaN</td>\n",
       "      <td>NaN</td>\n",
       "      <td>NaN</td>\n",
       "    </tr>\n",
       "  </tbody>\n",
       "</table>\n",
       "</div>"
      ],
      "text/plain": [
       "         date  BTC price  BTC network hashrate  Average BTC block size  \\\n",
       "0  02/05/2019    5402.42           54003657.44                1.126911   \n",
       "1  01/05/2019    5350.91           44213520.72                1.295071   \n",
       "2  30/04/2019    5247.73           51477170.55                1.203268   \n",
       "3  29/04/2019    5284.86           51477170.55                0.977574   \n",
       "4  28/04/2019    5271.75           43266088.13                1.170310   \n",
       "\n",
       "   NUAU - BTC  Number TX - BTC  Difficulty - BTC  TX fees - BTC  \\\n",
       "0    516500.0           439549      6.353030e+12      65.625219   \n",
       "1    551918.0           346486      6.353030e+12      85.484635   \n",
       "2    529709.0           363207      6.353030e+12      70.954700   \n",
       "3    406877.0           383291      6.353030e+12      47.953930   \n",
       "4    421593.0           359008      6.353030e+12      54.420927   \n",
       "\n",
       "   Estimated TX Volume USD - BTC  Gold in USD  Ethereum Price  Litecoin Price  \\\n",
       "0                    871033405.3          NaN          160.85           73.68   \n",
       "1                    825666161.7          NaN          162.19           74.30   \n",
       "2                    883853257.1          NaN          155.17           67.95   \n",
       "3                    437115221.3          NaN          157.29           69.78   \n",
       "4                    453051882.7          NaN          158.50           72.12   \n",
       "\n",
       "   Bitcoin Cash Price  Cardano Price  Nasdaq composite index          DJI  \\\n",
       "0              271.97       0.069020             8036.770020  26307.78906   \n",
       "1              267.99       0.070338             8049.640137  26430.14063   \n",
       "2              237.57       0.064661             8095.390137  26592.91016   \n",
       "3              255.55       0.068620             8161.850098  26554.39063   \n",
       "4              264.12       0.070189                     NaN          NaN   \n",
       "\n",
       "  Google trends  \n",
       "0           NaN  \n",
       "1           NaN  \n",
       "2           NaN  \n",
       "3           NaN  \n",
       "4           NaN  "
      ]
     },
     "execution_count": 38,
     "metadata": {},
     "output_type": "execute_result"
    }
   ],
   "source": [
    "crypto_raw.head()"
   ]
  },
  {
   "cell_type": "code",
   "execution_count": 39,
   "metadata": {},
   "outputs": [],
   "source": [
    "crypto_raw1=crypto_raw.drop(['date','Google trends','Gold in USD'],axis=1)"
   ]
  },
  {
   "cell_type": "code",
   "execution_count": 34,
   "metadata": {},
   "outputs": [
    {
     "name": "stdout",
     "output_type": "stream",
     "text": [
      "<class 'pandas.core.frame.DataFrame'>\n",
      "RangeIndex: 3772 entries, 0 to 3771\n",
      "Data columns (total 14 columns):\n",
      " #   Column                         Non-Null Count  Dtype  \n",
      "---  ------                         --------------  -----  \n",
      " 0   BTC price                      3772 non-null   float64\n",
      " 1   BTC network hashrate           3771 non-null   float64\n",
      " 2   Average BTC block size         3772 non-null   float64\n",
      " 3   NUAU - BTC                     3764 non-null   float64\n",
      " 4   Number TX - BTC                3772 non-null   int64  \n",
      " 5   Difficulty - BTC               3772 non-null   float64\n",
      " 6   TX fees - BTC                  3772 non-null   float64\n",
      " 7   Estimated TX Volume USD - BTC  3772 non-null   float64\n",
      " 8   Ethereum Price                 1373 non-null   float64\n",
      " 9   Litecoin Price                 2765 non-null   float64\n",
      " 10  Bitcoin Cash Price             649 non-null    float64\n",
      " 11  Cardano Price                  579 non-null    float64\n",
      " 12  Nasdaq composite index         2599 non-null   float64\n",
      " 13  DJI                            2599 non-null   float64\n",
      "dtypes: float64(13), int64(1)\n",
      "memory usage: 412.7 KB\n"
     ]
    }
   ],
   "source": [
    "crypto_raw1.info()"
   ]
  },
  {
   "cell_type": "code",
   "execution_count": 40,
   "metadata": {},
   "outputs": [
    {
     "data": {
      "text/plain": [
       "BTC price                           0\n",
       "BTC network hashrate                1\n",
       "Average BTC block size              0\n",
       "NUAU - BTC                          8\n",
       "Number TX - BTC                     0\n",
       "Difficulty - BTC                    0\n",
       "TX fees - BTC                       0\n",
       "Estimated TX Volume USD - BTC       0\n",
       "Ethereum Price                   2399\n",
       "Litecoin Price                   1007\n",
       "Bitcoin Cash Price               3123\n",
       "Cardano Price                    3193\n",
       "Nasdaq composite index           1173\n",
       "DJI                              1173\n",
       "dtype: int64"
      ]
     },
     "execution_count": 40,
     "metadata": {},
     "output_type": "execute_result"
    }
   ],
   "source": [
    "# Count blank or NA\n",
    "crypto_raw1.isnull().sum()"
   ]
  },
  {
   "cell_type": "code",
   "execution_count": 41,
   "metadata": {},
   "outputs": [],
   "source": [
    "crypto_raw1=crypto_raw1.dropna()"
   ]
  },
  {
   "cell_type": "code",
   "execution_count": 42,
   "metadata": {},
   "outputs": [
    {
     "name": "stdout",
     "output_type": "stream",
     "text": [
      "<class 'pandas.core.frame.DataFrame'>\n",
      "Int64Index: 392 entries, 0 to 577\n",
      "Data columns (total 14 columns):\n",
      " #   Column                         Non-Null Count  Dtype  \n",
      "---  ------                         --------------  -----  \n",
      " 0   BTC price                      392 non-null    float64\n",
      " 1   BTC network hashrate           392 non-null    float64\n",
      " 2   Average BTC block size         392 non-null    float64\n",
      " 3   NUAU - BTC                     392 non-null    float64\n",
      " 4   Number TX - BTC                392 non-null    int64  \n",
      " 5   Difficulty - BTC               392 non-null    float64\n",
      " 6   TX fees - BTC                  392 non-null    float64\n",
      " 7   Estimated TX Volume USD - BTC  392 non-null    float64\n",
      " 8   Ethereum Price                 392 non-null    float64\n",
      " 9   Litecoin Price                 392 non-null    float64\n",
      " 10  Bitcoin Cash Price             392 non-null    float64\n",
      " 11  Cardano Price                  392 non-null    float64\n",
      " 12  Nasdaq composite index         392 non-null    float64\n",
      " 13  DJI                            392 non-null    float64\n",
      "dtypes: float64(13), int64(1)\n",
      "memory usage: 45.9 KB\n"
     ]
    }
   ],
   "source": [
    "crypto_raw1.info()"
   ]
  },
  {
   "cell_type": "code",
   "execution_count": 43,
   "metadata": {},
   "outputs": [],
   "source": [
    "# define X and Y\n",
    "X=crypto_raw1.drop(['BTC price'],axis=1)\n",
    "Y=crypto_raw1['BTC price']"
   ]
  },
  {
   "cell_type": "code",
   "execution_count": 47,
   "metadata": {},
   "outputs": [],
   "source": [
    "# split into train test sets\n",
    "from sklearn.model_selection import train_test_split\n",
    "X_trainRaw, X_testRaw, y_trainRaw, y_testRaw = train_test_split(X, Y, test_size=0.2, random_state=0)"
   ]
  },
  {
   "cell_type": "code",
   "execution_count": 68,
   "metadata": {},
   "outputs": [],
   "source": [
    "trainRaw_NRMSE= []\n",
    "for depth in range(1,15):\n",
    "    forest_reg_raw = RandomForestRegressor(max_depth=depth,random_state=0)\n",
    "    forest_reg_raw.fit(X_trainRaw, y_trainRaw)\n",
    "    pred_trainRaw=forest_reg_raw.predict(X_trainRaw)   \n",
    "    trainRaw_NRMSE.append(np.sqrt(metrics.mean_squared_error(y_trainRaw, pred_trainRaw))/np.std(y_testRaw))"
   ]
  },
  {
   "cell_type": "code",
   "execution_count": 69,
   "metadata": {},
   "outputs": [],
   "source": [
    "# Build a table with NRMSE for train set\n",
    "trainRaw_NRMSE_table= pd.DataFrame({'max_depth':range(1,15), 'trainRaw_NRMSE':trainRaw_NRMSE})"
   ]
  },
  {
   "cell_type": "code",
   "execution_count": 70,
   "metadata": {},
   "outputs": [],
   "source": [
    "testRaw_NRMSE= []\n",
    "for depth in range(1,15):\n",
    "    forest_reg_raw = RandomForestRegressor(max_depth=depth,random_state=0)\n",
    "    forest_reg_raw.fit(X_trainRaw, y_trainRaw)\n",
    "    pred_testRaw=forest_reg_raw.predict(X_testRaw)  \n",
    "    testRaw_NRMSE.append(np.sqrt(metrics.mean_squared_error(y_testRaw, pred_testRaw))/np.std(y_testRaw))"
   ]
  },
  {
   "cell_type": "code",
   "execution_count": 71,
   "metadata": {},
   "outputs": [],
   "source": [
    "# Build a table with NRMSE for test set\n",
    "testRaw_NRMSE_table= pd.DataFrame({'max_depth':range(1,15), 'testRaw_NRMSE':testRaw_NRMSE})"
   ]
  },
  {
   "cell_type": "code",
   "execution_count": 72,
   "metadata": {},
   "outputs": [],
   "source": [
    "merged_table_raw = pd.merge(trainRaw_NRMSE_table,testRaw_NRMSE_table,on='max_depth')"
   ]
  },
  {
   "cell_type": "code",
   "execution_count": 73,
   "metadata": {},
   "outputs": [
    {
     "data": {
      "text/plain": [
       "Text(0, 0.5, 'performance')"
      ]
     },
     "execution_count": 73,
     "metadata": {},
     "output_type": "execute_result"
    },
    {
     "data": {
      "image/png": "[encoded data removed]",
      "text/plain": [
       "<Figure size 432x288 with 1 Axes>"
      ]
     },
     "metadata": {
      "needs_background": "light"
     },
     "output_type": "display_data"
    }
   ],
   "source": [
    "# Plot NRMSE\n",
    "merged_table_raw.plot('max_depth', y=['trainRaw_NRMSE','testRaw_NRMSE'],kind='line',marker='o')\n",
    "plt.xlabel('Depth of tree')\n",
    "plt.ylabel('performance')"
   ]
  },
  {
   "cell_type": "code",
   "execution_count": 74,
   "metadata": {},
   "outputs": [
    {
     "data": {
      "text/html": [
       "<div>\n",
       "<style scoped>\n",
       "    .dataframe tbody tr th:only-of-type {\n",
       "        vertical-align: middle;\n",
       "    }\n",
       "\n",
       "    .dataframe tbody tr th {\n",
       "        vertical-align: top;\n",
       "    }\n",
       "\n",
       "    .dataframe thead th {\n",
       "        text-align: right;\n",
       "    }\n",
       "</style>\n",
       "<table border=\"1\" class=\"dataframe\">\n",
       "  <thead>\n",
       "    <tr style=\"text-align: right;\">\n",
       "      <th></th>\n",
       "      <th>importance</th>\n",
       "    </tr>\n",
       "  </thead>\n",
       "  <tbody>\n",
       "    <tr>\n",
       "      <th>Bitcoin Cash Price</th>\n",
       "      <td>0.668034</td>\n",
       "    </tr>\n",
       "    <tr>\n",
       "      <th>Estimated TX Volume USD - BTC</th>\n",
       "      <td>0.160820</td>\n",
       "    </tr>\n",
       "    <tr>\n",
       "      <th>Litecoin Price</th>\n",
       "      <td>0.098390</td>\n",
       "    </tr>\n",
       "    <tr>\n",
       "      <th>TX fees - BTC</th>\n",
       "      <td>0.027215</td>\n",
       "    </tr>\n",
       "    <tr>\n",
       "      <th>BTC network hashrate</th>\n",
       "      <td>0.011296</td>\n",
       "    </tr>\n",
       "    <tr>\n",
       "      <th>Difficulty - BTC</th>\n",
       "      <td>0.006673</td>\n",
       "    </tr>\n",
       "    <tr>\n",
       "      <th>Ethereum Price</th>\n",
       "      <td>0.006367</td>\n",
       "    </tr>\n",
       "    <tr>\n",
       "      <th>Cardano Price</th>\n",
       "      <td>0.004871</td>\n",
       "    </tr>\n",
       "    <tr>\n",
       "      <th>Nasdaq composite index</th>\n",
       "      <td>0.004134</td>\n",
       "    </tr>\n",
       "    <tr>\n",
       "      <th>Number TX - BTC</th>\n",
       "      <td>0.003595</td>\n",
       "    </tr>\n",
       "    <tr>\n",
       "      <th>DJI</th>\n",
       "      <td>0.003194</td>\n",
       "    </tr>\n",
       "    <tr>\n",
       "      <th>NUAU - BTC</th>\n",
       "      <td>0.002986</td>\n",
       "    </tr>\n",
       "    <tr>\n",
       "      <th>Average BTC block size</th>\n",
       "      <td>0.002425</td>\n",
       "    </tr>\n",
       "  </tbody>\n",
       "</table>\n",
       "</div>"
      ],
      "text/plain": [
       "                               importance\n",
       "Bitcoin Cash Price               0.668034\n",
       "Estimated TX Volume USD - BTC    0.160820\n",
       "Litecoin Price                   0.098390\n",
       "TX fees - BTC                    0.027215\n",
       "BTC network hashrate             0.011296\n",
       "Difficulty - BTC                 0.006673\n",
       "Ethereum Price                   0.006367\n",
       "Cardano Price                    0.004871\n",
       "Nasdaq composite index           0.004134\n",
       "Number TX - BTC                  0.003595\n",
       "DJI                              0.003194\n",
       "NUAU - BTC                       0.002986\n",
       "Average BTC block size           0.002425"
      ]
     },
     "execution_count": 74,
     "metadata": {},
     "output_type": "execute_result"
    }
   ],
   "source": [
    "feature_importances_raw = pd.DataFrame(forest_reg_raw.feature_importances_,\n",
    "                                   index = X_trainRaw.columns,\n",
    "                                    columns=['importance']).sort_values('importance',ascending=False)\n",
    "feature_importances_raw"
   ]
  },
  {
   "cell_type": "code",
   "execution_count": null,
   "metadata": {},
   "outputs": [],
   "source": []
  }
 ],
 "metadata": {
  "kernelspec": {
   "display_name": "Python 3",
   "language": "python",
   "name": "python3"
  },
  "language_info": {
   "codemirror_mode": {
    "name": "ipython",
    "version": 3
   },
   "file_extension": ".py",
   "mimetype": "text/x-python",
   "name": "python",
   "nbconvert_exporter": "python",
   "pygments_lexer": "ipython3",
   "version": "3.8.3"
  }
 },
 "nbformat": 4,
 "nbformat_minor": 4
}
